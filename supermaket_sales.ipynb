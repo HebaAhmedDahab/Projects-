{
  "cells": [
    {
      "cell_type": "markdown",
      "metadata": {
        "id": "view-in-github",
        "colab_type": "text"
      },
      "source": [
        "<a href=\"https://colab.research.google.com/github/HebaAhmedDahab/Projects-/blob/main/supermaket_sales.ipynb\" target=\"_parent\"><img src=\"https://colab.research.google.com/assets/colab-badge.svg\" alt=\"Open In Colab\"/></a>"
      ]
    },
    {
      "cell_type": "code",
      "execution_count": 1,
      "metadata": {
        "id": "IV0i_9UEli_T"
      },
      "outputs": [],
      "source": [
        "import pandas as pd\n",
        "import numpy as np\n",
        "import matplotlib.pyplot as plt\n",
        "import seaborn as sns"
      ]
    },
    {
      "cell_type": "code",
      "execution_count": 2,
      "metadata": {
        "id": "myPxRCGlIGtG",
        "colab": {
          "base_uri": "https://localhost:8080/",
          "height": 294
        },
        "outputId": "e90a0c2d-1668-468f-9e27-fbb08d819d0c"
      },
      "outputs": [
        {
          "output_type": "execute_result",
          "data": {
            "text/plain": [
              "   Unnamed: 0   Invoice ID Branch       City Customer type  Gender  \\\n",
              "0           0  750-67-8428      A     Yangon        Member  Female   \n",
              "1           1  226-31-3081      C  Naypyitaw        Normal  Female   \n",
              "2           2  631-41-3108      A     Yangon        Normal    Male   \n",
              "\n",
              "             Product line  Unit price  Quantity   Tax 5%     Total  \\\n",
              "0       Health and beauty       74.69         7  26.1415  548.9715   \n",
              "1  Electronic accessories       15.28         5   3.8200   80.2200   \n",
              "2      Home and lifestyle       46.33         7  16.2155  340.5255   \n",
              "\n",
              "         Date   Time      Payment    cogs  gross margin percentage  \\\n",
              "0  2019-01-05  13:08      Ewallet  522.83                 4.761905   \n",
              "1  2019-03-08  10:29         Cash   76.40                 4.761905   \n",
              "2  2019-03-03  13:23  Credit card  324.31                 4.761905   \n",
              "\n",
              "   gross income  Rating  \n",
              "0       26.1415     9.1  \n",
              "1        3.8200     9.6  \n",
              "2       16.2155     7.4  "
            ],
            "text/html": [
              "\n",
              "  <div id=\"df-fdd28d4b-85b5-4717-98c4-4b005c7d79b2\">\n",
              "    <div class=\"colab-df-container\">\n",
              "      <div>\n",
              "<style scoped>\n",
              "    .dataframe tbody tr th:only-of-type {\n",
              "        vertical-align: middle;\n",
              "    }\n",
              "\n",
              "    .dataframe tbody tr th {\n",
              "        vertical-align: top;\n",
              "    }\n",
              "\n",
              "    .dataframe thead th {\n",
              "        text-align: right;\n",
              "    }\n",
              "</style>\n",
              "<table border=\"1\" class=\"dataframe\">\n",
              "  <thead>\n",
              "    <tr style=\"text-align: right;\">\n",
              "      <th></th>\n",
              "      <th>Unnamed: 0</th>\n",
              "      <th>Invoice ID</th>\n",
              "      <th>Branch</th>\n",
              "      <th>City</th>\n",
              "      <th>Customer type</th>\n",
              "      <th>Gender</th>\n",
              "      <th>Product line</th>\n",
              "      <th>Unit price</th>\n",
              "      <th>Quantity</th>\n",
              "      <th>Tax 5%</th>\n",
              "      <th>Total</th>\n",
              "      <th>Date</th>\n",
              "      <th>Time</th>\n",
              "      <th>Payment</th>\n",
              "      <th>cogs</th>\n",
              "      <th>gross margin percentage</th>\n",
              "      <th>gross income</th>\n",
              "      <th>Rating</th>\n",
              "    </tr>\n",
              "  </thead>\n",
              "  <tbody>\n",
              "    <tr>\n",
              "      <th>0</th>\n",
              "      <td>0</td>\n",
              "      <td>750-67-8428</td>\n",
              "      <td>A</td>\n",
              "      <td>Yangon</td>\n",
              "      <td>Member</td>\n",
              "      <td>Female</td>\n",
              "      <td>Health and beauty</td>\n",
              "      <td>74.69</td>\n",
              "      <td>7</td>\n",
              "      <td>26.1415</td>\n",
              "      <td>548.9715</td>\n",
              "      <td>2019-01-05</td>\n",
              "      <td>13:08</td>\n",
              "      <td>Ewallet</td>\n",
              "      <td>522.83</td>\n",
              "      <td>4.761905</td>\n",
              "      <td>26.1415</td>\n",
              "      <td>9.1</td>\n",
              "    </tr>\n",
              "    <tr>\n",
              "      <th>1</th>\n",
              "      <td>1</td>\n",
              "      <td>226-31-3081</td>\n",
              "      <td>C</td>\n",
              "      <td>Naypyitaw</td>\n",
              "      <td>Normal</td>\n",
              "      <td>Female</td>\n",
              "      <td>Electronic accessories</td>\n",
              "      <td>15.28</td>\n",
              "      <td>5</td>\n",
              "      <td>3.8200</td>\n",
              "      <td>80.2200</td>\n",
              "      <td>2019-03-08</td>\n",
              "      <td>10:29</td>\n",
              "      <td>Cash</td>\n",
              "      <td>76.40</td>\n",
              "      <td>4.761905</td>\n",
              "      <td>3.8200</td>\n",
              "      <td>9.6</td>\n",
              "    </tr>\n",
              "    <tr>\n",
              "      <th>2</th>\n",
              "      <td>2</td>\n",
              "      <td>631-41-3108</td>\n",
              "      <td>A</td>\n",
              "      <td>Yangon</td>\n",
              "      <td>Normal</td>\n",
              "      <td>Male</td>\n",
              "      <td>Home and lifestyle</td>\n",
              "      <td>46.33</td>\n",
              "      <td>7</td>\n",
              "      <td>16.2155</td>\n",
              "      <td>340.5255</td>\n",
              "      <td>2019-03-03</td>\n",
              "      <td>13:23</td>\n",
              "      <td>Credit card</td>\n",
              "      <td>324.31</td>\n",
              "      <td>4.761905</td>\n",
              "      <td>16.2155</td>\n",
              "      <td>7.4</td>\n",
              "    </tr>\n",
              "  </tbody>\n",
              "</table>\n",
              "</div>\n",
              "      <button class=\"colab-df-convert\" onclick=\"convertToInteractive('df-fdd28d4b-85b5-4717-98c4-4b005c7d79b2')\"\n",
              "              title=\"Convert this dataframe to an interactive table.\"\n",
              "              style=\"display:none;\">\n",
              "        \n",
              "  <svg xmlns=\"http://www.w3.org/2000/svg\" height=\"24px\"viewBox=\"0 0 24 24\"\n",
              "       width=\"24px\">\n",
              "    <path d=\"M0 0h24v24H0V0z\" fill=\"none\"/>\n",
              "    <path d=\"M18.56 5.44l.94 2.06.94-2.06 2.06-.94-2.06-.94-.94-2.06-.94 2.06-2.06.94zm-11 1L8.5 8.5l.94-2.06 2.06-.94-2.06-.94L8.5 2.5l-.94 2.06-2.06.94zm10 10l.94 2.06.94-2.06 2.06-.94-2.06-.94-.94-2.06-.94 2.06-2.06.94z\"/><path d=\"M17.41 7.96l-1.37-1.37c-.4-.4-.92-.59-1.43-.59-.52 0-1.04.2-1.43.59L10.3 9.45l-7.72 7.72c-.78.78-.78 2.05 0 2.83L4 21.41c.39.39.9.59 1.41.59.51 0 1.02-.2 1.41-.59l7.78-7.78 2.81-2.81c.8-.78.8-2.07 0-2.86zM5.41 20L4 18.59l7.72-7.72 1.47 1.35L5.41 20z\"/>\n",
              "  </svg>\n",
              "      </button>\n",
              "      \n",
              "  <style>\n",
              "    .colab-df-container {\n",
              "      display:flex;\n",
              "      flex-wrap:wrap;\n",
              "      gap: 12px;\n",
              "    }\n",
              "\n",
              "    .colab-df-convert {\n",
              "      background-color: #E8F0FE;\n",
              "      border: none;\n",
              "      border-radius: 50%;\n",
              "      cursor: pointer;\n",
              "      display: none;\n",
              "      fill: #1967D2;\n",
              "      height: 32px;\n",
              "      padding: 0 0 0 0;\n",
              "      width: 32px;\n",
              "    }\n",
              "\n",
              "    .colab-df-convert:hover {\n",
              "      background-color: #E2EBFA;\n",
              "      box-shadow: 0px 1px 2px rgba(60, 64, 67, 0.3), 0px 1px 3px 1px rgba(60, 64, 67, 0.15);\n",
              "      fill: #174EA6;\n",
              "    }\n",
              "\n",
              "    [theme=dark] .colab-df-convert {\n",
              "      background-color: #3B4455;\n",
              "      fill: #D2E3FC;\n",
              "    }\n",
              "\n",
              "    [theme=dark] .colab-df-convert:hover {\n",
              "      background-color: #434B5C;\n",
              "      box-shadow: 0px 1px 3px 1px rgba(0, 0, 0, 0.15);\n",
              "      filter: drop-shadow(0px 1px 2px rgba(0, 0, 0, 0.3));\n",
              "      fill: #FFFFFF;\n",
              "    }\n",
              "  </style>\n",
              "\n",
              "      <script>\n",
              "        const buttonEl =\n",
              "          document.querySelector('#df-fdd28d4b-85b5-4717-98c4-4b005c7d79b2 button.colab-df-convert');\n",
              "        buttonEl.style.display =\n",
              "          google.colab.kernel.accessAllowed ? 'block' : 'none';\n",
              "\n",
              "        async function convertToInteractive(key) {\n",
              "          const element = document.querySelector('#df-fdd28d4b-85b5-4717-98c4-4b005c7d79b2');\n",
              "          const dataTable =\n",
              "            await google.colab.kernel.invokeFunction('convertToInteractive',\n",
              "                                                     [key], {});\n",
              "          if (!dataTable) return;\n",
              "\n",
              "          const docLinkHtml = 'Like what you see? Visit the ' +\n",
              "            '<a target=\"_blank\" href=https://colab.research.google.com/notebooks/data_table.ipynb>data table notebook</a>'\n",
              "            + ' to learn more about interactive tables.';\n",
              "          element.innerHTML = '';\n",
              "          dataTable['output_type'] = 'display_data';\n",
              "          await google.colab.output.renderOutput(dataTable, element);\n",
              "          const docLink = document.createElement('div');\n",
              "          docLink.innerHTML = docLinkHtml;\n",
              "          element.appendChild(docLink);\n",
              "        }\n",
              "      </script>\n",
              "    </div>\n",
              "  </div>\n",
              "  "
            ]
          },
          "metadata": {},
          "execution_count": 2
        }
      ],
      "source": [
        "supermarket = pd.read_csv(\"/content/supermarket.csv\")\n",
        "supermarket.head(3)"
      ]
    },
    {
      "cell_type": "code",
      "execution_count": 3,
      "metadata": {
        "id": "3RuRUgqsDeAX"
      },
      "outputs": [],
      "source": [
        "#round the columns to nearest decimal\n",
        "supermarket['Tax 5%'] = supermarket['Tax 5%'].round(1)\n",
        "supermarket['Total'] = supermarket['Total'].round(1)\n",
        "supermarket['gross margin percentage'] = supermarket['gross margin percentage'].round(1)\n",
        "supermarket['gross income'] = supermarket['gross income'].round(0)\n",
        "\n",
        "supermarket = supermarket.drop('Unnamed: 0',axis=1) #dropping the column coz is unneeded (its an index but we already have one)"
      ]
    },
    {
      "cell_type": "code",
      "source": [
        "#converting to datetime\n",
        "supermarket['Date'] = pd.to_datetime(supermarket['Date'], errors='coerce')"
      ],
      "metadata": {
        "id": "JlsuyiJxAm59"
      },
      "execution_count": 4,
      "outputs": []
    },
    {
      "cell_type": "code",
      "execution_count": 5,
      "metadata": {
        "id": "Q5iJN0eJA3HV",
        "colab": {
          "base_uri": "https://localhost:8080/"
        },
        "outputId": "1d26bed6-e317-44f4-91cf-779e086906ae"
      },
      "outputs": [
        {
          "output_type": "execute_result",
          "data": {
            "text/plain": [
              "array(['A', 'C', 'B'], dtype=object)"
            ]
          },
          "metadata": {},
          "execution_count": 5
        }
      ],
      "source": [
        "supermarket['Branch'].unique() #checking the unique values  "
      ]
    },
    {
      "cell_type": "code",
      "execution_count": 6,
      "metadata": {
        "id": "VKLIEAMoZaO-",
        "colab": {
          "base_uri": "https://localhost:8080/"
        },
        "outputId": "30656cb8-1fdf-4645-b2f4-be2e9d81a547"
      },
      "outputs": [
        {
          "output_type": "stream",
          "name": "stdout",
          "text": [
            "<class 'pandas.core.frame.DataFrame'>\n",
            "RangeIndex: 1000 entries, 0 to 999\n",
            "Data columns (total 17 columns):\n",
            " #   Column                   Non-Null Count  Dtype         \n",
            "---  ------                   --------------  -----         \n",
            " 0   Invoice ID               1000 non-null   object        \n",
            " 1   Branch                   1000 non-null   object        \n",
            " 2   City                     1000 non-null   object        \n",
            " 3   Customer type            1000 non-null   object        \n",
            " 4   Gender                   1000 non-null   object        \n",
            " 5   Product line             1000 non-null   object        \n",
            " 6   Unit price               1000 non-null   float64       \n",
            " 7   Quantity                 1000 non-null   int64         \n",
            " 8   Tax 5%                   1000 non-null   float64       \n",
            " 9   Total                    1000 non-null   float64       \n",
            " 10  Date                     1000 non-null   datetime64[ns]\n",
            " 11  Time                     1000 non-null   object        \n",
            " 12  Payment                  1000 non-null   object        \n",
            " 13  cogs                     1000 non-null   float64       \n",
            " 14  gross margin percentage  1000 non-null   float64       \n",
            " 15  gross income             1000 non-null   float64       \n",
            " 16  Rating                   1000 non-null   float64       \n",
            "dtypes: datetime64[ns](1), float64(7), int64(1), object(8)\n",
            "memory usage: 132.9+ KB\n"
          ]
        }
      ],
      "source": [
        "supermarket.info()"
      ]
    },
    {
      "cell_type": "code",
      "execution_count": 7,
      "metadata": {
        "id": "WnmW6wpKaZJF",
        "colab": {
          "base_uri": "https://localhost:8080/"
        },
        "outputId": "af4dd19e-e50f-4eba-a2bf-5302906e473c"
      },
      "outputs": [
        {
          "output_type": "execute_result",
          "data": {
            "text/plain": [
              "(1000, 17)"
            ]
          },
          "metadata": {},
          "execution_count": 7
        }
      ],
      "source": [
        "supermarket.shape"
      ]
    },
    {
      "cell_type": "code",
      "execution_count": 8,
      "metadata": {
        "id": "wLTEKERVdEa0",
        "colab": {
          "base_uri": "https://localhost:8080/"
        },
        "outputId": "f59e8d0d-4538-4ee8-aa3a-d87418cac12e"
      },
      "outputs": [
        {
          "output_type": "execute_result",
          "data": {
            "text/plain": [
              "0"
            ]
          },
          "metadata": {},
          "execution_count": 8
        }
      ],
      "source": [
        "supermarket.duplicated().sum()"
      ]
    },
    {
      "cell_type": "code",
      "execution_count": 9,
      "metadata": {
        "colab": {
          "base_uri": "https://localhost:8080/"
        },
        "id": "Nu0AuGy1dPvg",
        "outputId": "d94be41d-4af6-44b0-9365-474daf18e93b"
      },
      "outputs": [
        {
          "output_type": "execute_result",
          "data": {
            "text/plain": [
              "Invoice ID                 0\n",
              "Branch                     0\n",
              "City                       0\n",
              "Customer type              0\n",
              "Gender                     0\n",
              "Product line               0\n",
              "Unit price                 0\n",
              "Quantity                   0\n",
              "Tax 5%                     0\n",
              "Total                      0\n",
              "Date                       0\n",
              "Time                       0\n",
              "Payment                    0\n",
              "cogs                       0\n",
              "gross margin percentage    0\n",
              "gross income               0\n",
              "Rating                     0\n",
              "dtype: int64"
            ]
          },
          "metadata": {},
          "execution_count": 9
        }
      ],
      "source": [
        "supermarket.isnull().sum()"
      ]
    },
    {
      "cell_type": "code",
      "execution_count": 10,
      "metadata": {
        "colab": {
          "base_uri": "https://localhost:8080/"
        },
        "id": "ujhD0AtOgLOI",
        "outputId": "2fed77f7-1fe1-4b37-80d8-4cda58a02c5b"
      },
      "outputs": [
        {
          "output_type": "execute_result",
          "data": {
            "text/plain": [
              "Ewallet        345\n",
              "Cash           344\n",
              "Credit Card    311\n",
              "Name: Payment, dtype: int64"
            ]
          },
          "metadata": {},
          "execution_count": 10
        }
      ],
      "source": [
        "#make the first characters of the words are capitalized and counting the unique values\n",
        "supermarket['City'].str.title().value_counts(dropna=False)\n",
        "supermarket['Customer type'].str.title().value_counts(dropna=False)\n",
        "supermarket['Gender'].str.title().value_counts(dropna=False)\n",
        "supermarket['Product line'].str.title().value_counts(dropna=False)\n",
        "supermarket['Payment'].str.title().value_counts(dropna=False)"
      ]
    },
    {
      "cell_type": "markdown",
      "source": [
        "#we have 3 branches (A,B and C) \n",
        "# will split the branches and exploring each one "
      ],
      "metadata": {
        "id": "ll2GXmMhk01W"
      }
    },
    {
      "cell_type": "markdown",
      "metadata": {
        "id": "qmbQBU49Tmh0"
      },
      "source": [
        "#Branch A \n"
      ]
    },
    {
      "cell_type": "code",
      "execution_count": 11,
      "metadata": {
        "id": "84ImZcCnQNR9",
        "colab": {
          "base_uri": "https://localhost:8080/",
          "height": 346
        },
        "outputId": "46b1e50d-24ad-4027-c874-e3594ffc9521"
      },
      "outputs": [
        {
          "output_type": "execute_result",
          "data": {
            "text/plain": [
              "    Invoice ID Branch    City Customer type  Gender        Product line  \\\n",
              "0  750-67-8428      A  Yangon        Member  Female   Health and beauty   \n",
              "2  631-41-3108      A  Yangon        Normal    Male  Home and lifestyle   \n",
              "3  123-19-1176      A  Yangon        Member    Male   Health and beauty   \n",
              "\n",
              "   Unit price  Quantity  Tax 5%  Total       Date   Time      Payment    cogs  \\\n",
              "0       74.69         7    26.1  549.0 2019-01-05  13:08      Ewallet  522.83   \n",
              "2       46.33         7    16.2  340.5 2019-03-03  13:23  Credit card  324.31   \n",
              "3       58.22         8    23.3  489.0 2019-01-27  20:33      Ewallet  465.76   \n",
              "\n",
              "   gross margin percentage  gross income  Rating  \n",
              "0                      4.8          26.0     9.1  \n",
              "2                      4.8          16.0     7.4  \n",
              "3                      4.8          23.0     8.4  "
            ],
            "text/html": [
              "\n",
              "  <div id=\"df-c73f1982-1aee-4d2f-a248-7e300ae7dc2e\">\n",
              "    <div class=\"colab-df-container\">\n",
              "      <div>\n",
              "<style scoped>\n",
              "    .dataframe tbody tr th:only-of-type {\n",
              "        vertical-align: middle;\n",
              "    }\n",
              "\n",
              "    .dataframe tbody tr th {\n",
              "        vertical-align: top;\n",
              "    }\n",
              "\n",
              "    .dataframe thead th {\n",
              "        text-align: right;\n",
              "    }\n",
              "</style>\n",
              "<table border=\"1\" class=\"dataframe\">\n",
              "  <thead>\n",
              "    <tr style=\"text-align: right;\">\n",
              "      <th></th>\n",
              "      <th>Invoice ID</th>\n",
              "      <th>Branch</th>\n",
              "      <th>City</th>\n",
              "      <th>Customer type</th>\n",
              "      <th>Gender</th>\n",
              "      <th>Product line</th>\n",
              "      <th>Unit price</th>\n",
              "      <th>Quantity</th>\n",
              "      <th>Tax 5%</th>\n",
              "      <th>Total</th>\n",
              "      <th>Date</th>\n",
              "      <th>Time</th>\n",
              "      <th>Payment</th>\n",
              "      <th>cogs</th>\n",
              "      <th>gross margin percentage</th>\n",
              "      <th>gross income</th>\n",
              "      <th>Rating</th>\n",
              "    </tr>\n",
              "  </thead>\n",
              "  <tbody>\n",
              "    <tr>\n",
              "      <th>0</th>\n",
              "      <td>750-67-8428</td>\n",
              "      <td>A</td>\n",
              "      <td>Yangon</td>\n",
              "      <td>Member</td>\n",
              "      <td>Female</td>\n",
              "      <td>Health and beauty</td>\n",
              "      <td>74.69</td>\n",
              "      <td>7</td>\n",
              "      <td>26.1</td>\n",
              "      <td>549.0</td>\n",
              "      <td>2019-01-05</td>\n",
              "      <td>13:08</td>\n",
              "      <td>Ewallet</td>\n",
              "      <td>522.83</td>\n",
              "      <td>4.8</td>\n",
              "      <td>26.0</td>\n",
              "      <td>9.1</td>\n",
              "    </tr>\n",
              "    <tr>\n",
              "      <th>2</th>\n",
              "      <td>631-41-3108</td>\n",
              "      <td>A</td>\n",
              "      <td>Yangon</td>\n",
              "      <td>Normal</td>\n",
              "      <td>Male</td>\n",
              "      <td>Home and lifestyle</td>\n",
              "      <td>46.33</td>\n",
              "      <td>7</td>\n",
              "      <td>16.2</td>\n",
              "      <td>340.5</td>\n",
              "      <td>2019-03-03</td>\n",
              "      <td>13:23</td>\n",
              "      <td>Credit card</td>\n",
              "      <td>324.31</td>\n",
              "      <td>4.8</td>\n",
              "      <td>16.0</td>\n",
              "      <td>7.4</td>\n",
              "    </tr>\n",
              "    <tr>\n",
              "      <th>3</th>\n",
              "      <td>123-19-1176</td>\n",
              "      <td>A</td>\n",
              "      <td>Yangon</td>\n",
              "      <td>Member</td>\n",
              "      <td>Male</td>\n",
              "      <td>Health and beauty</td>\n",
              "      <td>58.22</td>\n",
              "      <td>8</td>\n",
              "      <td>23.3</td>\n",
              "      <td>489.0</td>\n",
              "      <td>2019-01-27</td>\n",
              "      <td>20:33</td>\n",
              "      <td>Ewallet</td>\n",
              "      <td>465.76</td>\n",
              "      <td>4.8</td>\n",
              "      <td>23.0</td>\n",
              "      <td>8.4</td>\n",
              "    </tr>\n",
              "  </tbody>\n",
              "</table>\n",
              "</div>\n",
              "      <button class=\"colab-df-convert\" onclick=\"convertToInteractive('df-c73f1982-1aee-4d2f-a248-7e300ae7dc2e')\"\n",
              "              title=\"Convert this dataframe to an interactive table.\"\n",
              "              style=\"display:none;\">\n",
              "        \n",
              "  <svg xmlns=\"http://www.w3.org/2000/svg\" height=\"24px\"viewBox=\"0 0 24 24\"\n",
              "       width=\"24px\">\n",
              "    <path d=\"M0 0h24v24H0V0z\" fill=\"none\"/>\n",
              "    <path d=\"M18.56 5.44l.94 2.06.94-2.06 2.06-.94-2.06-.94-.94-2.06-.94 2.06-2.06.94zm-11 1L8.5 8.5l.94-2.06 2.06-.94-2.06-.94L8.5 2.5l-.94 2.06-2.06.94zm10 10l.94 2.06.94-2.06 2.06-.94-2.06-.94-.94-2.06-.94 2.06-2.06.94z\"/><path d=\"M17.41 7.96l-1.37-1.37c-.4-.4-.92-.59-1.43-.59-.52 0-1.04.2-1.43.59L10.3 9.45l-7.72 7.72c-.78.78-.78 2.05 0 2.83L4 21.41c.39.39.9.59 1.41.59.51 0 1.02-.2 1.41-.59l7.78-7.78 2.81-2.81c.8-.78.8-2.07 0-2.86zM5.41 20L4 18.59l7.72-7.72 1.47 1.35L5.41 20z\"/>\n",
              "  </svg>\n",
              "      </button>\n",
              "      \n",
              "  <style>\n",
              "    .colab-df-container {\n",
              "      display:flex;\n",
              "      flex-wrap:wrap;\n",
              "      gap: 12px;\n",
              "    }\n",
              "\n",
              "    .colab-df-convert {\n",
              "      background-color: #E8F0FE;\n",
              "      border: none;\n",
              "      border-radius: 50%;\n",
              "      cursor: pointer;\n",
              "      display: none;\n",
              "      fill: #1967D2;\n",
              "      height: 32px;\n",
              "      padding: 0 0 0 0;\n",
              "      width: 32px;\n",
              "    }\n",
              "\n",
              "    .colab-df-convert:hover {\n",
              "      background-color: #E2EBFA;\n",
              "      box-shadow: 0px 1px 2px rgba(60, 64, 67, 0.3), 0px 1px 3px 1px rgba(60, 64, 67, 0.15);\n",
              "      fill: #174EA6;\n",
              "    }\n",
              "\n",
              "    [theme=dark] .colab-df-convert {\n",
              "      background-color: #3B4455;\n",
              "      fill: #D2E3FC;\n",
              "    }\n",
              "\n",
              "    [theme=dark] .colab-df-convert:hover {\n",
              "      background-color: #434B5C;\n",
              "      box-shadow: 0px 1px 3px 1px rgba(0, 0, 0, 0.15);\n",
              "      filter: drop-shadow(0px 1px 2px rgba(0, 0, 0, 0.3));\n",
              "      fill: #FFFFFF;\n",
              "    }\n",
              "  </style>\n",
              "\n",
              "      <script>\n",
              "        const buttonEl =\n",
              "          document.querySelector('#df-c73f1982-1aee-4d2f-a248-7e300ae7dc2e button.colab-df-convert');\n",
              "        buttonEl.style.display =\n",
              "          google.colab.kernel.accessAllowed ? 'block' : 'none';\n",
              "\n",
              "        async function convertToInteractive(key) {\n",
              "          const element = document.querySelector('#df-c73f1982-1aee-4d2f-a248-7e300ae7dc2e');\n",
              "          const dataTable =\n",
              "            await google.colab.kernel.invokeFunction('convertToInteractive',\n",
              "                                                     [key], {});\n",
              "          if (!dataTable) return;\n",
              "\n",
              "          const docLinkHtml = 'Like what you see? Visit the ' +\n",
              "            '<a target=\"_blank\" href=https://colab.research.google.com/notebooks/data_table.ipynb>data table notebook</a>'\n",
              "            + ' to learn more about interactive tables.';\n",
              "          element.innerHTML = '';\n",
              "          dataTable['output_type'] = 'display_data';\n",
              "          await google.colab.output.renderOutput(dataTable, element);\n",
              "          const docLink = document.createElement('div');\n",
              "          docLink.innerHTML = docLinkHtml;\n",
              "          element.appendChild(docLink);\n",
              "        }\n",
              "      </script>\n",
              "    </div>\n",
              "  </div>\n",
              "  "
            ]
          },
          "metadata": {},
          "execution_count": 11
        }
      ],
      "source": [
        "#filtering teh columns that have any data about branch A  \n",
        "\n",
        "branch_A = supermarket[supermarket['Branch']=='A']\n",
        "branch_A.head(3)"
      ]
    },
    {
      "cell_type": "code",
      "execution_count": 12,
      "metadata": {
        "id": "XLMYerbGOtvS",
        "colab": {
          "base_uri": "https://localhost:8080/",
          "height": 468
        },
        "outputId": "b69e5423-d8cb-40c2-a70a-d012cf855622"
      },
      "outputs": [
        {
          "output_type": "stream",
          "name": "stderr",
          "text": [
            "/usr/local/lib/python3.7/dist-packages/ipykernel_launcher.py:4: SettingWithCopyWarning: \n",
            "A value is trying to be set on a copy of a slice from a DataFrame.\n",
            "Try using .loc[row_indexer,col_indexer] = value instead\n",
            "\n",
            "See the caveats in the documentation: https://pandas.pydata.org/pandas-docs/stable/user_guide/indexing.html#returning-a-view-versus-a-copy\n",
            "  after removing the cwd from sys.path.\n",
            "/usr/local/lib/python3.7/dist-packages/pandas/core/indexing.py:719: FutureWarning: Slicing a positional slice with .loc is not supported, and will raise TypeError in a future version.  Use .loc with labels or .iloc with positions instead.\n",
            "  indexer = self._get_setitem_indexer(key)\n"
          ]
        },
        {
          "output_type": "execute_result",
          "data": {
            "text/plain": [
              "Date                    2019-01-31 00:00:00  2019-02-28 00:00:00  \\\n",
              "Product line                                                       \n",
              "Electronic accessories                298.0                255.0   \n",
              "Fashion accessories                   307.0                269.0   \n",
              "Food and beverages                    221.0                312.0   \n",
              "Health and beauty                     189.0                133.0   \n",
              "Home and lifestyle                    493.0                227.0   \n",
              "Sports and travel                     308.0                225.0   \n",
              "total                                1816.0               1421.0   \n",
              "\n",
              "Date                    2019-03-31 00:00:00  total income   \n",
              "Product line                                                \n",
              "Electronic accessories                320.0          873.0  \n",
              "Fashion accessories                   204.0          780.0  \n",
              "Food and beverages                    284.0          817.0  \n",
              "Health and beauty                     281.0          603.0  \n",
              "Home and lifestyle                    346.0         1066.0  \n",
              "Sports and travel                     385.0          918.0  \n",
              "total                                1820.0         5057.0  "
            ],
            "text/html": [
              "\n",
              "  <div id=\"df-f087e626-ebc9-441b-a355-edeee065b239\">\n",
              "    <div class=\"colab-df-container\">\n",
              "      <div>\n",
              "<style scoped>\n",
              "    .dataframe tbody tr th:only-of-type {\n",
              "        vertical-align: middle;\n",
              "    }\n",
              "\n",
              "    .dataframe tbody tr th {\n",
              "        vertical-align: top;\n",
              "    }\n",
              "\n",
              "    .dataframe thead th {\n",
              "        text-align: right;\n",
              "    }\n",
              "</style>\n",
              "<table border=\"1\" class=\"dataframe\">\n",
              "  <thead>\n",
              "    <tr style=\"text-align: right;\">\n",
              "      <th>Date</th>\n",
              "      <th>2019-01-31 00:00:00</th>\n",
              "      <th>2019-02-28 00:00:00</th>\n",
              "      <th>2019-03-31 00:00:00</th>\n",
              "      <th>total income</th>\n",
              "    </tr>\n",
              "    <tr>\n",
              "      <th>Product line</th>\n",
              "      <th></th>\n",
              "      <th></th>\n",
              "      <th></th>\n",
              "      <th></th>\n",
              "    </tr>\n",
              "  </thead>\n",
              "  <tbody>\n",
              "    <tr>\n",
              "      <th>Electronic accessories</th>\n",
              "      <td>298.0</td>\n",
              "      <td>255.0</td>\n",
              "      <td>320.0</td>\n",
              "      <td>873.0</td>\n",
              "    </tr>\n",
              "    <tr>\n",
              "      <th>Fashion accessories</th>\n",
              "      <td>307.0</td>\n",
              "      <td>269.0</td>\n",
              "      <td>204.0</td>\n",
              "      <td>780.0</td>\n",
              "    </tr>\n",
              "    <tr>\n",
              "      <th>Food and beverages</th>\n",
              "      <td>221.0</td>\n",
              "      <td>312.0</td>\n",
              "      <td>284.0</td>\n",
              "      <td>817.0</td>\n",
              "    </tr>\n",
              "    <tr>\n",
              "      <th>Health and beauty</th>\n",
              "      <td>189.0</td>\n",
              "      <td>133.0</td>\n",
              "      <td>281.0</td>\n",
              "      <td>603.0</td>\n",
              "    </tr>\n",
              "    <tr>\n",
              "      <th>Home and lifestyle</th>\n",
              "      <td>493.0</td>\n",
              "      <td>227.0</td>\n",
              "      <td>346.0</td>\n",
              "      <td>1066.0</td>\n",
              "    </tr>\n",
              "    <tr>\n",
              "      <th>Sports and travel</th>\n",
              "      <td>308.0</td>\n",
              "      <td>225.0</td>\n",
              "      <td>385.0</td>\n",
              "      <td>918.0</td>\n",
              "    </tr>\n",
              "    <tr>\n",
              "      <th>total</th>\n",
              "      <td>1816.0</td>\n",
              "      <td>1421.0</td>\n",
              "      <td>1820.0</td>\n",
              "      <td>5057.0</td>\n",
              "    </tr>\n",
              "  </tbody>\n",
              "</table>\n",
              "</div>\n",
              "      <button class=\"colab-df-convert\" onclick=\"convertToInteractive('df-f087e626-ebc9-441b-a355-edeee065b239')\"\n",
              "              title=\"Convert this dataframe to an interactive table.\"\n",
              "              style=\"display:none;\">\n",
              "        \n",
              "  <svg xmlns=\"http://www.w3.org/2000/svg\" height=\"24px\"viewBox=\"0 0 24 24\"\n",
              "       width=\"24px\">\n",
              "    <path d=\"M0 0h24v24H0V0z\" fill=\"none\"/>\n",
              "    <path d=\"M18.56 5.44l.94 2.06.94-2.06 2.06-.94-2.06-.94-.94-2.06-.94 2.06-2.06.94zm-11 1L8.5 8.5l.94-2.06 2.06-.94-2.06-.94L8.5 2.5l-.94 2.06-2.06.94zm10 10l.94 2.06.94-2.06 2.06-.94-2.06-.94-.94-2.06-.94 2.06-2.06.94z\"/><path d=\"M17.41 7.96l-1.37-1.37c-.4-.4-.92-.59-1.43-.59-.52 0-1.04.2-1.43.59L10.3 9.45l-7.72 7.72c-.78.78-.78 2.05 0 2.83L4 21.41c.39.39.9.59 1.41.59.51 0 1.02-.2 1.41-.59l7.78-7.78 2.81-2.81c.8-.78.8-2.07 0-2.86zM5.41 20L4 18.59l7.72-7.72 1.47 1.35L5.41 20z\"/>\n",
              "  </svg>\n",
              "      </button>\n",
              "      \n",
              "  <style>\n",
              "    .colab-df-container {\n",
              "      display:flex;\n",
              "      flex-wrap:wrap;\n",
              "      gap: 12px;\n",
              "    }\n",
              "\n",
              "    .colab-df-convert {\n",
              "      background-color: #E8F0FE;\n",
              "      border: none;\n",
              "      border-radius: 50%;\n",
              "      cursor: pointer;\n",
              "      display: none;\n",
              "      fill: #1967D2;\n",
              "      height: 32px;\n",
              "      padding: 0 0 0 0;\n",
              "      width: 32px;\n",
              "    }\n",
              "\n",
              "    .colab-df-convert:hover {\n",
              "      background-color: #E2EBFA;\n",
              "      box-shadow: 0px 1px 2px rgba(60, 64, 67, 0.3), 0px 1px 3px 1px rgba(60, 64, 67, 0.15);\n",
              "      fill: #174EA6;\n",
              "    }\n",
              "\n",
              "    [theme=dark] .colab-df-convert {\n",
              "      background-color: #3B4455;\n",
              "      fill: #D2E3FC;\n",
              "    }\n",
              "\n",
              "    [theme=dark] .colab-df-convert:hover {\n",
              "      background-color: #434B5C;\n",
              "      box-shadow: 0px 1px 3px 1px rgba(0, 0, 0, 0.15);\n",
              "      filter: drop-shadow(0px 1px 2px rgba(0, 0, 0, 0.3));\n",
              "      fill: #FFFFFF;\n",
              "    }\n",
              "  </style>\n",
              "\n",
              "      <script>\n",
              "        const buttonEl =\n",
              "          document.querySelector('#df-f087e626-ebc9-441b-a355-edeee065b239 button.colab-df-convert');\n",
              "        buttonEl.style.display =\n",
              "          google.colab.kernel.accessAllowed ? 'block' : 'none';\n",
              "\n",
              "        async function convertToInteractive(key) {\n",
              "          const element = document.querySelector('#df-f087e626-ebc9-441b-a355-edeee065b239');\n",
              "          const dataTable =\n",
              "            await google.colab.kernel.invokeFunction('convertToInteractive',\n",
              "                                                     [key], {});\n",
              "          if (!dataTable) return;\n",
              "\n",
              "          const docLinkHtml = 'Like what you see? Visit the ' +\n",
              "            '<a target=\"_blank\" href=https://colab.research.google.com/notebooks/data_table.ipynb>data table notebook</a>'\n",
              "            + ' to learn more about interactive tables.';\n",
              "          element.innerHTML = '';\n",
              "          dataTable['output_type'] = 'display_data';\n",
              "          await google.colab.output.renderOutput(dataTable, element);\n",
              "          const docLink = document.createElement('div');\n",
              "          docLink.innerHTML = docLinkHtml;\n",
              "          element.appendChild(docLink);\n",
              "        }\n",
              "      </script>\n",
              "    </div>\n",
              "  </div>\n",
              "  "
            ]
          },
          "metadata": {},
          "execution_count": 12
        }
      ],
      "source": [
        "#the gross income of every product line per month\n",
        "\n",
        "#using groupby func. to filter the data for each product line and their gross income in every period \n",
        "branch_A['Date'] = pd.to_datetime(branch_A['Date'], errors='coerce')\n",
        "a = (branch_A.groupby(['Product line', pd.Grouper(freq='M', key='Date', closed='left')])\n",
        "             ['gross income']\n",
        "             .sum().round(0)\n",
        "             .unstack(fill_value=0)) \n",
        "a['total income '] = a.iloc[0:].sum(axis=1) #add a row for total income for every period \n",
        "a.loc['total',0:]= a.sum(axis=0) ##add a column for total income for every product line \n",
        "a"
      ]
    },
    {
      "cell_type": "code",
      "execution_count": 49,
      "metadata": {
        "id": "scWEHb_DCKhZ",
        "colab": {
          "base_uri": "https://localhost:8080/",
          "height": 177
        },
        "outputId": "16608902-a9d9-421b-fcaa-02c4ee2dbed7"
      },
      "outputs": [
        {
          "output_type": "display_data",
          "data": {
            "text/plain": [
              "<Figure size 720x144 with 1 Axes>"
            ],
            "image/png": "[encoded data removed]"
          },
          "metadata": {
            "needs_background": "light"
          }
        }
      ],
      "source": [
        "#visulazing total profit of every product line \n",
        "\n",
        "product_income = branch_A.groupby(['Product line'])['gross income'].sum().reset_index()\n",
        "fig, ax = plt.subplots(figsize=(10,2))\n",
        "ax.barh(product_income.iloc[:,0], product_income.iloc[:,1])\n",
        "for s in ['top','bottom','left','right']:\n",
        "    ax.spines[s].set_visible(False)\n",
        "\n",
        "ax.grid(b=True, color='grey', linestyle='-.', linewidth=0.5, alpha=0.2)\n",
        "ax.invert_yaxis()\n",
        "\n",
        "for i in ax.patches:\n",
        "    ax.text(i.get_width()+100, i.get_y()+0.5, str(round((i.get_width()), 2)),\n",
        "            fontsize=10, fontweight='bold', color='grey')\n",
        "ax.set_title('Total Profit Of Every Product Line Of A',\n",
        "             loc='left', pad=10)\n",
        "fig.text(0.9, 0.15, '@bmanohar16', fontsize=12, color='grey',\n",
        "         ha='right', va='bottom', alpha=0.5)\n",
        "\n",
        "plt.show()"
      ]
    },
    {
      "cell_type": "code",
      "execution_count": 14,
      "metadata": {
        "id": "LwNaoUQMMnuk",
        "colab": {
          "base_uri": "https://localhost:8080/",
          "height": 357
        },
        "outputId": "468bf9dc-be53-46ba-f9cf-d0cafe1e1e3c"
      },
      "outputs": [
        {
          "output_type": "stream",
          "name": "stderr",
          "text": [
            "/usr/local/lib/python3.7/dist-packages/pandas/core/indexing.py:719: FutureWarning: Slicing a positional slice with .loc is not supported, and will raise TypeError in a future version.  Use .loc with labels or .iloc with positions instead.\n",
            "  indexer = self._get_setitem_indexer(key)\n"
          ]
        },
        {
          "output_type": "execute_result",
          "data": {
            "text/plain": [
              "Date                    2019-01-31 00:00:00  2019-02-28 00:00:00  \\\n",
              "Product line                                                       \n",
              "Electronic accessories                112.0                 94.0   \n",
              "Fashion accessories                   106.0                 87.0   \n",
              "Food and beverages                     90.0                121.0   \n",
              "Health and beauty                      70.0                 52.0   \n",
              "Home and lifestyle                    175.0                 68.0   \n",
              "Sports and travel                     119.0                 75.0   \n",
              "total per month                       672.0                497.0   \n",
              "\n",
              "Date                    2019-03-31 00:00:00  total quantity   \n",
              "Product line                                                  \n",
              "Electronic accessories                116.0            322.0  \n",
              "Fashion accessories                    70.0            263.0  \n",
              "Food and beverages                    102.0            313.0  \n",
              "Health and beauty                     135.0            257.0  \n",
              "Home and lifestyle                    128.0            371.0  \n",
              "Sports and travel                     139.0            333.0  \n",
              "total per month                       690.0           1859.0  "
            ],
            "text/html": [
              "\n",
              "  <div id=\"df-af8bfd75-c4e5-4e07-ac6d-22a0be7df224\">\n",
              "    <div class=\"colab-df-container\">\n",
              "      <div>\n",
              "<style scoped>\n",
              "    .dataframe tbody tr th:only-of-type {\n",
              "        vertical-align: middle;\n",
              "    }\n",
              "\n",
              "    .dataframe tbody tr th {\n",
              "        vertical-align: top;\n",
              "    }\n",
              "\n",
              "    .dataframe thead th {\n",
              "        text-align: right;\n",
              "    }\n",
              "</style>\n",
              "<table border=\"1\" class=\"dataframe\">\n",
              "  <thead>\n",
              "    <tr style=\"text-align: right;\">\n",
              "      <th>Date</th>\n",
              "      <th>2019-01-31 00:00:00</th>\n",
              "      <th>2019-02-28 00:00:00</th>\n",
              "      <th>2019-03-31 00:00:00</th>\n",
              "      <th>total quantity</th>\n",
              "    </tr>\n",
              "    <tr>\n",
              "      <th>Product line</th>\n",
              "      <th></th>\n",
              "      <th></th>\n",
              "      <th></th>\n",
              "      <th></th>\n",
              "    </tr>\n",
              "  </thead>\n",
              "  <tbody>\n",
              "    <tr>\n",
              "      <th>Electronic accessories</th>\n",
              "      <td>112.0</td>\n",
              "      <td>94.0</td>\n",
              "      <td>116.0</td>\n",
              "      <td>322.0</td>\n",
              "    </tr>\n",
              "    <tr>\n",
              "      <th>Fashion accessories</th>\n",
              "      <td>106.0</td>\n",
              "      <td>87.0</td>\n",
              "      <td>70.0</td>\n",
              "      <td>263.0</td>\n",
              "    </tr>\n",
              "    <tr>\n",
              "      <th>Food and beverages</th>\n",
              "      <td>90.0</td>\n",
              "      <td>121.0</td>\n",
              "      <td>102.0</td>\n",
              "      <td>313.0</td>\n",
              "    </tr>\n",
              "    <tr>\n",
              "      <th>Health and beauty</th>\n",
              "      <td>70.0</td>\n",
              "      <td>52.0</td>\n",
              "      <td>135.0</td>\n",
              "      <td>257.0</td>\n",
              "    </tr>\n",
              "    <tr>\n",
              "      <th>Home and lifestyle</th>\n",
              "      <td>175.0</td>\n",
              "      <td>68.0</td>\n",
              "      <td>128.0</td>\n",
              "      <td>371.0</td>\n",
              "    </tr>\n",
              "    <tr>\n",
              "      <th>Sports and travel</th>\n",
              "      <td>119.0</td>\n",
              "      <td>75.0</td>\n",
              "      <td>139.0</td>\n",
              "      <td>333.0</td>\n",
              "    </tr>\n",
              "    <tr>\n",
              "      <th>total per month</th>\n",
              "      <td>672.0</td>\n",
              "      <td>497.0</td>\n",
              "      <td>690.0</td>\n",
              "      <td>1859.0</td>\n",
              "    </tr>\n",
              "  </tbody>\n",
              "</table>\n",
              "</div>\n",
              "      <button class=\"colab-df-convert\" onclick=\"convertToInteractive('df-af8bfd75-c4e5-4e07-ac6d-22a0be7df224')\"\n",
              "              title=\"Convert this dataframe to an interactive table.\"\n",
              "              style=\"display:none;\">\n",
              "        \n",
              "  <svg xmlns=\"http://www.w3.org/2000/svg\" height=\"24px\"viewBox=\"0 0 24 24\"\n",
              "       width=\"24px\">\n",
              "    <path d=\"M0 0h24v24H0V0z\" fill=\"none\"/>\n",
              "    <path d=\"M18.56 5.44l.94 2.06.94-2.06 2.06-.94-2.06-.94-.94-2.06-.94 2.06-2.06.94zm-11 1L8.5 8.5l.94-2.06 2.06-.94-2.06-.94L8.5 2.5l-.94 2.06-2.06.94zm10 10l.94 2.06.94-2.06 2.06-.94-2.06-.94-.94-2.06-.94 2.06-2.06.94z\"/><path d=\"M17.41 7.96l-1.37-1.37c-.4-.4-.92-.59-1.43-.59-.52 0-1.04.2-1.43.59L10.3 9.45l-7.72 7.72c-.78.78-.78 2.05 0 2.83L4 21.41c.39.39.9.59 1.41.59.51 0 1.02-.2 1.41-.59l7.78-7.78 2.81-2.81c.8-.78.8-2.07 0-2.86zM5.41 20L4 18.59l7.72-7.72 1.47 1.35L5.41 20z\"/>\n",
              "  </svg>\n",
              "      </button>\n",
              "      \n",
              "  <style>\n",
              "    .colab-df-container {\n",
              "      display:flex;\n",
              "      flex-wrap:wrap;\n",
              "      gap: 12px;\n",
              "    }\n",
              "\n",
              "    .colab-df-convert {\n",
              "      background-color: #E8F0FE;\n",
              "      border: none;\n",
              "      border-radius: 50%;\n",
              "      cursor: pointer;\n",
              "      display: none;\n",
              "      fill: #1967D2;\n",
              "      height: 32px;\n",
              "      padding: 0 0 0 0;\n",
              "      width: 32px;\n",
              "    }\n",
              "\n",
              "    .colab-df-convert:hover {\n",
              "      background-color: #E2EBFA;\n",
              "      box-shadow: 0px 1px 2px rgba(60, 64, 67, 0.3), 0px 1px 3px 1px rgba(60, 64, 67, 0.15);\n",
              "      fill: #174EA6;\n",
              "    }\n",
              "\n",
              "    [theme=dark] .colab-df-convert {\n",
              "      background-color: #3B4455;\n",
              "      fill: #D2E3FC;\n",
              "    }\n",
              "\n",
              "    [theme=dark] .colab-df-convert:hover {\n",
              "      background-color: #434B5C;\n",
              "      box-shadow: 0px 1px 3px 1px rgba(0, 0, 0, 0.15);\n",
              "      filter: drop-shadow(0px 1px 2px rgba(0, 0, 0, 0.3));\n",
              "      fill: #FFFFFF;\n",
              "    }\n",
              "  </style>\n",
              "\n",
              "      <script>\n",
              "        const buttonEl =\n",
              "          document.querySelector('#df-af8bfd75-c4e5-4e07-ac6d-22a0be7df224 button.colab-df-convert');\n",
              "        buttonEl.style.display =\n",
              "          google.colab.kernel.accessAllowed ? 'block' : 'none';\n",
              "\n",
              "        async function convertToInteractive(key) {\n",
              "          const element = document.querySelector('#df-af8bfd75-c4e5-4e07-ac6d-22a0be7df224');\n",
              "          const dataTable =\n",
              "            await google.colab.kernel.invokeFunction('convertToInteractive',\n",
              "                                                     [key], {});\n",
              "          if (!dataTable) return;\n",
              "\n",
              "          const docLinkHtml = 'Like what you see? Visit the ' +\n",
              "            '<a target=\"_blank\" href=https://colab.research.google.com/notebooks/data_table.ipynb>data table notebook</a>'\n",
              "            + ' to learn more about interactive tables.';\n",
              "          element.innerHTML = '';\n",
              "          dataTable['output_type'] = 'display_data';\n",
              "          await google.colab.output.renderOutput(dataTable, element);\n",
              "          const docLink = document.createElement('div');\n",
              "          docLink.innerHTML = docLinkHtml;\n",
              "          element.appendChild(docLink);\n",
              "        }\n",
              "      </script>\n",
              "    </div>\n",
              "  </div>\n",
              "  "
            ]
          },
          "metadata": {},
          "execution_count": 14
        }
      ],
      "source": [
        "#the most and the less used product\n",
        "\n",
        "#using groupby func. to filter the data for each product line and their quantity that have been sold \n",
        "quntity = (branch_A.groupby(['Product line', pd.Grouper(freq='M', key='Date', closed='left')])\n",
        "             ['Quantity']\n",
        "             .sum().round(0)\n",
        "             .unstack(fill_value=0))\n",
        "quntity['total quantity '] = quntity.iloc[0:].sum(axis=1) #add a row for total quanity for every month\n",
        "quntity.loc['total per month',0:]= quntity.sum(axis=0)    #add a column for quantity for every month\n",
        "quntity"
      ]
    },
    {
      "cell_type": "code",
      "execution_count": 15,
      "metadata": {
        "id": "yr5V_aup3rXZ",
        "colab": {
          "base_uri": "https://localhost:8080/",
          "height": 580
        },
        "outputId": "ccd0333b-51f3-49ad-f475-a08ff9e395e4"
      },
      "outputs": [
        {
          "output_type": "execute_result",
          "data": {
            "text/plain": [
              "([<matplotlib.patches.Wedge at 0x7f82c6ba9a90>,\n",
              "  <matplotlib.patches.Wedge at 0x7f82c6bb52d0>,\n",
              "  <matplotlib.patches.Wedge at 0x7f82c6bb5b50>,\n",
              "  <matplotlib.patches.Wedge at 0x7f82c6bbe490>,\n",
              "  <matplotlib.patches.Wedge at 0x7f82c6bbefd0>,\n",
              "  <matplotlib.patches.Wedge at 0x7f82c6bcc950>],\n",
              " [Text(0.9411188798401873, 0.5694692739809158, 'Electronic accessories'),\n",
              "  Text(0.041815836097036846, 1.0992049107657342, 'Fashon accessories'),\n",
              "  Text(-0.885307192110448, 0.6528638262283448, 'Food and beverages'),\n",
              "  Text(-1.0414113109169192, -0.3542068343416094, 'Health and beauty'),\n",
              "  Text(-0.21680464241909797, -1.1802524081845913, 'Home and lifestyle'),\n",
              "  Text(0.9303708721151749, -0.5868645843119595, 'Sports and travel')],\n",
              " [Text(0.5133375708219202, 0.31061960398959043, '17.3%'),\n",
              "  Text(0.022808637871111002, 0.5995663149631277, '14.1%'),\n",
              "  Text(-0.4828948320602443, 0.35610754157909713, '16.8%'),\n",
              "  Text(-0.5680425332274104, -0.193203727822696, '13.8%'),\n",
              "  Text(-0.1264693747444738, -0.6884805714410116, '20.0%'),\n",
              "  Text(0.5074750211537317, -0.32010795507925066, '17.9%')])"
            ]
          },
          "metadata": {},
          "execution_count": 15
        },
        {
          "output_type": "display_data",
          "data": {
            "text/plain": [
              "<Figure size 432x288 with 1 Axes>"
            ],
            "image/png": "[encoded data removed]"
          },
          "metadata": {}
        }
      ],
      "source": [
        "#visualizing most used product line\n",
        "slices = branch_A.groupby(['Product line'])['Quantity'].sum()\n",
        "labels = 'Electronic accessories','Fashon accessories','Food and beverages','Health and beauty','Home and lifestyle','Sports and travel'\n",
        "explode = (0, 0, 0, 0, 0.1, 0)\n",
        "plt.pie(slices, labels=labels, explode=explode,autopct='%1.1f%%')"
      ]
    },
    {
      "cell_type": "code",
      "execution_count": 16,
      "metadata": {
        "id": "Hb4UKsKZ5S1A",
        "colab": {
          "base_uri": "https://localhost:8080/",
          "height": 265
        },
        "outputId": "68f57c41-6db3-4d81-eb3b-7783868f90e5"
      },
      "outputs": [
        {
          "output_type": "display_data",
          "data": {
            "text/plain": [
              "<Figure size 432x288 with 1 Axes>"
            ],
            "image/png": "[encoded data removed]"
          },
          "metadata": {
            "needs_background": "light"
          }
        }
      ],
      "source": [
        "#most product line used by males and females\n",
        "\n",
        "#using pivot table func. to filter the data for each product line and their quantity that have been sold and who most bought it \n",
        "per_gender_a = pd.pivot_table(branch_A, values='Quantity', index=['Product line'],\n",
        "                    columns=['Gender'], aggfunc='count')\n",
        "\n",
        "per_gender_a.plot.barh(edgecolor = 'black') #visulaizing the pivot table\n",
        "plt.grid(b=True, color='grey', linestyle='-.', linewidth=0.6, alpha=0.6)"
      ]
    },
    {
      "cell_type": "code",
      "execution_count": 17,
      "metadata": {
        "id": "_bSOcGgoGkyd",
        "colab": {
          "base_uri": "https://localhost:8080/",
          "height": 359
        },
        "outputId": "aa4f79b6-8336-4c35-b2ed-dac58403f868"
      },
      "outputs": [
        {
          "output_type": "execute_result",
          "data": {
            "text/plain": [
              "([<matplotlib.patches.Wedge at 0x7f82c6a3b2d0>,\n",
              "  <matplotlib.patches.Wedge at 0x7f82c6a3ba90>],\n",
              " [Text(-0.09137043414545647, 1.0961986333525833, 'Female'),\n",
              "  Text(0.09137043414545609, -1.0961986333525833, 'Male')],\n",
              " [Text(-0.04983841862479443, 0.5979265272832271, '52.6%'),\n",
              "  Text(0.04983841862479423, -0.5979265272832271, '47.4%')])"
            ]
          },
          "metadata": {},
          "execution_count": 17
        },
        {
          "output_type": "display_data",
          "data": {
            "text/plain": [
              "<Figure size 432x288 with 1 Axes>"
            ],
            "image/png": "[encoded data removed]"
          },
          "metadata": {}
        }
      ],
      "source": [
        "#visulazing perc. of who visit more \n",
        "slice = branch_A['Gender'].value_counts()\n",
        "labels = 'Female','Male'\n",
        "plt.pie(slice, labels=labels, autopct='%1.1f%%')"
      ]
    },
    {
      "cell_type": "code",
      "execution_count": 18,
      "metadata": {
        "id": "5ITr7n9rfXlA",
        "colab": {
          "base_uri": "https://localhost:8080/",
          "height": 326
        },
        "outputId": "b7330351-d37e-474e-c569-41af3ccc500b"
      },
      "outputs": [
        {
          "output_type": "execute_result",
          "data": {
            "text/plain": [
              "<matplotlib.axes._subplots.AxesSubplot at 0x7f82c69da290>"
            ]
          },
          "metadata": {},
          "execution_count": 18
        },
        {
          "output_type": "display_data",
          "data": {
            "text/plain": [
              "<Figure size 432x288 with 1 Axes>"
            ],
            "image/png": "[encoded data removed]"
          },
          "metadata": {
            "needs_background": "light"
          }
        }
      ],
      "source": [
        "#visulazing the visitors in every month\n",
        "visitors =  (branch_A.groupby(['Gender', pd.Grouper(freq='M', key='Date', closed='left')])\n",
        "             ['Gender'].count()\n",
        "            .unstack(fill_value=0))\n",
        "visitors.plot(kind='bar',width=0.4)"
      ]
    },
    {
      "cell_type": "markdown",
      "metadata": {
        "id": "dlvelTJ6JFM3"
      },
      "source": [
        "#Branch B"
      ]
    },
    {
      "cell_type": "code",
      "execution_count": 19,
      "metadata": {
        "id": "AgKWuAuMKnie",
        "colab": {
          "base_uri": "https://localhost:8080/",
          "height": 392
        },
        "outputId": "d1fb8fd5-85e0-47dd-f3d9-ece848d201ba"
      },
      "outputs": [
        {
          "output_type": "execute_result",
          "data": {
            "text/plain": [
              "     Invoice ID Branch      City Customer type  Gender  \\\n",
              "9   692-92-5582      B  Mandalay        Member  Female   \n",
              "10  351-62-0822      B  Mandalay        Member  Female   \n",
              "11  529-56-3974      B  Mandalay        Member    Male   \n",
              "15  299-46-1805      B  Mandalay        Member  Female   \n",
              "19  319-50-3348      B  Mandalay        Normal  Female   \n",
              "\n",
              "              Product line  Unit price  Quantity  Tax 5%  Total       Date  \\\n",
              "9       Food and beverages       54.84         3     8.2  172.7 2019-02-20   \n",
              "10     Fashion accessories       14.48         4     2.9   60.8 2019-02-06   \n",
              "11  Electronic accessories       25.51         4     5.1  107.1 2019-03-09   \n",
              "15       Sports and travel       93.72         6    28.1  590.4 2019-01-15   \n",
              "19      Home and lifestyle       40.30         2     4.0   84.6 2019-03-11   \n",
              "\n",
              "     Time      Payment    cogs  gross margin percentage  gross income  Rating  \n",
              "9   13:27  Credit card  164.52                      4.8           8.0     5.9  \n",
              "10  18:07      Ewallet   57.92                      4.8           3.0     4.5  \n",
              "11  17:03         Cash  102.04                      4.8           5.0     6.8  \n",
              "15  16:19         Cash  562.32                      4.8          28.0     4.5  \n",
              "19  15:30      Ewallet   80.60                      4.8           4.0     4.4  "
            ],
            "text/html": [
              "\n",
              "  <div id=\"df-f7e244b7-a3a3-4dff-8c77-1440be5e963b\">\n",
              "    <div class=\"colab-df-container\">\n",
              "      <div>\n",
              "<style scoped>\n",
              "    .dataframe tbody tr th:only-of-type {\n",
              "        vertical-align: middle;\n",
              "    }\n",
              "\n",
              "    .dataframe tbody tr th {\n",
              "        vertical-align: top;\n",
              "    }\n",
              "\n",
              "    .dataframe thead th {\n",
              "        text-align: right;\n",
              "    }\n",
              "</style>\n",
              "<table border=\"1\" class=\"dataframe\">\n",
              "  <thead>\n",
              "    <tr style=\"text-align: right;\">\n",
              "      <th></th>\n",
              "      <th>Invoice ID</th>\n",
              "      <th>Branch</th>\n",
              "      <th>City</th>\n",
              "      <th>Customer type</th>\n",
              "      <th>Gender</th>\n",
              "      <th>Product line</th>\n",
              "      <th>Unit price</th>\n",
              "      <th>Quantity</th>\n",
              "      <th>Tax 5%</th>\n",
              "      <th>Total</th>\n",
              "      <th>Date</th>\n",
              "      <th>Time</th>\n",
              "      <th>Payment</th>\n",
              "      <th>cogs</th>\n",
              "      <th>gross margin percentage</th>\n",
              "      <th>gross income</th>\n",
              "      <th>Rating</th>\n",
              "    </tr>\n",
              "  </thead>\n",
              "  <tbody>\n",
              "    <tr>\n",
              "      <th>9</th>\n",
              "      <td>692-92-5582</td>\n",
              "      <td>B</td>\n",
              "      <td>Mandalay</td>\n",
              "      <td>Member</td>\n",
              "      <td>Female</td>\n",
              "      <td>Food and beverages</td>\n",
              "      <td>54.84</td>\n",
              "      <td>3</td>\n",
              "      <td>8.2</td>\n",
              "      <td>172.7</td>\n",
              "      <td>2019-02-20</td>\n",
              "      <td>13:27</td>\n",
              "      <td>Credit card</td>\n",
              "      <td>164.52</td>\n",
              "      <td>4.8</td>\n",
              "      <td>8.0</td>\n",
              "      <td>5.9</td>\n",
              "    </tr>\n",
              "    <tr>\n",
              "      <th>10</th>\n",
              "      <td>351-62-0822</td>\n",
              "      <td>B</td>\n",
              "      <td>Mandalay</td>\n",
              "      <td>Member</td>\n",
              "      <td>Female</td>\n",
              "      <td>Fashion accessories</td>\n",
              "      <td>14.48</td>\n",
              "      <td>4</td>\n",
              "      <td>2.9</td>\n",
              "      <td>60.8</td>\n",
              "      <td>2019-02-06</td>\n",
              "      <td>18:07</td>\n",
              "      <td>Ewallet</td>\n",
              "      <td>57.92</td>\n",
              "      <td>4.8</td>\n",
              "      <td>3.0</td>\n",
              "      <td>4.5</td>\n",
              "    </tr>\n",
              "    <tr>\n",
              "      <th>11</th>\n",
              "      <td>529-56-3974</td>\n",
              "      <td>B</td>\n",
              "      <td>Mandalay</td>\n",
              "      <td>Member</td>\n",
              "      <td>Male</td>\n",
              "      <td>Electronic accessories</td>\n",
              "      <td>25.51</td>\n",
              "      <td>4</td>\n",
              "      <td>5.1</td>\n",
              "      <td>107.1</td>\n",
              "      <td>2019-03-09</td>\n",
              "      <td>17:03</td>\n",
              "      <td>Cash</td>\n",
              "      <td>102.04</td>\n",
              "      <td>4.8</td>\n",
              "      <td>5.0</td>\n",
              "      <td>6.8</td>\n",
              "    </tr>\n",
              "    <tr>\n",
              "      <th>15</th>\n",
              "      <td>299-46-1805</td>\n",
              "      <td>B</td>\n",
              "      <td>Mandalay</td>\n",
              "      <td>Member</td>\n",
              "      <td>Female</td>\n",
              "      <td>Sports and travel</td>\n",
              "      <td>93.72</td>\n",
              "      <td>6</td>\n",
              "      <td>28.1</td>\n",
              "      <td>590.4</td>\n",
              "      <td>2019-01-15</td>\n",
              "      <td>16:19</td>\n",
              "      <td>Cash</td>\n",
              "      <td>562.32</td>\n",
              "      <td>4.8</td>\n",
              "      <td>28.0</td>\n",
              "      <td>4.5</td>\n",
              "    </tr>\n",
              "    <tr>\n",
              "      <th>19</th>\n",
              "      <td>319-50-3348</td>\n",
              "      <td>B</td>\n",
              "      <td>Mandalay</td>\n",
              "      <td>Normal</td>\n",
              "      <td>Female</td>\n",
              "      <td>Home and lifestyle</td>\n",
              "      <td>40.30</td>\n",
              "      <td>2</td>\n",
              "      <td>4.0</td>\n",
              "      <td>84.6</td>\n",
              "      <td>2019-03-11</td>\n",
              "      <td>15:30</td>\n",
              "      <td>Ewallet</td>\n",
              "      <td>80.60</td>\n",
              "      <td>4.8</td>\n",
              "      <td>4.0</td>\n",
              "      <td>4.4</td>\n",
              "    </tr>\n",
              "  </tbody>\n",
              "</table>\n",
              "</div>\n",
              "      <button class=\"colab-df-convert\" onclick=\"convertToInteractive('df-f7e244b7-a3a3-4dff-8c77-1440be5e963b')\"\n",
              "              title=\"Convert this dataframe to an interactive table.\"\n",
              "              style=\"display:none;\">\n",
              "        \n",
              "  <svg xmlns=\"http://www.w3.org/2000/svg\" height=\"24px\"viewBox=\"0 0 24 24\"\n",
              "       width=\"24px\">\n",
              "    <path d=\"M0 0h24v24H0V0z\" fill=\"none\"/>\n",
              "    <path d=\"M18.56 5.44l.94 2.06.94-2.06 2.06-.94-2.06-.94-.94-2.06-.94 2.06-2.06.94zm-11 1L8.5 8.5l.94-2.06 2.06-.94-2.06-.94L8.5 2.5l-.94 2.06-2.06.94zm10 10l.94 2.06.94-2.06 2.06-.94-2.06-.94-.94-2.06-.94 2.06-2.06.94z\"/><path d=\"M17.41 7.96l-1.37-1.37c-.4-.4-.92-.59-1.43-.59-.52 0-1.04.2-1.43.59L10.3 9.45l-7.72 7.72c-.78.78-.78 2.05 0 2.83L4 21.41c.39.39.9.59 1.41.59.51 0 1.02-.2 1.41-.59l7.78-7.78 2.81-2.81c.8-.78.8-2.07 0-2.86zM5.41 20L4 18.59l7.72-7.72 1.47 1.35L5.41 20z\"/>\n",
              "  </svg>\n",
              "      </button>\n",
              "      \n",
              "  <style>\n",
              "    .colab-df-container {\n",
              "      display:flex;\n",
              "      flex-wrap:wrap;\n",
              "      gap: 12px;\n",
              "    }\n",
              "\n",
              "    .colab-df-convert {\n",
              "      background-color: #E8F0FE;\n",
              "      border: none;\n",
              "      border-radius: 50%;\n",
              "      cursor: pointer;\n",
              "      display: none;\n",
              "      fill: #1967D2;\n",
              "      height: 32px;\n",
              "      padding: 0 0 0 0;\n",
              "      width: 32px;\n",
              "    }\n",
              "\n",
              "    .colab-df-convert:hover {\n",
              "      background-color: #E2EBFA;\n",
              "      box-shadow: 0px 1px 2px rgba(60, 64, 67, 0.3), 0px 1px 3px 1px rgba(60, 64, 67, 0.15);\n",
              "      fill: #174EA6;\n",
              "    }\n",
              "\n",
              "    [theme=dark] .colab-df-convert {\n",
              "      background-color: #3B4455;\n",
              "      fill: #D2E3FC;\n",
              "    }\n",
              "\n",
              "    [theme=dark] .colab-df-convert:hover {\n",
              "      background-color: #434B5C;\n",
              "      box-shadow: 0px 1px 3px 1px rgba(0, 0, 0, 0.15);\n",
              "      filter: drop-shadow(0px 1px 2px rgba(0, 0, 0, 0.3));\n",
              "      fill: #FFFFFF;\n",
              "    }\n",
              "  </style>\n",
              "\n",
              "      <script>\n",
              "        const buttonEl =\n",
              "          document.querySelector('#df-f7e244b7-a3a3-4dff-8c77-1440be5e963b button.colab-df-convert');\n",
              "        buttonEl.style.display =\n",
              "          google.colab.kernel.accessAllowed ? 'block' : 'none';\n",
              "\n",
              "        async function convertToInteractive(key) {\n",
              "          const element = document.querySelector('#df-f7e244b7-a3a3-4dff-8c77-1440be5e963b');\n",
              "          const dataTable =\n",
              "            await google.colab.kernel.invokeFunction('convertToInteractive',\n",
              "                                                     [key], {});\n",
              "          if (!dataTable) return;\n",
              "\n",
              "          const docLinkHtml = 'Like what you see? Visit the ' +\n",
              "            '<a target=\"_blank\" href=https://colab.research.google.com/notebooks/data_table.ipynb>data table notebook</a>'\n",
              "            + ' to learn more about interactive tables.';\n",
              "          element.innerHTML = '';\n",
              "          dataTable['output_type'] = 'display_data';\n",
              "          await google.colab.output.renderOutput(dataTable, element);\n",
              "          const docLink = document.createElement('div');\n",
              "          docLink.innerHTML = docLinkHtml;\n",
              "          element.appendChild(docLink);\n",
              "        }\n",
              "      </script>\n",
              "    </div>\n",
              "  </div>\n",
              "  "
            ]
          },
          "metadata": {},
          "execution_count": 19
        }
      ],
      "source": [
        "#filtering the columns that have any data about branch B  \n",
        "\n",
        "branch_B = supermarket[supermarket['Branch']=='B']\n",
        "branch_B.head()"
      ]
    },
    {
      "cell_type": "code",
      "execution_count": 20,
      "metadata": {
        "id": "oYG5P5v-QWfc",
        "colab": {
          "base_uri": "https://localhost:8080/",
          "height": 468
        },
        "outputId": "e0a215ea-0662-41e1-db15-e9371f8423f6"
      },
      "outputs": [
        {
          "output_type": "stream",
          "name": "stderr",
          "text": [
            "/usr/local/lib/python3.7/dist-packages/ipykernel_launcher.py:4: SettingWithCopyWarning: \n",
            "A value is trying to be set on a copy of a slice from a DataFrame.\n",
            "Try using .loc[row_indexer,col_indexer] = value instead\n",
            "\n",
            "See the caveats in the documentation: https://pandas.pydata.org/pandas-docs/stable/user_guide/indexing.html#returning-a-view-versus-a-copy\n",
            "  after removing the cwd from sys.path.\n",
            "/usr/local/lib/python3.7/dist-packages/pandas/core/indexing.py:719: FutureWarning: Slicing a positional slice with .loc is not supported, and will raise TypeError in a future version.  Use .loc with labels or .iloc with positions instead.\n",
            "  indexer = self._get_setitem_indexer(key)\n"
          ]
        },
        {
          "output_type": "execute_result",
          "data": {
            "text/plain": [
              "Date                    2019-01-31 00:00:00  2019-02-28 00:00:00  \\\n",
              "Product line                                                       \n",
              "Electronic accessories                223.0                413.0   \n",
              "Fashion accessories                   286.0                279.0   \n",
              "Food and beverages                    315.0                266.0   \n",
              "Health and beauty                     304.0                280.0   \n",
              "Home and lifestyle                    218.0                222.0   \n",
              "Sports and travel                     294.0                291.0   \n",
              "total per month                      1640.0               1751.0   \n",
              "\n",
              "Date                    2019-03-31 00:00:00  total income   \n",
              "Product line                                                \n",
              "Electronic accessories                179.0          815.0  \n",
              "Fashion accessories                   219.0          784.0  \n",
              "Food and beverages                    145.0          726.0  \n",
              "Health and beauty                     368.0          952.0  \n",
              "Home and lifestyle                    397.0          837.0  \n",
              "Sports and travel                     366.0          951.0  \n",
              "total per month                      1674.0         5065.0  "
            ],
            "text/html": [
              "\n",
              "  <div id=\"df-adafacc1-5f39-49be-aa87-d3dd76e502c4\">\n",
              "    <div class=\"colab-df-container\">\n",
              "      <div>\n",
              "<style scoped>\n",
              "    .dataframe tbody tr th:only-of-type {\n",
              "        vertical-align: middle;\n",
              "    }\n",
              "\n",
              "    .dataframe tbody tr th {\n",
              "        vertical-align: top;\n",
              "    }\n",
              "\n",
              "    .dataframe thead th {\n",
              "        text-align: right;\n",
              "    }\n",
              "</style>\n",
              "<table border=\"1\" class=\"dataframe\">\n",
              "  <thead>\n",
              "    <tr style=\"text-align: right;\">\n",
              "      <th>Date</th>\n",
              "      <th>2019-01-31 00:00:00</th>\n",
              "      <th>2019-02-28 00:00:00</th>\n",
              "      <th>2019-03-31 00:00:00</th>\n",
              "      <th>total income</th>\n",
              "    </tr>\n",
              "    <tr>\n",
              "      <th>Product line</th>\n",
              "      <th></th>\n",
              "      <th></th>\n",
              "      <th></th>\n",
              "      <th></th>\n",
              "    </tr>\n",
              "  </thead>\n",
              "  <tbody>\n",
              "    <tr>\n",
              "      <th>Electronic accessories</th>\n",
              "      <td>223.0</td>\n",
              "      <td>413.0</td>\n",
              "      <td>179.0</td>\n",
              "      <td>815.0</td>\n",
              "    </tr>\n",
              "    <tr>\n",
              "      <th>Fashion accessories</th>\n",
              "      <td>286.0</td>\n",
              "      <td>279.0</td>\n",
              "      <td>219.0</td>\n",
              "      <td>784.0</td>\n",
              "    </tr>\n",
              "    <tr>\n",
              "      <th>Food and beverages</th>\n",
              "      <td>315.0</td>\n",
              "      <td>266.0</td>\n",
              "      <td>145.0</td>\n",
              "      <td>726.0</td>\n",
              "    </tr>\n",
              "    <tr>\n",
              "      <th>Health and beauty</th>\n",
              "      <td>304.0</td>\n",
              "      <td>280.0</td>\n",
              "      <td>368.0</td>\n",
              "      <td>952.0</td>\n",
              "    </tr>\n",
              "    <tr>\n",
              "      <th>Home and lifestyle</th>\n",
              "      <td>218.0</td>\n",
              "      <td>222.0</td>\n",
              "      <td>397.0</td>\n",
              "      <td>837.0</td>\n",
              "    </tr>\n",
              "    <tr>\n",
              "      <th>Sports and travel</th>\n",
              "      <td>294.0</td>\n",
              "      <td>291.0</td>\n",
              "      <td>366.0</td>\n",
              "      <td>951.0</td>\n",
              "    </tr>\n",
              "    <tr>\n",
              "      <th>total per month</th>\n",
              "      <td>1640.0</td>\n",
              "      <td>1751.0</td>\n",
              "      <td>1674.0</td>\n",
              "      <td>5065.0</td>\n",
              "    </tr>\n",
              "  </tbody>\n",
              "</table>\n",
              "</div>\n",
              "      <button class=\"colab-df-convert\" onclick=\"convertToInteractive('df-adafacc1-5f39-49be-aa87-d3dd76e502c4')\"\n",
              "              title=\"Convert this dataframe to an interactive table.\"\n",
              "              style=\"display:none;\">\n",
              "        \n",
              "  <svg xmlns=\"http://www.w3.org/2000/svg\" height=\"24px\"viewBox=\"0 0 24 24\"\n",
              "       width=\"24px\">\n",
              "    <path d=\"M0 0h24v24H0V0z\" fill=\"none\"/>\n",
              "    <path d=\"M18.56 5.44l.94 2.06.94-2.06 2.06-.94-2.06-.94-.94-2.06-.94 2.06-2.06.94zm-11 1L8.5 8.5l.94-2.06 2.06-.94-2.06-.94L8.5 2.5l-.94 2.06-2.06.94zm10 10l.94 2.06.94-2.06 2.06-.94-2.06-.94-.94-2.06-.94 2.06-2.06.94z\"/><path d=\"M17.41 7.96l-1.37-1.37c-.4-.4-.92-.59-1.43-.59-.52 0-1.04.2-1.43.59L10.3 9.45l-7.72 7.72c-.78.78-.78 2.05 0 2.83L4 21.41c.39.39.9.59 1.41.59.51 0 1.02-.2 1.41-.59l7.78-7.78 2.81-2.81c.8-.78.8-2.07 0-2.86zM5.41 20L4 18.59l7.72-7.72 1.47 1.35L5.41 20z\"/>\n",
              "  </svg>\n",
              "      </button>\n",
              "      \n",
              "  <style>\n",
              "    .colab-df-container {\n",
              "      display:flex;\n",
              "      flex-wrap:wrap;\n",
              "      gap: 12px;\n",
              "    }\n",
              "\n",
              "    .colab-df-convert {\n",
              "      background-color: #E8F0FE;\n",
              "      border: none;\n",
              "      border-radius: 50%;\n",
              "      cursor: pointer;\n",
              "      display: none;\n",
              "      fill: #1967D2;\n",
              "      height: 32px;\n",
              "      padding: 0 0 0 0;\n",
              "      width: 32px;\n",
              "    }\n",
              "\n",
              "    .colab-df-convert:hover {\n",
              "      background-color: #E2EBFA;\n",
              "      box-shadow: 0px 1px 2px rgba(60, 64, 67, 0.3), 0px 1px 3px 1px rgba(60, 64, 67, 0.15);\n",
              "      fill: #174EA6;\n",
              "    }\n",
              "\n",
              "    [theme=dark] .colab-df-convert {\n",
              "      background-color: #3B4455;\n",
              "      fill: #D2E3FC;\n",
              "    }\n",
              "\n",
              "    [theme=dark] .colab-df-convert:hover {\n",
              "      background-color: #434B5C;\n",
              "      box-shadow: 0px 1px 3px 1px rgba(0, 0, 0, 0.15);\n",
              "      filter: drop-shadow(0px 1px 2px rgba(0, 0, 0, 0.3));\n",
              "      fill: #FFFFFF;\n",
              "    }\n",
              "  </style>\n",
              "\n",
              "      <script>\n",
              "        const buttonEl =\n",
              "          document.querySelector('#df-adafacc1-5f39-49be-aa87-d3dd76e502c4 button.colab-df-convert');\n",
              "        buttonEl.style.display =\n",
              "          google.colab.kernel.accessAllowed ? 'block' : 'none';\n",
              "\n",
              "        async function convertToInteractive(key) {\n",
              "          const element = document.querySelector('#df-adafacc1-5f39-49be-aa87-d3dd76e502c4');\n",
              "          const dataTable =\n",
              "            await google.colab.kernel.invokeFunction('convertToInteractive',\n",
              "                                                     [key], {});\n",
              "          if (!dataTable) return;\n",
              "\n",
              "          const docLinkHtml = 'Like what you see? Visit the ' +\n",
              "            '<a target=\"_blank\" href=https://colab.research.google.com/notebooks/data_table.ipynb>data table notebook</a>'\n",
              "            + ' to learn more about interactive tables.';\n",
              "          element.innerHTML = '';\n",
              "          dataTable['output_type'] = 'display_data';\n",
              "          await google.colab.output.renderOutput(dataTable, element);\n",
              "          const docLink = document.createElement('div');\n",
              "          docLink.innerHTML = docLinkHtml;\n",
              "          element.appendChild(docLink);\n",
              "        }\n",
              "      </script>\n",
              "    </div>\n",
              "  </div>\n",
              "  "
            ]
          },
          "metadata": {},
          "execution_count": 20
        }
      ],
      "source": [
        "#the gross income of every product line per month\n",
        "\n",
        "#using groupby func. to filter the data for each product line and their gross income in every period\n",
        "branch_B['Date'] = pd.to_datetime(branch_B['Date'], errors='coerce')\n",
        "b = (branch_B.groupby(['Product line', pd.Grouper(freq='M', key='Date', closed='left')])\n",
        "             ['gross income']\n",
        "             .sum().round(0)\n",
        "             .unstack(fill_value=0))\n",
        "b['total income '] = b.iloc[0:].sum(axis=1)   #add a row for total income for every month\n",
        "b.loc['total per month',0:]= b.sum(axis=0)   #add a column for total income for product line \n",
        "b"
      ]
    },
    {
      "cell_type": "code",
      "execution_count": 47,
      "metadata": {
        "id": "dt92pdVCRvmg",
        "colab": {
          "base_uri": "https://localhost:8080/",
          "height": 177
        },
        "outputId": "22059dc4-45ed-4dd5-d64d-11a40d8adcb5"
      },
      "outputs": [
        {
          "output_type": "display_data",
          "data": {
            "text/plain": [
              "<Figure size 720x144 with 1 Axes>"
            ],
            "image/png": "[encoded data removed]"
          },
          "metadata": {
            "needs_background": "light"
          }
        }
      ],
      "source": [
        "\n",
        "#visulazing total profit of every product line \n",
        "product_income_b = branch_B.groupby(['Product line'])['gross income'].sum().reset_index()\n",
        "fig, ax = plt.subplots(figsize=(10,2))\n",
        "ax.barh(product_income_b.iloc[:,0], product_income_b.iloc[:,1])\n",
        "for s in ['top','bottom','left','right']:\n",
        "    ax.spines[s].set_visible(False)\n",
        "\n",
        "ax.grid(b=True, color='grey', linestyle='-.', linewidth=0.5, alpha=0.2)\n",
        "ax.invert_yaxis()\n",
        "for i in ax.patches:\n",
        "    ax.text(i.get_width()+100, i.get_y()+0.5, str(round((i.get_width()), 2)),\n",
        "            fontsize=10, fontweight='bold', color='grey')\n",
        "ax.set_title('Total Profit Of Every Product Line Of Branch B',\n",
        "             loc='left', pad=10)\n",
        "fig.text(0.9, 0.15, '@bmanohar16', fontsize=12, color='grey',\n",
        "         ha='right', va='bottom', alpha=0.5)\n",
        "\n",
        "plt.show()"
      ]
    },
    {
      "cell_type": "code",
      "execution_count": 24,
      "metadata": {
        "id": "3licqwwjKjPy",
        "colab": {
          "base_uri": "https://localhost:8080/",
          "height": 357
        },
        "outputId": "a3122560-a166-450c-86b3-804878a676ae"
      },
      "outputs": [
        {
          "output_type": "stream",
          "name": "stderr",
          "text": [
            "/usr/local/lib/python3.7/dist-packages/pandas/core/indexing.py:719: FutureWarning: Slicing a positional slice with .loc is not supported, and will raise TypeError in a future version.  Use .loc with labels or .iloc with positions instead.\n",
            "  indexer = self._get_setitem_indexer(key)\n"
          ]
        },
        {
          "output_type": "execute_result",
          "data": {
            "text/plain": [
              "Date                    2019-01-31 00:00:00  2019-02-28 00:00:00  \\\n",
              "Product line                                                       \n",
              "Electronic accessories                 90.0                146.0   \n",
              "Fashion accessories                   101.0                110.0   \n",
              "Food and beverages                    102.0                107.0   \n",
              "Health and beauty                      91.0                102.0   \n",
              "Home and lifestyle                     73.0                 83.0   \n",
              "Sports and travel                     105.0                103.0   \n",
              "total per month                       562.0                651.0   \n",
              "\n",
              "Date                    2019-03-31 00:00:00  total quantity   \n",
              "Product line                                                  \n",
              "Electronic accessories                 80.0            316.0  \n",
              "Fashion accessories                    86.0            297.0  \n",
              "Food and beverages                     61.0            270.0  \n",
              "Health and beauty                     127.0            320.0  \n",
              "Home and lifestyle                    139.0            295.0  \n",
              "Sports and travel                     114.0            322.0  \n",
              "total per month                       607.0           1820.0  "
            ],
            "text/html": [
              "\n",
              "  <div id=\"df-354b0a84-c317-4dfd-bb0c-fbc64b7ec121\">\n",
              "    <div class=\"colab-df-container\">\n",
              "      <div>\n",
              "<style scoped>\n",
              "    .dataframe tbody tr th:only-of-type {\n",
              "        vertical-align: middle;\n",
              "    }\n",
              "\n",
              "    .dataframe tbody tr th {\n",
              "        vertical-align: top;\n",
              "    }\n",
              "\n",
              "    .dataframe thead th {\n",
              "        text-align: right;\n",
              "    }\n",
              "</style>\n",
              "<table border=\"1\" class=\"dataframe\">\n",
              "  <thead>\n",
              "    <tr style=\"text-align: right;\">\n",
              "      <th>Date</th>\n",
              "      <th>2019-01-31 00:00:00</th>\n",
              "      <th>2019-02-28 00:00:00</th>\n",
              "      <th>2019-03-31 00:00:00</th>\n",
              "      <th>total quantity</th>\n",
              "    </tr>\n",
              "    <tr>\n",
              "      <th>Product line</th>\n",
              "      <th></th>\n",
              "      <th></th>\n",
              "      <th></th>\n",
              "      <th></th>\n",
              "    </tr>\n",
              "  </thead>\n",
              "  <tbody>\n",
              "    <tr>\n",
              "      <th>Electronic accessories</th>\n",
              "      <td>90.0</td>\n",
              "      <td>146.0</td>\n",
              "      <td>80.0</td>\n",
              "      <td>316.0</td>\n",
              "    </tr>\n",
              "    <tr>\n",
              "      <th>Fashion accessories</th>\n",
              "      <td>101.0</td>\n",
              "      <td>110.0</td>\n",
              "      <td>86.0</td>\n",
              "      <td>297.0</td>\n",
              "    </tr>\n",
              "    <tr>\n",
              "      <th>Food and beverages</th>\n",
              "      <td>102.0</td>\n",
              "      <td>107.0</td>\n",
              "      <td>61.0</td>\n",
              "      <td>270.0</td>\n",
              "    </tr>\n",
              "    <tr>\n",
              "      <th>Health and beauty</th>\n",
              "      <td>91.0</td>\n",
              "      <td>102.0</td>\n",
              "      <td>127.0</td>\n",
              "      <td>320.0</td>\n",
              "    </tr>\n",
              "    <tr>\n",
              "      <th>Home and lifestyle</th>\n",
              "      <td>73.0</td>\n",
              "      <td>83.0</td>\n",
              "      <td>139.0</td>\n",
              "      <td>295.0</td>\n",
              "    </tr>\n",
              "    <tr>\n",
              "      <th>Sports and travel</th>\n",
              "      <td>105.0</td>\n",
              "      <td>103.0</td>\n",
              "      <td>114.0</td>\n",
              "      <td>322.0</td>\n",
              "    </tr>\n",
              "    <tr>\n",
              "      <th>total per month</th>\n",
              "      <td>562.0</td>\n",
              "      <td>651.0</td>\n",
              "      <td>607.0</td>\n",
              "      <td>1820.0</td>\n",
              "    </tr>\n",
              "  </tbody>\n",
              "</table>\n",
              "</div>\n",
              "      <button class=\"colab-df-convert\" onclick=\"convertToInteractive('df-354b0a84-c317-4dfd-bb0c-fbc64b7ec121')\"\n",
              "              title=\"Convert this dataframe to an interactive table.\"\n",
              "              style=\"display:none;\">\n",
              "        \n",
              "  <svg xmlns=\"http://www.w3.org/2000/svg\" height=\"24px\"viewBox=\"0 0 24 24\"\n",
              "       width=\"24px\">\n",
              "    <path d=\"M0 0h24v24H0V0z\" fill=\"none\"/>\n",
              "    <path d=\"M18.56 5.44l.94 2.06.94-2.06 2.06-.94-2.06-.94-.94-2.06-.94 2.06-2.06.94zm-11 1L8.5 8.5l.94-2.06 2.06-.94-2.06-.94L8.5 2.5l-.94 2.06-2.06.94zm10 10l.94 2.06.94-2.06 2.06-.94-2.06-.94-.94-2.06-.94 2.06-2.06.94z\"/><path d=\"M17.41 7.96l-1.37-1.37c-.4-.4-.92-.59-1.43-.59-.52 0-1.04.2-1.43.59L10.3 9.45l-7.72 7.72c-.78.78-.78 2.05 0 2.83L4 21.41c.39.39.9.59 1.41.59.51 0 1.02-.2 1.41-.59l7.78-7.78 2.81-2.81c.8-.78.8-2.07 0-2.86zM5.41 20L4 18.59l7.72-7.72 1.47 1.35L5.41 20z\"/>\n",
              "  </svg>\n",
              "      </button>\n",
              "      \n",
              "  <style>\n",
              "    .colab-df-container {\n",
              "      display:flex;\n",
              "      flex-wrap:wrap;\n",
              "      gap: 12px;\n",
              "    }\n",
              "\n",
              "    .colab-df-convert {\n",
              "      background-color: #E8F0FE;\n",
              "      border: none;\n",
              "      border-radius: 50%;\n",
              "      cursor: pointer;\n",
              "      display: none;\n",
              "      fill: #1967D2;\n",
              "      height: 32px;\n",
              "      padding: 0 0 0 0;\n",
              "      width: 32px;\n",
              "    }\n",
              "\n",
              "    .colab-df-convert:hover {\n",
              "      background-color: #E2EBFA;\n",
              "      box-shadow: 0px 1px 2px rgba(60, 64, 67, 0.3), 0px 1px 3px 1px rgba(60, 64, 67, 0.15);\n",
              "      fill: #174EA6;\n",
              "    }\n",
              "\n",
              "    [theme=dark] .colab-df-convert {\n",
              "      background-color: #3B4455;\n",
              "      fill: #D2E3FC;\n",
              "    }\n",
              "\n",
              "    [theme=dark] .colab-df-convert:hover {\n",
              "      background-color: #434B5C;\n",
              "      box-shadow: 0px 1px 3px 1px rgba(0, 0, 0, 0.15);\n",
              "      filter: drop-shadow(0px 1px 2px rgba(0, 0, 0, 0.3));\n",
              "      fill: #FFFFFF;\n",
              "    }\n",
              "  </style>\n",
              "\n",
              "      <script>\n",
              "        const buttonEl =\n",
              "          document.querySelector('#df-354b0a84-c317-4dfd-bb0c-fbc64b7ec121 button.colab-df-convert');\n",
              "        buttonEl.style.display =\n",
              "          google.colab.kernel.accessAllowed ? 'block' : 'none';\n",
              "\n",
              "        async function convertToInteractive(key) {\n",
              "          const element = document.querySelector('#df-354b0a84-c317-4dfd-bb0c-fbc64b7ec121');\n",
              "          const dataTable =\n",
              "            await google.colab.kernel.invokeFunction('convertToInteractive',\n",
              "                                                     [key], {});\n",
              "          if (!dataTable) return;\n",
              "\n",
              "          const docLinkHtml = 'Like what you see? Visit the ' +\n",
              "            '<a target=\"_blank\" href=https://colab.research.google.com/notebooks/data_table.ipynb>data table notebook</a>'\n",
              "            + ' to learn more about interactive tables.';\n",
              "          element.innerHTML = '';\n",
              "          dataTable['output_type'] = 'display_data';\n",
              "          await google.colab.output.renderOutput(dataTable, element);\n",
              "          const docLink = document.createElement('div');\n",
              "          docLink.innerHTML = docLinkHtml;\n",
              "          element.appendChild(docLink);\n",
              "        }\n",
              "      </script>\n",
              "    </div>\n",
              "  </div>\n",
              "  "
            ]
          },
          "metadata": {},
          "execution_count": 24
        }
      ],
      "source": [
        "#most and less used product\n",
        "\n",
        "#using groupby func. to filter the data for each product line and their quantity that have been sold \n",
        "quntityb = (branch_B.groupby(['Product line', pd.Grouper(freq='M', key='Date', closed='left')])\n",
        "             ['Quantity']\n",
        "             .sum().round(0)\n",
        "             .unstack(fill_value=0))\n",
        "quntityb['total quantity '] = quntityb.iloc[0:].sum(axis=1)  #add a row for total quanity for every month\n",
        "quntityb.loc['total per month',0:]= quntityb.sum(axis=0)   #add a row for total quanity for every month\n",
        "quntityb"
      ]
    },
    {
      "cell_type": "code",
      "execution_count": 41,
      "metadata": {
        "id": "p6GRzUezLKof",
        "colab": {
          "base_uri": "https://localhost:8080/",
          "height": 283
        },
        "outputId": "e1e86828-a28b-44a3-8d94-1b5d844bebf2"
      },
      "outputs": [
        {
          "output_type": "execute_result",
          "data": {
            "text/plain": [
              "<matplotlib.axes._subplots.AxesSubplot at 0x7f82c645ab90>"
            ]
          },
          "metadata": {},
          "execution_count": 41
        },
        {
          "output_type": "display_data",
          "data": {
            "text/plain": [
              "<Figure size 432x288 with 1 Axes>"
            ],
            "image/png": "[encoded data removed]"
          },
          "metadata": {
            "needs_background": "light"
          }
        }
      ],
      "source": [
        "#most product line used by males and females\n",
        "\n",
        "#using pivot table func. to filter the data for each product line and their quantity that have been sold and who most bought it \n",
        "per_gender_b = pd.pivot_table(branch_B, values='Quantity', index=['Product line'],\n",
        "                    columns=['Gender'], aggfunc='count')\n",
        "per_gender_b.plot.barh(width =0.6, edgecolor = 'black') #visulaizing the pivot table"
      ]
    },
    {
      "cell_type": "code",
      "execution_count": 26,
      "metadata": {
        "id": "nBaa8E7bMMHz",
        "colab": {
          "base_uri": "https://localhost:8080/",
          "height": 580
        },
        "outputId": "dc8ab809-74f5-4425-e55f-8b50f596bda2"
      },
      "outputs": [
        {
          "output_type": "execute_result",
          "data": {
            "text/plain": [
              "([<matplotlib.patches.Wedge at 0x7f82c66cb450>,\n",
              "  <matplotlib.patches.Wedge at 0x7f82c66cbc10>,\n",
              "  <matplotlib.patches.Wedge at 0x7f82c66544d0>,\n",
              "  <matplotlib.patches.Wedge at 0x7f82c6654dd0>,\n",
              "  <matplotlib.patches.Wedge at 0x7f82c6660950>,\n",
              "  <matplotlib.patches.Wedge at 0x7f82c666b2d0>],\n",
              " [Text(0.9403756865976617, 0.5706956877846342, 'Electronic accessories'),\n",
              "  Text(-0.036070113168989205, 1.0994084531856105, 'Fashon accessories'),\n",
              "  Text(-0.9324054816095344, 0.5836266082560769, 'Food and beverages'),\n",
              "  Text(-1.0757122646196053, -0.531829976352368, 'Health and beauty'),\n",
              "  Text(-0.05504102725688986, -1.0986220848492472, 'Home and lifestyle'),\n",
              "  Text(1.0193616320445793, -0.6331681159971749, 'Sports and travel')],\n",
              " [Text(0.5129321926896335, 0.31128855697343677, '17.4%'),\n",
              "  Text(-0.01967460718308502, 0.599677338101242, '16.3%'),\n",
              "  Text(-0.5085848081506551, 0.3183417863214965, '14.8%'),\n",
              "  Text(-0.6274988210281032, -0.3102341528722146, '17.6%'),\n",
              "  Text(-0.0300223785037581, -0.5992484099177711, '16.2%'),\n",
              "  Text(0.5946276186926711, -0.3693480676650187, '17.7%')])"
            ]
          },
          "metadata": {},
          "execution_count": 26
        },
        {
          "output_type": "display_data",
          "data": {
            "text/plain": [
              "<Figure size 432x288 with 1 Axes>"
            ],
            "image/png": "[encoded data removed]"
          },
          "metadata": {}
        }
      ],
      "source": [
        "#most used product line\n",
        "slices = branch_B.groupby(['Product line'])['Quantity'].sum()\n",
        "labels = 'Electronic accessories','Fashon accessories','Food and beverages','Health and beauty','Home and lifestyle','Sports and travel'\n",
        "explode = (0, 0, 0, 0.1, 0, 0.1)\n",
        "plt.pie(slices, labels=labels, explode=explode,autopct='%1.1f%%')"
      ]
    },
    {
      "cell_type": "code",
      "execution_count": 27,
      "metadata": {
        "id": "cf82nImtMz5R",
        "colab": {
          "base_uri": "https://localhost:8080/",
          "height": 359
        },
        "outputId": "91610a43-d18d-4858-8ed4-eb3e4b582440"
      },
      "outputs": [
        {
          "output_type": "execute_result",
          "data": {
            "text/plain": [
              "([<matplotlib.patches.Wedge at 0x7f82c6630710>,\n",
              "  <matplotlib.patches.Wedge at 0x7f82c6630ed0>],\n",
              " [Text(-0.041625597110585624, 1.0992121313309764, 'Female'),\n",
              "  Text(0.04162559711058597, -1.0992121313309762, 'Male')],\n",
              " [Text(-0.02270487115122852, 0.5995702534532598, '51.2%'),\n",
              "  Text(0.02270487115122871, -0.5995702534532596, '48.8%')])"
            ]
          },
          "metadata": {},
          "execution_count": 27
        },
        {
          "output_type": "display_data",
          "data": {
            "text/plain": [
              "<Figure size 432x288 with 1 Axes>"
            ],
            "image/png": "[encoded data removed]"
          },
          "metadata": {}
        }
      ],
      "source": [
        "#visulazing perc. of who visit more \n",
        "slice = branch_B['Gender'].value_counts()\n",
        "labels = 'Female','Male'\n",
        "plt.pie(slice, labels=labels, autopct='%1.1f%%')"
      ]
    },
    {
      "cell_type": "code",
      "execution_count": 28,
      "metadata": {
        "id": "r-KrJpciljsv",
        "colab": {
          "base_uri": "https://localhost:8080/",
          "height": 323
        },
        "outputId": "5f577411-210c-4a1d-e363-4c9ea3f1f483"
      },
      "outputs": [
        {
          "output_type": "execute_result",
          "data": {
            "text/plain": [
              "<matplotlib.axes._subplots.AxesSubplot at 0x7f82c664c690>"
            ]
          },
          "metadata": {},
          "execution_count": 28
        },
        {
          "output_type": "display_data",
          "data": {
            "text/plain": [
              "<Figure size 432x288 with 1 Axes>"
            ],
            "image/png": "[encoded data removed]"
          },
          "metadata": {
            "needs_background": "light"
          }
        }
      ],
      "source": [
        "#visulazing the visitors in every month\n",
        "visitorsb =  (branch_B.groupby(['Gender', pd.Grouper(freq='M', key='Date', closed='left')])\n",
        "             ['Gender'].count()\n",
        "            .unstack(fill_value=0))\n",
        "visitorsb.plot(kind='bar',width=0.3)"
      ]
    },
    {
      "cell_type": "markdown",
      "metadata": {
        "id": "Lc-dycN7MiG3"
      },
      "source": [
        "#Branch C"
      ]
    },
    {
      "cell_type": "code",
      "execution_count": 29,
      "metadata": {
        "id": "owUngd7OMUgc",
        "colab": {
          "base_uri": "https://localhost:8080/",
          "height": 392
        },
        "outputId": "a9f62c8f-162e-495e-c349-7ed43be8ebde"
      },
      "outputs": [
        {
          "output_type": "execute_result",
          "data": {
            "text/plain": [
              "     Invoice ID Branch       City Customer type  Gender  \\\n",
              "1   226-31-3081      C  Naypyitaw        Normal  Female   \n",
              "5   699-14-3026      C  Naypyitaw        Normal    Male   \n",
              "7   315-22-5665      C  Naypyitaw        Normal  Female   \n",
              "20  300-71-4605      C  Naypyitaw        Member    Male   \n",
              "34  183-56-6882      C  Naypyitaw        Member  Female   \n",
              "\n",
              "              Product line  Unit price  Quantity  Tax 5%  Total       Date  \\\n",
              "1   Electronic accessories       15.28         5     3.8   80.2 2019-03-08   \n",
              "5   Electronic accessories       85.39         7    29.9  627.6 2019-03-25   \n",
              "7       Home and lifestyle       73.56        10    36.8  772.4 2019-02-24   \n",
              "20  Electronic accessories       86.04         5    21.5  451.7 2019-02-25   \n",
              "34      Food and beverages       99.42         4    19.9  417.6 2019-02-06   \n",
              "\n",
              "     Time  Payment    cogs  gross margin percentage  gross income  Rating  \n",
              "1   10:29     Cash   76.40                      4.8           4.0     9.6  \n",
              "5   18:30  Ewallet  597.73                      4.8          30.0     4.1  \n",
              "7   11:38  Ewallet  735.60                      4.8          37.0     8.0  \n",
              "20  11:24  Ewallet  430.20                      4.8          22.0     4.8  \n",
              "34  10:42  Ewallet  397.68                      4.8          20.0     7.5  "
            ],
            "text/html": [
              "\n",
              "  <div id=\"df-95464719-cc3a-4aca-bdd0-1fec5d228281\">\n",
              "    <div class=\"colab-df-container\">\n",
              "      <div>\n",
              "<style scoped>\n",
              "    .dataframe tbody tr th:only-of-type {\n",
              "        vertical-align: middle;\n",
              "    }\n",
              "\n",
              "    .dataframe tbody tr th {\n",
              "        vertical-align: top;\n",
              "    }\n",
              "\n",
              "    .dataframe thead th {\n",
              "        text-align: right;\n",
              "    }\n",
              "</style>\n",
              "<table border=\"1\" class=\"dataframe\">\n",
              "  <thead>\n",
              "    <tr style=\"text-align: right;\">\n",
              "      <th></th>\n",
              "      <th>Invoice ID</th>\n",
              "      <th>Branch</th>\n",
              "      <th>City</th>\n",
              "      <th>Customer type</th>\n",
              "      <th>Gender</th>\n",
              "      <th>Product line</th>\n",
              "      <th>Unit price</th>\n",
              "      <th>Quantity</th>\n",
              "      <th>Tax 5%</th>\n",
              "      <th>Total</th>\n",
              "      <th>Date</th>\n",
              "      <th>Time</th>\n",
              "      <th>Payment</th>\n",
              "      <th>cogs</th>\n",
              "      <th>gross margin percentage</th>\n",
              "      <th>gross income</th>\n",
              "      <th>Rating</th>\n",
              "    </tr>\n",
              "  </thead>\n",
              "  <tbody>\n",
              "    <tr>\n",
              "      <th>1</th>\n",
              "      <td>226-31-3081</td>\n",
              "      <td>C</td>\n",
              "      <td>Naypyitaw</td>\n",
              "      <td>Normal</td>\n",
              "      <td>Female</td>\n",
              "      <td>Electronic accessories</td>\n",
              "      <td>15.28</td>\n",
              "      <td>5</td>\n",
              "      <td>3.8</td>\n",
              "      <td>80.2</td>\n",
              "      <td>2019-03-08</td>\n",
              "      <td>10:29</td>\n",
              "      <td>Cash</td>\n",
              "      <td>76.40</td>\n",
              "      <td>4.8</td>\n",
              "      <td>4.0</td>\n",
              "      <td>9.6</td>\n",
              "    </tr>\n",
              "    <tr>\n",
              "      <th>5</th>\n",
              "      <td>699-14-3026</td>\n",
              "      <td>C</td>\n",
              "      <td>Naypyitaw</td>\n",
              "      <td>Normal</td>\n",
              "      <td>Male</td>\n",
              "      <td>Electronic accessories</td>\n",
              "      <td>85.39</td>\n",
              "      <td>7</td>\n",
              "      <td>29.9</td>\n",
              "      <td>627.6</td>\n",
              "      <td>2019-03-25</td>\n",
              "      <td>18:30</td>\n",
              "      <td>Ewallet</td>\n",
              "      <td>597.73</td>\n",
              "      <td>4.8</td>\n",
              "      <td>30.0</td>\n",
              "      <td>4.1</td>\n",
              "    </tr>\n",
              "    <tr>\n",
              "      <th>7</th>\n",
              "      <td>315-22-5665</td>\n",
              "      <td>C</td>\n",
              "      <td>Naypyitaw</td>\n",
              "      <td>Normal</td>\n",
              "      <td>Female</td>\n",
              "      <td>Home and lifestyle</td>\n",
              "      <td>73.56</td>\n",
              "      <td>10</td>\n",
              "      <td>36.8</td>\n",
              "      <td>772.4</td>\n",
              "      <td>2019-02-24</td>\n",
              "      <td>11:38</td>\n",
              "      <td>Ewallet</td>\n",
              "      <td>735.60</td>\n",
              "      <td>4.8</td>\n",
              "      <td>37.0</td>\n",
              "      <td>8.0</td>\n",
              "    </tr>\n",
              "    <tr>\n",
              "      <th>20</th>\n",
              "      <td>300-71-4605</td>\n",
              "      <td>C</td>\n",
              "      <td>Naypyitaw</td>\n",
              "      <td>Member</td>\n",
              "      <td>Male</td>\n",
              "      <td>Electronic accessories</td>\n",
              "      <td>86.04</td>\n",
              "      <td>5</td>\n",
              "      <td>21.5</td>\n",
              "      <td>451.7</td>\n",
              "      <td>2019-02-25</td>\n",
              "      <td>11:24</td>\n",
              "      <td>Ewallet</td>\n",
              "      <td>430.20</td>\n",
              "      <td>4.8</td>\n",
              "      <td>22.0</td>\n",
              "      <td>4.8</td>\n",
              "    </tr>\n",
              "    <tr>\n",
              "      <th>34</th>\n",
              "      <td>183-56-6882</td>\n",
              "      <td>C</td>\n",
              "      <td>Naypyitaw</td>\n",
              "      <td>Member</td>\n",
              "      <td>Female</td>\n",
              "      <td>Food and beverages</td>\n",
              "      <td>99.42</td>\n",
              "      <td>4</td>\n",
              "      <td>19.9</td>\n",
              "      <td>417.6</td>\n",
              "      <td>2019-02-06</td>\n",
              "      <td>10:42</td>\n",
              "      <td>Ewallet</td>\n",
              "      <td>397.68</td>\n",
              "      <td>4.8</td>\n",
              "      <td>20.0</td>\n",
              "      <td>7.5</td>\n",
              "    </tr>\n",
              "  </tbody>\n",
              "</table>\n",
              "</div>\n",
              "      <button class=\"colab-df-convert\" onclick=\"convertToInteractive('df-95464719-cc3a-4aca-bdd0-1fec5d228281')\"\n",
              "              title=\"Convert this dataframe to an interactive table.\"\n",
              "              style=\"display:none;\">\n",
              "        \n",
              "  <svg xmlns=\"http://www.w3.org/2000/svg\" height=\"24px\"viewBox=\"0 0 24 24\"\n",
              "       width=\"24px\">\n",
              "    <path d=\"M0 0h24v24H0V0z\" fill=\"none\"/>\n",
              "    <path d=\"M18.56 5.44l.94 2.06.94-2.06 2.06-.94-2.06-.94-.94-2.06-.94 2.06-2.06.94zm-11 1L8.5 8.5l.94-2.06 2.06-.94-2.06-.94L8.5 2.5l-.94 2.06-2.06.94zm10 10l.94 2.06.94-2.06 2.06-.94-2.06-.94-.94-2.06-.94 2.06-2.06.94z\"/><path d=\"M17.41 7.96l-1.37-1.37c-.4-.4-.92-.59-1.43-.59-.52 0-1.04.2-1.43.59L10.3 9.45l-7.72 7.72c-.78.78-.78 2.05 0 2.83L4 21.41c.39.39.9.59 1.41.59.51 0 1.02-.2 1.41-.59l7.78-7.78 2.81-2.81c.8-.78.8-2.07 0-2.86zM5.41 20L4 18.59l7.72-7.72 1.47 1.35L5.41 20z\"/>\n",
              "  </svg>\n",
              "      </button>\n",
              "      \n",
              "  <style>\n",
              "    .colab-df-container {\n",
              "      display:flex;\n",
              "      flex-wrap:wrap;\n",
              "      gap: 12px;\n",
              "    }\n",
              "\n",
              "    .colab-df-convert {\n",
              "      background-color: #E8F0FE;\n",
              "      border: none;\n",
              "      border-radius: 50%;\n",
              "      cursor: pointer;\n",
              "      display: none;\n",
              "      fill: #1967D2;\n",
              "      height: 32px;\n",
              "      padding: 0 0 0 0;\n",
              "      width: 32px;\n",
              "    }\n",
              "\n",
              "    .colab-df-convert:hover {\n",
              "      background-color: #E2EBFA;\n",
              "      box-shadow: 0px 1px 2px rgba(60, 64, 67, 0.3), 0px 1px 3px 1px rgba(60, 64, 67, 0.15);\n",
              "      fill: #174EA6;\n",
              "    }\n",
              "\n",
              "    [theme=dark] .colab-df-convert {\n",
              "      background-color: #3B4455;\n",
              "      fill: #D2E3FC;\n",
              "    }\n",
              "\n",
              "    [theme=dark] .colab-df-convert:hover {\n",
              "      background-color: #434B5C;\n",
              "      box-shadow: 0px 1px 3px 1px rgba(0, 0, 0, 0.15);\n",
              "      filter: drop-shadow(0px 1px 2px rgba(0, 0, 0, 0.3));\n",
              "      fill: #FFFFFF;\n",
              "    }\n",
              "  </style>\n",
              "\n",
              "      <script>\n",
              "        const buttonEl =\n",
              "          document.querySelector('#df-95464719-cc3a-4aca-bdd0-1fec5d228281 button.colab-df-convert');\n",
              "        buttonEl.style.display =\n",
              "          google.colab.kernel.accessAllowed ? 'block' : 'none';\n",
              "\n",
              "        async function convertToInteractive(key) {\n",
              "          const element = document.querySelector('#df-95464719-cc3a-4aca-bdd0-1fec5d228281');\n",
              "          const dataTable =\n",
              "            await google.colab.kernel.invokeFunction('convertToInteractive',\n",
              "                                                     [key], {});\n",
              "          if (!dataTable) return;\n",
              "\n",
              "          const docLinkHtml = 'Like what you see? Visit the ' +\n",
              "            '<a target=\"_blank\" href=https://colab.research.google.com/notebooks/data_table.ipynb>data table notebook</a>'\n",
              "            + ' to learn more about interactive tables.';\n",
              "          element.innerHTML = '';\n",
              "          dataTable['output_type'] = 'display_data';\n",
              "          await google.colab.output.renderOutput(dataTable, element);\n",
              "          const docLink = document.createElement('div');\n",
              "          docLink.innerHTML = docLinkHtml;\n",
              "          element.appendChild(docLink);\n",
              "        }\n",
              "      </script>\n",
              "    </div>\n",
              "  </div>\n",
              "  "
            ]
          },
          "metadata": {},
          "execution_count": 29
        }
      ],
      "source": [
        "#filtering the columns that have any data about branch B  \n",
        "branch_C = supermarket[supermarket['Branch']=='C']\n",
        "branch_C.head()"
      ]
    },
    {
      "cell_type": "code",
      "execution_count": 30,
      "metadata": {
        "id": "zpvTbTdoQjDh",
        "colab": {
          "base_uri": "https://localhost:8080/",
          "height": 468
        },
        "outputId": "67641db8-75f6-4c7d-8b46-dce64e7c786f"
      },
      "outputs": [
        {
          "output_type": "stream",
          "name": "stderr",
          "text": [
            "/usr/local/lib/python3.7/dist-packages/ipykernel_launcher.py:4: SettingWithCopyWarning: \n",
            "A value is trying to be set on a copy of a slice from a DataFrame.\n",
            "Try using .loc[row_indexer,col_indexer] = value instead\n",
            "\n",
            "See the caveats in the documentation: https://pandas.pydata.org/pandas-docs/stable/user_guide/indexing.html#returning-a-view-versus-a-copy\n",
            "  after removing the cwd from sys.path.\n",
            "/usr/local/lib/python3.7/dist-packages/pandas/core/indexing.py:719: FutureWarning: Slicing a positional slice with .loc is not supported, and will raise TypeError in a future version.  Use .loc with labels or .iloc with positions instead.\n",
            "  indexer = self._get_setitem_indexer(key)\n"
          ]
        },
        {
          "output_type": "execute_result",
          "data": {
            "text/plain": [
              "Date                    2019-01-31 00:00:00  2019-02-28 00:00:00  \\\n",
              "Product line                                                       \n",
              "Electronic accessories                298.0                255.0   \n",
              "Fashion accessories                   307.0                269.0   \n",
              "Food and beverages                    221.0                312.0   \n",
              "Health and beauty                     189.0                133.0   \n",
              "Home and lifestyle                    493.0                227.0   \n",
              "Sports and travel                     308.0                225.0   \n",
              "total per month                      1816.0               1421.0   \n",
              "\n",
              "Date                    2019-03-31 00:00:00  total income   \n",
              "Product line                                                \n",
              "Electronic accessories                320.0          873.0  \n",
              "Fashion accessories                   204.0          780.0  \n",
              "Food and beverages                    284.0          817.0  \n",
              "Health and beauty                     281.0          603.0  \n",
              "Home and lifestyle                    346.0         1066.0  \n",
              "Sports and travel                     385.0          918.0  \n",
              "total per month                      1820.0         5057.0  "
            ],
            "text/html": [
              "\n",
              "  <div id=\"df-520cc921-fec1-4cb8-b31c-9eb31b4cf22b\">\n",
              "    <div class=\"colab-df-container\">\n",
              "      <div>\n",
              "<style scoped>\n",
              "    .dataframe tbody tr th:only-of-type {\n",
              "        vertical-align: middle;\n",
              "    }\n",
              "\n",
              "    .dataframe tbody tr th {\n",
              "        vertical-align: top;\n",
              "    }\n",
              "\n",
              "    .dataframe thead th {\n",
              "        text-align: right;\n",
              "    }\n",
              "</style>\n",
              "<table border=\"1\" class=\"dataframe\">\n",
              "  <thead>\n",
              "    <tr style=\"text-align: right;\">\n",
              "      <th>Date</th>\n",
              "      <th>2019-01-31 00:00:00</th>\n",
              "      <th>2019-02-28 00:00:00</th>\n",
              "      <th>2019-03-31 00:00:00</th>\n",
              "      <th>total income</th>\n",
              "    </tr>\n",
              "    <tr>\n",
              "      <th>Product line</th>\n",
              "      <th></th>\n",
              "      <th></th>\n",
              "      <th></th>\n",
              "      <th></th>\n",
              "    </tr>\n",
              "  </thead>\n",
              "  <tbody>\n",
              "    <tr>\n",
              "      <th>Electronic accessories</th>\n",
              "      <td>298.0</td>\n",
              "      <td>255.0</td>\n",
              "      <td>320.0</td>\n",
              "      <td>873.0</td>\n",
              "    </tr>\n",
              "    <tr>\n",
              "      <th>Fashion accessories</th>\n",
              "      <td>307.0</td>\n",
              "      <td>269.0</td>\n",
              "      <td>204.0</td>\n",
              "      <td>780.0</td>\n",
              "    </tr>\n",
              "    <tr>\n",
              "      <th>Food and beverages</th>\n",
              "      <td>221.0</td>\n",
              "      <td>312.0</td>\n",
              "      <td>284.0</td>\n",
              "      <td>817.0</td>\n",
              "    </tr>\n",
              "    <tr>\n",
              "      <th>Health and beauty</th>\n",
              "      <td>189.0</td>\n",
              "      <td>133.0</td>\n",
              "      <td>281.0</td>\n",
              "      <td>603.0</td>\n",
              "    </tr>\n",
              "    <tr>\n",
              "      <th>Home and lifestyle</th>\n",
              "      <td>493.0</td>\n",
              "      <td>227.0</td>\n",
              "      <td>346.0</td>\n",
              "      <td>1066.0</td>\n",
              "    </tr>\n",
              "    <tr>\n",
              "      <th>Sports and travel</th>\n",
              "      <td>308.0</td>\n",
              "      <td>225.0</td>\n",
              "      <td>385.0</td>\n",
              "      <td>918.0</td>\n",
              "    </tr>\n",
              "    <tr>\n",
              "      <th>total per month</th>\n",
              "      <td>1816.0</td>\n",
              "      <td>1421.0</td>\n",
              "      <td>1820.0</td>\n",
              "      <td>5057.0</td>\n",
              "    </tr>\n",
              "  </tbody>\n",
              "</table>\n",
              "</div>\n",
              "      <button class=\"colab-df-convert\" onclick=\"convertToInteractive('df-520cc921-fec1-4cb8-b31c-9eb31b4cf22b')\"\n",
              "              title=\"Convert this dataframe to an interactive table.\"\n",
              "              style=\"display:none;\">\n",
              "        \n",
              "  <svg xmlns=\"http://www.w3.org/2000/svg\" height=\"24px\"viewBox=\"0 0 24 24\"\n",
              "       width=\"24px\">\n",
              "    <path d=\"M0 0h24v24H0V0z\" fill=\"none\"/>\n",
              "    <path d=\"M18.56 5.44l.94 2.06.94-2.06 2.06-.94-2.06-.94-.94-2.06-.94 2.06-2.06.94zm-11 1L8.5 8.5l.94-2.06 2.06-.94-2.06-.94L8.5 2.5l-.94 2.06-2.06.94zm10 10l.94 2.06.94-2.06 2.06-.94-2.06-.94-.94-2.06-.94 2.06-2.06.94z\"/><path d=\"M17.41 7.96l-1.37-1.37c-.4-.4-.92-.59-1.43-.59-.52 0-1.04.2-1.43.59L10.3 9.45l-7.72 7.72c-.78.78-.78 2.05 0 2.83L4 21.41c.39.39.9.59 1.41.59.51 0 1.02-.2 1.41-.59l7.78-7.78 2.81-2.81c.8-.78.8-2.07 0-2.86zM5.41 20L4 18.59l7.72-7.72 1.47 1.35L5.41 20z\"/>\n",
              "  </svg>\n",
              "      </button>\n",
              "      \n",
              "  <style>\n",
              "    .colab-df-container {\n",
              "      display:flex;\n",
              "      flex-wrap:wrap;\n",
              "      gap: 12px;\n",
              "    }\n",
              "\n",
              "    .colab-df-convert {\n",
              "      background-color: #E8F0FE;\n",
              "      border: none;\n",
              "      border-radius: 50%;\n",
              "      cursor: pointer;\n",
              "      display: none;\n",
              "      fill: #1967D2;\n",
              "      height: 32px;\n",
              "      padding: 0 0 0 0;\n",
              "      width: 32px;\n",
              "    }\n",
              "\n",
              "    .colab-df-convert:hover {\n",
              "      background-color: #E2EBFA;\n",
              "      box-shadow: 0px 1px 2px rgba(60, 64, 67, 0.3), 0px 1px 3px 1px rgba(60, 64, 67, 0.15);\n",
              "      fill: #174EA6;\n",
              "    }\n",
              "\n",
              "    [theme=dark] .colab-df-convert {\n",
              "      background-color: #3B4455;\n",
              "      fill: #D2E3FC;\n",
              "    }\n",
              "\n",
              "    [theme=dark] .colab-df-convert:hover {\n",
              "      background-color: #434B5C;\n",
              "      box-shadow: 0px 1px 3px 1px rgba(0, 0, 0, 0.15);\n",
              "      filter: drop-shadow(0px 1px 2px rgba(0, 0, 0, 0.3));\n",
              "      fill: #FFFFFF;\n",
              "    }\n",
              "  </style>\n",
              "\n",
              "      <script>\n",
              "        const buttonEl =\n",
              "          document.querySelector('#df-520cc921-fec1-4cb8-b31c-9eb31b4cf22b button.colab-df-convert');\n",
              "        buttonEl.style.display =\n",
              "          google.colab.kernel.accessAllowed ? 'block' : 'none';\n",
              "\n",
              "        async function convertToInteractive(key) {\n",
              "          const element = document.querySelector('#df-520cc921-fec1-4cb8-b31c-9eb31b4cf22b');\n",
              "          const dataTable =\n",
              "            await google.colab.kernel.invokeFunction('convertToInteractive',\n",
              "                                                     [key], {});\n",
              "          if (!dataTable) return;\n",
              "\n",
              "          const docLinkHtml = 'Like what you see? Visit the ' +\n",
              "            '<a target=\"_blank\" href=https://colab.research.google.com/notebooks/data_table.ipynb>data table notebook</a>'\n",
              "            + ' to learn more about interactive tables.';\n",
              "          element.innerHTML = '';\n",
              "          dataTable['output_type'] = 'display_data';\n",
              "          await google.colab.output.renderOutput(dataTable, element);\n",
              "          const docLink = document.createElement('div');\n",
              "          docLink.innerHTML = docLinkHtml;\n",
              "          element.appendChild(docLink);\n",
              "        }\n",
              "      </script>\n",
              "    </div>\n",
              "  </div>\n",
              "  "
            ]
          },
          "metadata": {},
          "execution_count": 30
        }
      ],
      "source": [
        "#the gross income of every product line per month\n",
        "\n",
        "#using groupby func. to filter the data for each product line and their gross income in every period\n",
        "branch_C['Date'] = pd.to_datetime(branch_C['Date'], errors='coerce')\n",
        "c = (branch_A.groupby(['Product line', pd.Grouper(freq='M', key='Date', closed='left')])\n",
        "             ['gross income']\n",
        "             .sum().round(0)\n",
        "             .unstack(fill_value=0))\n",
        "c['total income '] = c.iloc[0:].sum(axis=1)  #add a row for total income for every month\n",
        "c.loc['total per month',0:]= c.sum(axis=0)   #add a column for total income for product line \n",
        "c"
      ]
    },
    {
      "cell_type": "code",
      "execution_count": 46,
      "metadata": {
        "id": "WGvZMI3NNOhO",
        "colab": {
          "base_uri": "https://localhost:8080/",
          "height": 177
        },
        "outputId": "12ce2fd0-7c9a-4e9a-d9fe-9657199a5dd0"
      },
      "outputs": [
        {
          "output_type": "display_data",
          "data": {
            "text/plain": [
              "<Figure size 720x144 with 1 Axes>"
            ],
            "image/png": "[encoded data removed]"
          },
          "metadata": {
            "needs_background": "light"
          }
        }
      ],
      "source": [
        "#visulaize total profit of every product line \n",
        "product_income_c = branch_C.groupby(['Product line'])['gross income'].sum().reset_index()\n",
        "fig, ax = plt.subplots(figsize=(10,2))\n",
        "ax.barh(product_income_c.iloc[:,0], product_income_c.iloc[:,1])\n",
        "for s in ['top','bottom','left','right']:\n",
        "    ax.spines[s].set_visible(False)\n",
        "\n",
        "ax.grid(b=True, color='grey', linestyle='-.', linewidth=0.5, alpha=0.2)\n",
        "ax.invert_yaxis()\n",
        "for i in ax.patches:\n",
        "    ax.text(i.get_width()+100, i.get_y()+0.5, str(round((i.get_width()), 2)),\n",
        "            fontsize=10, fontweight='bold', color='grey')\n",
        "\n",
        "ax.set_title('Total Profit Of Every Product Line Of Branch C',\n",
        "             loc='left', pad=10)\n",
        "\n",
        "fig.text(0.9, 0.15, '@bmanohar16', fontsize=12, color='grey',\n",
        "         ha='right', va='bottom', alpha=0.5) \n",
        "\n",
        "plt.show()"
      ]
    },
    {
      "cell_type": "code",
      "execution_count": 32,
      "metadata": {
        "id": "utkOoTRpNXnu",
        "colab": {
          "base_uri": "https://localhost:8080/",
          "height": 468
        },
        "outputId": "8ff32f6f-8ba8-4f02-e2c0-8ce8ebc1f2bd"
      },
      "outputs": [
        {
          "output_type": "stream",
          "name": "stderr",
          "text": [
            "/usr/local/lib/python3.7/dist-packages/ipykernel_launcher.py:4: SettingWithCopyWarning: \n",
            "A value is trying to be set on a copy of a slice from a DataFrame.\n",
            "Try using .loc[row_indexer,col_indexer] = value instead\n",
            "\n",
            "See the caveats in the documentation: https://pandas.pydata.org/pandas-docs/stable/user_guide/indexing.html#returning-a-view-versus-a-copy\n",
            "  after removing the cwd from sys.path.\n",
            "/usr/local/lib/python3.7/dist-packages/pandas/core/indexing.py:719: FutureWarning: Slicing a positional slice with .loc is not supported, and will raise TypeError in a future version.  Use .loc with labels or .iloc with positions instead.\n",
            "  indexer = self._get_setitem_indexer(key)\n"
          ]
        },
        {
          "output_type": "execute_result",
          "data": {
            "text/plain": [
              "Date                    2019-01-31 00:00:00  2019-02-28 00:00:00  \\\n",
              "Product line                                                       \n",
              "Electronic accessories                 90.0                146.0   \n",
              "Fashion accessories                   101.0                110.0   \n",
              "Food and beverages                    102.0                107.0   \n",
              "Health and beauty                      91.0                102.0   \n",
              "Home and lifestyle                     73.0                 83.0   \n",
              "Sports and travel                     105.0                103.0   \n",
              "total per month                       562.0                651.0   \n",
              "\n",
              "Date                    2019-03-31 00:00:00  total quantity   \n",
              "Product line                                                  \n",
              "Electronic accessories                 80.0            316.0  \n",
              "Fashion accessories                    86.0            297.0  \n",
              "Food and beverages                     61.0            270.0  \n",
              "Health and beauty                     127.0            320.0  \n",
              "Home and lifestyle                    139.0            295.0  \n",
              "Sports and travel                     114.0            322.0  \n",
              "total per month                       607.0           1820.0  "
            ],
            "text/html": [
              "\n",
              "  <div id=\"df-0763ef2b-1799-472e-a638-91b3376c6fe9\">\n",
              "    <div class=\"colab-df-container\">\n",
              "      <div>\n",
              "<style scoped>\n",
              "    .dataframe tbody tr th:only-of-type {\n",
              "        vertical-align: middle;\n",
              "    }\n",
              "\n",
              "    .dataframe tbody tr th {\n",
              "        vertical-align: top;\n",
              "    }\n",
              "\n",
              "    .dataframe thead th {\n",
              "        text-align: right;\n",
              "    }\n",
              "</style>\n",
              "<table border=\"1\" class=\"dataframe\">\n",
              "  <thead>\n",
              "    <tr style=\"text-align: right;\">\n",
              "      <th>Date</th>\n",
              "      <th>2019-01-31 00:00:00</th>\n",
              "      <th>2019-02-28 00:00:00</th>\n",
              "      <th>2019-03-31 00:00:00</th>\n",
              "      <th>total quantity</th>\n",
              "    </tr>\n",
              "    <tr>\n",
              "      <th>Product line</th>\n",
              "      <th></th>\n",
              "      <th></th>\n",
              "      <th></th>\n",
              "      <th></th>\n",
              "    </tr>\n",
              "  </thead>\n",
              "  <tbody>\n",
              "    <tr>\n",
              "      <th>Electronic accessories</th>\n",
              "      <td>90.0</td>\n",
              "      <td>146.0</td>\n",
              "      <td>80.0</td>\n",
              "      <td>316.0</td>\n",
              "    </tr>\n",
              "    <tr>\n",
              "      <th>Fashion accessories</th>\n",
              "      <td>101.0</td>\n",
              "      <td>110.0</td>\n",
              "      <td>86.0</td>\n",
              "      <td>297.0</td>\n",
              "    </tr>\n",
              "    <tr>\n",
              "      <th>Food and beverages</th>\n",
              "      <td>102.0</td>\n",
              "      <td>107.0</td>\n",
              "      <td>61.0</td>\n",
              "      <td>270.0</td>\n",
              "    </tr>\n",
              "    <tr>\n",
              "      <th>Health and beauty</th>\n",
              "      <td>91.0</td>\n",
              "      <td>102.0</td>\n",
              "      <td>127.0</td>\n",
              "      <td>320.0</td>\n",
              "    </tr>\n",
              "    <tr>\n",
              "      <th>Home and lifestyle</th>\n",
              "      <td>73.0</td>\n",
              "      <td>83.0</td>\n",
              "      <td>139.0</td>\n",
              "      <td>295.0</td>\n",
              "    </tr>\n",
              "    <tr>\n",
              "      <th>Sports and travel</th>\n",
              "      <td>105.0</td>\n",
              "      <td>103.0</td>\n",
              "      <td>114.0</td>\n",
              "      <td>322.0</td>\n",
              "    </tr>\n",
              "    <tr>\n",
              "      <th>total per month</th>\n",
              "      <td>562.0</td>\n",
              "      <td>651.0</td>\n",
              "      <td>607.0</td>\n",
              "      <td>1820.0</td>\n",
              "    </tr>\n",
              "  </tbody>\n",
              "</table>\n",
              "</div>\n",
              "      <button class=\"colab-df-convert\" onclick=\"convertToInteractive('df-0763ef2b-1799-472e-a638-91b3376c6fe9')\"\n",
              "              title=\"Convert this dataframe to an interactive table.\"\n",
              "              style=\"display:none;\">\n",
              "        \n",
              "  <svg xmlns=\"http://www.w3.org/2000/svg\" height=\"24px\"viewBox=\"0 0 24 24\"\n",
              "       width=\"24px\">\n",
              "    <path d=\"M0 0h24v24H0V0z\" fill=\"none\"/>\n",
              "    <path d=\"M18.56 5.44l.94 2.06.94-2.06 2.06-.94-2.06-.94-.94-2.06-.94 2.06-2.06.94zm-11 1L8.5 8.5l.94-2.06 2.06-.94-2.06-.94L8.5 2.5l-.94 2.06-2.06.94zm10 10l.94 2.06.94-2.06 2.06-.94-2.06-.94-.94-2.06-.94 2.06-2.06.94z\"/><path d=\"M17.41 7.96l-1.37-1.37c-.4-.4-.92-.59-1.43-.59-.52 0-1.04.2-1.43.59L10.3 9.45l-7.72 7.72c-.78.78-.78 2.05 0 2.83L4 21.41c.39.39.9.59 1.41.59.51 0 1.02-.2 1.41-.59l7.78-7.78 2.81-2.81c.8-.78.8-2.07 0-2.86zM5.41 20L4 18.59l7.72-7.72 1.47 1.35L5.41 20z\"/>\n",
              "  </svg>\n",
              "      </button>\n",
              "      \n",
              "  <style>\n",
              "    .colab-df-container {\n",
              "      display:flex;\n",
              "      flex-wrap:wrap;\n",
              "      gap: 12px;\n",
              "    }\n",
              "\n",
              "    .colab-df-convert {\n",
              "      background-color: #E8F0FE;\n",
              "      border: none;\n",
              "      border-radius: 50%;\n",
              "      cursor: pointer;\n",
              "      display: none;\n",
              "      fill: #1967D2;\n",
              "      height: 32px;\n",
              "      padding: 0 0 0 0;\n",
              "      width: 32px;\n",
              "    }\n",
              "\n",
              "    .colab-df-convert:hover {\n",
              "      background-color: #E2EBFA;\n",
              "      box-shadow: 0px 1px 2px rgba(60, 64, 67, 0.3), 0px 1px 3px 1px rgba(60, 64, 67, 0.15);\n",
              "      fill: #174EA6;\n",
              "    }\n",
              "\n",
              "    [theme=dark] .colab-df-convert {\n",
              "      background-color: #3B4455;\n",
              "      fill: #D2E3FC;\n",
              "    }\n",
              "\n",
              "    [theme=dark] .colab-df-convert:hover {\n",
              "      background-color: #434B5C;\n",
              "      box-shadow: 0px 1px 3px 1px rgba(0, 0, 0, 0.15);\n",
              "      filter: drop-shadow(0px 1px 2px rgba(0, 0, 0, 0.3));\n",
              "      fill: #FFFFFF;\n",
              "    }\n",
              "  </style>\n",
              "\n",
              "      <script>\n",
              "        const buttonEl =\n",
              "          document.querySelector('#df-0763ef2b-1799-472e-a638-91b3376c6fe9 button.colab-df-convert');\n",
              "        buttonEl.style.display =\n",
              "          google.colab.kernel.accessAllowed ? 'block' : 'none';\n",
              "\n",
              "        async function convertToInteractive(key) {\n",
              "          const element = document.querySelector('#df-0763ef2b-1799-472e-a638-91b3376c6fe9');\n",
              "          const dataTable =\n",
              "            await google.colab.kernel.invokeFunction('convertToInteractive',\n",
              "                                                     [key], {});\n",
              "          if (!dataTable) return;\n",
              "\n",
              "          const docLinkHtml = 'Like what you see? Visit the ' +\n",
              "            '<a target=\"_blank\" href=https://colab.research.google.com/notebooks/data_table.ipynb>data table notebook</a>'\n",
              "            + ' to learn more about interactive tables.';\n",
              "          element.innerHTML = '';\n",
              "          dataTable['output_type'] = 'display_data';\n",
              "          await google.colab.output.renderOutput(dataTable, element);\n",
              "          const docLink = document.createElement('div');\n",
              "          docLink.innerHTML = docLinkHtml;\n",
              "          element.appendChild(docLink);\n",
              "        }\n",
              "      </script>\n",
              "    </div>\n",
              "  </div>\n",
              "  "
            ]
          },
          "metadata": {},
          "execution_count": 32
        }
      ],
      "source": [
        "#most and less used product\n",
        "\n",
        "#using groupby func. to filter the data for each product line and their quantity that have been sold \n",
        "branch_C['Date'] = pd.to_datetime(branch_C['Date'], errors='coerce')\n",
        "quntity_c = (branch_B.groupby(['Product line', pd.Grouper(freq='M', key='Date', closed='left')])\n",
        "             ['Quantity']\n",
        "             .sum().round(0)\n",
        "             .unstack(fill_value=0))\n",
        "quntity_c['total quantity '] = quntity_c.iloc[0:].sum(axis=1)   #add a row for total income for every month\n",
        "quntity_c.loc['total per month',0:] = quntity_c.sum(axis=0)      #add a column for total income for product line\n",
        "quntity_c"
      ]
    },
    {
      "cell_type": "code",
      "execution_count": 44,
      "metadata": {
        "id": "Vyult2WJNj3v",
        "colab": {
          "base_uri": "https://localhost:8080/",
          "height": 283
        },
        "outputId": "12cb7fb0-ee7a-44b7-a0fc-e4c8880d0285"
      },
      "outputs": [
        {
          "output_type": "execute_result",
          "data": {
            "text/plain": [
              "<matplotlib.axes._subplots.AxesSubplot at 0x7f82c6230690>"
            ]
          },
          "metadata": {},
          "execution_count": 44
        },
        {
          "output_type": "display_data",
          "data": {
            "text/plain": [
              "<Figure size 432x288 with 1 Axes>"
            ],
            "image/png": "[encoded data removed]"
          },
          "metadata": {
            "needs_background": "light"
          }
        }
      ],
      "source": [
        "#most product line used by males and females\n",
        "\n",
        "#using pivot table func. to filter the data for each product line and their quantity that have been sold and who most bought it \n",
        "per_gender_c = pd.pivot_table(branch_C, values='Quantity', index=['Product line'],\n",
        "                    columns=['Gender'], aggfunc='count')\n",
        "per_gender_c.plot.barh(width =0.6, edgecolor = 'black')"
      ]
    },
    {
      "cell_type": "code",
      "execution_count": 34,
      "metadata": {
        "id": "6-gE5PWmNrbI",
        "colab": {
          "base_uri": "https://localhost:8080/",
          "height": 580
        },
        "outputId": "424ce3e6-0123-4866-d7e3-6a1d9e1bee17"
      },
      "outputs": [
        {
          "output_type": "execute_result",
          "data": {
            "text/plain": [
              "([<matplotlib.patches.Wedge at 0x7f82c67d2c10>,\n",
              "  <matplotlib.patches.Wedge at 0x7f82c684a250>,\n",
              "  <matplotlib.patches.Wedge at 0x7f82c67e8f90>,\n",
              "  <matplotlib.patches.Wedge at 0x7f82c67e8210>,\n",
              "  <matplotlib.patches.Wedge at 0x7f82c696f790>,\n",
              "  <matplotlib.patches.Wedge at 0x7f82c68c06d0>],\n",
              " [Text(0.9252861013660728, 0.5948492503305134, 'Electronic accessories'),\n",
              "  Text(-0.17384864263465857, 1.0861752388330748, 'Fashon accessories'),\n",
              "  Text(-1.079751880860776, 0.21008540115299898, 'Food and beverages'),\n",
              "  Text(-0.73058170803578, -0.9519718314548611, 'Health and beauty'),\n",
              "  Text(0.2626129395845151, -1.0681921381300181, 'Home and lifestyle'),\n",
              "  Text(1.0780811207005296, -0.5270114772840245, 'Sports and travel')],\n",
              " [Text(0.5047015098360397, 0.32446322745300726, '18.2%'),\n",
              "  Text(-0.0948265323461774, 0.592459221181677, '18.7%'),\n",
              "  Text(-0.5889555713786051, 0.11459203699254489, '20.2%'),\n",
              "  Text(-0.4261726630208717, -0.5553169016820022, '15.1%'),\n",
              "  Text(0.14324342159155365, -0.5826502571618281, '13.4%'),\n",
              "  Text(0.6288806537419757, -0.30742336174901425, '14.5%')])"
            ]
          },
          "metadata": {},
          "execution_count": 34
        },
        {
          "output_type": "display_data",
          "data": {
            "text/plain": [
              "<Figure size 432x288 with 1 Axes>"
            ],
            "image/png": "[encoded data removed]"
          },
          "metadata": {}
        }
      ],
      "source": [
        "#most used product line\n",
        "slices = branch_C.groupby(['Product line'])['Quantity'].sum()\n",
        "labels = 'Electronic accessories','Fashon accessories','Food and beverages','Health and beauty','Home and lifestyle','Sports and travel'\n",
        "explode = (0, 0, 0, 0.1, 0, 0.1)\n",
        "plt.pie(slices, labels=labels, explode=explode,autopct='%1.1f%%')"
      ]
    },
    {
      "cell_type": "code",
      "execution_count": 35,
      "metadata": {
        "id": "Xlq7hKXLNxUG",
        "colab": {
          "base_uri": "https://localhost:8080/",
          "height": 359
        },
        "outputId": "8c72746b-c5cc-4d2d-c0a8-8523fc030f3c"
      },
      "outputs": [
        {
          "output_type": "execute_result",
          "data": {
            "text/plain": [
              "([<matplotlib.patches.Wedge at 0x7f82c6aabe90>,\n",
              "  <matplotlib.patches.Wedge at 0x7f82c6aabf50>],\n",
              " [Text(-0.1470600363371991, 1.0901253807303553, 'Female'),\n",
              "  Text(0.14706013840210297, -1.090125366961596, 'Male')],\n",
              " [Text(-0.08021456527483588, 0.5946138440347392, '54.3%'),\n",
              "  Text(0.0802146209466016, -0.5946138365245068, '45.7%')])"
            ]
          },
          "metadata": {},
          "execution_count": 35
        },
        {
          "output_type": "display_data",
          "data": {
            "text/plain": [
              "<Figure size 432x288 with 1 Axes>"
            ],
            "image/png": "[encoded data removed]"
          },
          "metadata": {}
        }
      ],
      "source": [
        "#perc. of who visit more \n",
        "slice = branch_C['Gender'].value_counts()\n",
        "labels = 'Female','Male'\n",
        "plt.pie(slice, labels=labels, autopct='%1.1f%%')"
      ]
    },
    {
      "cell_type": "code",
      "execution_count": 36,
      "metadata": {
        "id": "7D5XGV70nd2P",
        "colab": {
          "base_uri": "https://localhost:8080/",
          "height": 454
        },
        "outputId": "6da91649-b025-4198-96b9-579145088900"
      },
      "outputs": [
        {
          "output_type": "stream",
          "name": "stderr",
          "text": [
            "/usr/local/lib/python3.7/dist-packages/ipykernel_launcher.py:3: SettingWithCopyWarning: \n",
            "A value is trying to be set on a copy of a slice from a DataFrame.\n",
            "Try using .loc[row_indexer,col_indexer] = value instead\n",
            "\n",
            "See the caveats in the documentation: https://pandas.pydata.org/pandas-docs/stable/user_guide/indexing.html#returning-a-view-versus-a-copy\n",
            "  This is separate from the ipykernel package so we can avoid doing imports until\n"
          ]
        },
        {
          "output_type": "execute_result",
          "data": {
            "text/plain": [
              "<matplotlib.axes._subplots.AxesSubplot at 0x7f82c6a66a10>"
            ]
          },
          "metadata": {},
          "execution_count": 36
        },
        {
          "output_type": "display_data",
          "data": {
            "text/plain": [
              "<Figure size 432x288 with 1 Axes>"
            ],
            "image/png": "[encoded data removed]"
          },
          "metadata": {
            "needs_background": "light"
          }
        }
      ],
      "source": [
        "#visulazing the visitors in every month\n",
        "\n",
        "branch_C['Date'] = pd.to_datetime(branch_C['Date'], errors='coerce')\n",
        "visitorsc =  (branch_C.groupby(['Gender', pd.Grouper(freq='M', key='Date', closed='left')])\n",
        "             ['Gender'].count()\n",
        "            .unstack(fill_value=0))\n",
        "visitorsc.plot(kind='bar',width=0.3)"
      ]
    },
    {
      "cell_type": "markdown",
      "metadata": {
        "id": "ZsSrdEGYOHqT"
      },
      "source": [
        "#Comparing between the 3 branches"
      ]
    },
    {
      "cell_type": "code",
      "execution_count": 45,
      "metadata": {
        "id": "V5agpSNqUlXj",
        "colab": {
          "base_uri": "https://localhost:8080/",
          "height": 283
        },
        "outputId": "0e2b70fb-3611-488b-fb9e-9e50fbdc11c6"
      },
      "outputs": [
        {
          "output_type": "execute_result",
          "data": {
            "text/plain": [
              "<matplotlib.axes._subplots.AxesSubplot at 0x7f82c61c3750>"
            ]
          },
          "metadata": {},
          "execution_count": 45
        },
        {
          "output_type": "display_data",
          "data": {
            "text/plain": [
              "<Figure size 432x288 with 1 Axes>"
            ],
            "image/png": "[encoded data removed]"
          },
          "metadata": {
            "needs_background": "light"
          }
        }
      ],
      "source": [
        "#comparing between the quantity of the products line of each branch\n",
        "quantity = pd.pivot_table(supermarket, values='Quantity', index=['Product line'],\n",
        "                           columns=['Branch'], aggfunc='sum')\n",
        "quantity.plot(kind='barh')"
      ]
    },
    {
      "cell_type": "code",
      "execution_count": 38,
      "metadata": {
        "id": "w92gXqvQOTFZ",
        "colab": {
          "base_uri": "https://localhost:8080/",
          "height": 414
        },
        "outputId": "904125de-3fa3-48e9-f6ef-2ea58cdd66ed"
      },
      "outputs": [
        {
          "output_type": "execute_result",
          "data": {
            "text/plain": [
              "([<matplotlib.patches.Wedge at 0x7f82c683a4d0>,\n",
              "  <matplotlib.patches.Wedge at 0x7f82c683ac90>,\n",
              "  <matplotlib.patches.Wedge at 0x7f82c681d550>],\n",
              " [Text(0.5636270452177209, 0.9446293208974308, 'A'),\n",
              "  Text(-1.099054706517522, 0.045593333741720046, 'B'),\n",
              "  Text(0.5716246183906207, -1.055104400355613, 'C')],\n",
              " [Text(0.3074329337551205, 0.5152523568531441, '32.9%'),\n",
              "  Text(-0.5994843853731937, 0.024869091131847296, '32.9%'),\n",
              "  Text(0.33344769406119545, -0.6154775668741075, '34.2%')])"
            ]
          },
          "metadata": {},
          "execution_count": 38
        },
        {
          "output_type": "display_data",
          "data": {
            "text/plain": [
              "<Figure size 432x288 with 1 Axes>"
            ],
            "image/png": "[encoded data removed]"
          },
          "metadata": {}
        }
      ],
      "source": [
        "#wanna show the value of the each one??\n",
        "\n",
        "brancha = branch_A['gross income'].sum()\n",
        "branchb = branch_B['gross income'].sum()\n",
        "branchc = branch_C['gross income'].sum()\n",
        "\n",
        "slices1 = brancha, branchb, branchc\n",
        "labels1 = 'A', 'B','C'\n",
        "explode = (0,0,0.1 )\n",
        "plt.pie(slices1, labels=labels1, autopct='%1.1f%%', explode=explode)"
      ]
    },
    {
      "cell_type": "code",
      "execution_count": 39,
      "metadata": {
        "id": "JC2yuAdt7Vgj",
        "colab": {
          "base_uri": "https://localhost:8080/",
          "height": 323
        },
        "outputId": "50eeaf75-1f6f-444d-91be-cce3b728b3f0"
      },
      "outputs": [
        {
          "output_type": "execute_result",
          "data": {
            "text/plain": [
              "<matplotlib.axes._subplots.AxesSubplot at 0x7f82c72118d0>"
            ]
          },
          "metadata": {},
          "execution_count": 39
        },
        {
          "output_type": "display_data",
          "data": {
            "text/plain": [
              "<Figure size 432x288 with 1 Axes>"
            ],
            "image/png": "[encoded data removed]"
          },
          "metadata": {
            "needs_background": "light"
          }
        }
      ],
      "source": [
        "#customers vists per month\n",
        "supermarket['Date'] = pd.to_datetime(supermarket['Date'], errors='coerce')\n",
        "gender = (supermarket.groupby(['Gender', pd.Grouper(freq='M', key='Date', closed='right')])\n",
        "             ['Gender'].count()\n",
        "            .unstack(fill_value=0))\n",
        "gender.plot(kind='bar',width=0.3, edgecolor = 'black')"
      ]
    },
    {
      "cell_type": "code",
      "execution_count": 40,
      "metadata": {
        "id": "EUNqAPCUTMpQ"
      },
      "outputs": [],
      "source": [
        "#supermarket.to_csv('supermarket.csv',encoding = 'utf-8-sig')\n",
        "#files.download('supermarket.csv')"
      ]
    }
  ],
  "metadata": {
    "colab": {
      "collapsed_sections": [],
      "name": "supermaket sales.ipynb",
      "provenance": [],
      "mount_file_id": "1u4nsNAvlNKiuLfpz67jCV2VcCUFUtUsx",
      "authorship_tag": "ABX9TyNYZ9VIi7f3onLHduU30bLW",
      "include_colab_link": true
    },
    "kernelspec": {
      "display_name": "Python 3",
      "name": "python3"
    },
    "language_info": {
      "name": "python"
    }
  },
  "nbformat": 4,
  "nbformat_minor": 0
}