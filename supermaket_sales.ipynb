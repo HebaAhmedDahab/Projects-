{
  "cells": [
    {
      "cell_type": "markdown",
      "metadata": {
        "id": "view-in-github",
        "colab_type": "text"
      },
      "source": [
        "<a href=\"https://colab.research.google.com/github/beba0/Projects-/blob/main/supermaket_sales.ipynb\" target=\"_parent\"><img src=\"https://colab.research.google.com/assets/colab-badge.svg\" alt=\"Open In Colab\"/></a>"
      ]
    },
    {
      "cell_type": "code",
      "execution_count": 17,
      "metadata": {
        "id": "IV0i_9UEli_T"
      },
      "outputs": [],
      "source": [
        "import pandas as pd\n",
        "import numpy as np\n",
        "import matplotlib.pyplot as plt\n",
        "import seaborn as sns\n",
        "import datetime"
      ]
    },
    {
      "cell_type": "code",
      "execution_count": 18,
      "metadata": {
        "id": "myPxRCGlIGtG",
        "colab": {
          "base_uri": "https://localhost:8080/",
          "height": 294
        },
        "outputId": "8ceabea9-3044-4aec-9874-54211bf602cd"
      },
      "outputs": [
        {
          "output_type": "execute_result",
          "data": {
            "text/plain": [
              "   Unnamed: 0   Invoice ID Branch       City Customer type  Gender  \\\n",
              "0           0  750-67-8428      A     Yangon        Member  Female   \n",
              "1           1  226-31-3081      C  Naypyitaw        Normal  Female   \n",
              "2           2  631-41-3108      A     Yangon        Normal    Male   \n",
              "\n",
              "             Product line  Unit price  Quantity   Tax 5%     Total  \\\n",
              "0       Health and beauty       74.69         7  26.1415  548.9715   \n",
              "1  Electronic accessories       15.28         5   3.8200   80.2200   \n",
              "2      Home and lifestyle       46.33         7  16.2155  340.5255   \n",
              "\n",
              "         Date   Time      Payment    cogs  gross margin percentage  \\\n",
              "0  2019-01-05  13:08      Ewallet  522.83                 4.761905   \n",
              "1  2019-03-08  10:29         Cash   76.40                 4.761905   \n",
              "2  2019-03-03  13:23  Credit card  324.31                 4.761905   \n",
              "\n",
              "   gross income  Rating  \n",
              "0       26.1415     9.1  \n",
              "1        3.8200     9.6  \n",
              "2       16.2155     7.4  "
            ],
            "text/html": [
              "\n",
              "  <div id=\"df-c4073cab-4cca-4ad7-b25a-ea5b2cb6c0c6\">\n",
              "    <div class=\"colab-df-container\">\n",
              "      <div>\n",
              "<style scoped>\n",
              "    .dataframe tbody tr th:only-of-type {\n",
              "        vertical-align: middle;\n",
              "    }\n",
              "\n",
              "    .dataframe tbody tr th {\n",
              "        vertical-align: top;\n",
              "    }\n",
              "\n",
              "    .dataframe thead th {\n",
              "        text-align: right;\n",
              "    }\n",
              "</style>\n",
              "<table border=\"1\" class=\"dataframe\">\n",
              "  <thead>\n",
              "    <tr style=\"text-align: right;\">\n",
              "      <th></th>\n",
              "      <th>Unnamed: 0</th>\n",
              "      <th>Invoice ID</th>\n",
              "      <th>Branch</th>\n",
              "      <th>City</th>\n",
              "      <th>Customer type</th>\n",
              "      <th>Gender</th>\n",
              "      <th>Product line</th>\n",
              "      <th>Unit price</th>\n",
              "      <th>Quantity</th>\n",
              "      <th>Tax 5%</th>\n",
              "      <th>Total</th>\n",
              "      <th>Date</th>\n",
              "      <th>Time</th>\n",
              "      <th>Payment</th>\n",
              "      <th>cogs</th>\n",
              "      <th>gross margin percentage</th>\n",
              "      <th>gross income</th>\n",
              "      <th>Rating</th>\n",
              "    </tr>\n",
              "  </thead>\n",
              "  <tbody>\n",
              "    <tr>\n",
              "      <th>0</th>\n",
              "      <td>0</td>\n",
              "      <td>750-67-8428</td>\n",
              "      <td>A</td>\n",
              "      <td>Yangon</td>\n",
              "      <td>Member</td>\n",
              "      <td>Female</td>\n",
              "      <td>Health and beauty</td>\n",
              "      <td>74.69</td>\n",
              "      <td>7</td>\n",
              "      <td>26.1415</td>\n",
              "      <td>548.9715</td>\n",
              "      <td>2019-01-05</td>\n",
              "      <td>13:08</td>\n",
              "      <td>Ewallet</td>\n",
              "      <td>522.83</td>\n",
              "      <td>4.761905</td>\n",
              "      <td>26.1415</td>\n",
              "      <td>9.1</td>\n",
              "    </tr>\n",
              "    <tr>\n",
              "      <th>1</th>\n",
              "      <td>1</td>\n",
              "      <td>226-31-3081</td>\n",
              "      <td>C</td>\n",
              "      <td>Naypyitaw</td>\n",
              "      <td>Normal</td>\n",
              "      <td>Female</td>\n",
              "      <td>Electronic accessories</td>\n",
              "      <td>15.28</td>\n",
              "      <td>5</td>\n",
              "      <td>3.8200</td>\n",
              "      <td>80.2200</td>\n",
              "      <td>2019-03-08</td>\n",
              "      <td>10:29</td>\n",
              "      <td>Cash</td>\n",
              "      <td>76.40</td>\n",
              "      <td>4.761905</td>\n",
              "      <td>3.8200</td>\n",
              "      <td>9.6</td>\n",
              "    </tr>\n",
              "    <tr>\n",
              "      <th>2</th>\n",
              "      <td>2</td>\n",
              "      <td>631-41-3108</td>\n",
              "      <td>A</td>\n",
              "      <td>Yangon</td>\n",
              "      <td>Normal</td>\n",
              "      <td>Male</td>\n",
              "      <td>Home and lifestyle</td>\n",
              "      <td>46.33</td>\n",
              "      <td>7</td>\n",
              "      <td>16.2155</td>\n",
              "      <td>340.5255</td>\n",
              "      <td>2019-03-03</td>\n",
              "      <td>13:23</td>\n",
              "      <td>Credit card</td>\n",
              "      <td>324.31</td>\n",
              "      <td>4.761905</td>\n",
              "      <td>16.2155</td>\n",
              "      <td>7.4</td>\n",
              "    </tr>\n",
              "  </tbody>\n",
              "</table>\n",
              "</div>\n",
              "      <button class=\"colab-df-convert\" onclick=\"convertToInteractive('df-c4073cab-4cca-4ad7-b25a-ea5b2cb6c0c6')\"\n",
              "              title=\"Convert this dataframe to an interactive table.\"\n",
              "              style=\"display:none;\">\n",
              "        \n",
              "  <svg xmlns=\"http://www.w3.org/2000/svg\" height=\"24px\"viewBox=\"0 0 24 24\"\n",
              "       width=\"24px\">\n",
              "    <path d=\"M0 0h24v24H0V0z\" fill=\"none\"/>\n",
              "    <path d=\"M18.56 5.44l.94 2.06.94-2.06 2.06-.94-2.06-.94-.94-2.06-.94 2.06-2.06.94zm-11 1L8.5 8.5l.94-2.06 2.06-.94-2.06-.94L8.5 2.5l-.94 2.06-2.06.94zm10 10l.94 2.06.94-2.06 2.06-.94-2.06-.94-.94-2.06-.94 2.06-2.06.94z\"/><path d=\"M17.41 7.96l-1.37-1.37c-.4-.4-.92-.59-1.43-.59-.52 0-1.04.2-1.43.59L10.3 9.45l-7.72 7.72c-.78.78-.78 2.05 0 2.83L4 21.41c.39.39.9.59 1.41.59.51 0 1.02-.2 1.41-.59l7.78-7.78 2.81-2.81c.8-.78.8-2.07 0-2.86zM5.41 20L4 18.59l7.72-7.72 1.47 1.35L5.41 20z\"/>\n",
              "  </svg>\n",
              "      </button>\n",
              "      \n",
              "  <style>\n",
              "    .colab-df-container {\n",
              "      display:flex;\n",
              "      flex-wrap:wrap;\n",
              "      gap: 12px;\n",
              "    }\n",
              "\n",
              "    .colab-df-convert {\n",
              "      background-color: #E8F0FE;\n",
              "      border: none;\n",
              "      border-radius: 50%;\n",
              "      cursor: pointer;\n",
              "      display: none;\n",
              "      fill: #1967D2;\n",
              "      height: 32px;\n",
              "      padding: 0 0 0 0;\n",
              "      width: 32px;\n",
              "    }\n",
              "\n",
              "    .colab-df-convert:hover {\n",
              "      background-color: #E2EBFA;\n",
              "      box-shadow: 0px 1px 2px rgba(60, 64, 67, 0.3), 0px 1px 3px 1px rgba(60, 64, 67, 0.15);\n",
              "      fill: #174EA6;\n",
              "    }\n",
              "\n",
              "    [theme=dark] .colab-df-convert {\n",
              "      background-color: #3B4455;\n",
              "      fill: #D2E3FC;\n",
              "    }\n",
              "\n",
              "    [theme=dark] .colab-df-convert:hover {\n",
              "      background-color: #434B5C;\n",
              "      box-shadow: 0px 1px 3px 1px rgba(0, 0, 0, 0.15);\n",
              "      filter: drop-shadow(0px 1px 2px rgba(0, 0, 0, 0.3));\n",
              "      fill: #FFFFFF;\n",
              "    }\n",
              "  </style>\n",
              "\n",
              "      <script>\n",
              "        const buttonEl =\n",
              "          document.querySelector('#df-c4073cab-4cca-4ad7-b25a-ea5b2cb6c0c6 button.colab-df-convert');\n",
              "        buttonEl.style.display =\n",
              "          google.colab.kernel.accessAllowed ? 'block' : 'none';\n",
              "\n",
              "        async function convertToInteractive(key) {\n",
              "          const element = document.querySelector('#df-c4073cab-4cca-4ad7-b25a-ea5b2cb6c0c6');\n",
              "          const dataTable =\n",
              "            await google.colab.kernel.invokeFunction('convertToInteractive',\n",
              "                                                     [key], {});\n",
              "          if (!dataTable) return;\n",
              "\n",
              "          const docLinkHtml = 'Like what you see? Visit the ' +\n",
              "            '<a target=\"_blank\" href=https://colab.research.google.com/notebooks/data_table.ipynb>data table notebook</a>'\n",
              "            + ' to learn more about interactive tables.';\n",
              "          element.innerHTML = '';\n",
              "          dataTable['output_type'] = 'display_data';\n",
              "          await google.colab.output.renderOutput(dataTable, element);\n",
              "          const docLink = document.createElement('div');\n",
              "          docLink.innerHTML = docLinkHtml;\n",
              "          element.appendChild(docLink);\n",
              "        }\n",
              "      </script>\n",
              "    </div>\n",
              "  </div>\n",
              "  "
            ]
          },
          "metadata": {},
          "execution_count": 18
        }
      ],
      "source": [
        "supermarket = pd.read_csv(\"/content/supermarket.csv\")\n",
        "supermarket.head(3)"
      ]
    },
    {
      "cell_type": "code",
      "execution_count": 19,
      "metadata": {
        "id": "3RuRUgqsDeAX"
      },
      "outputs": [],
      "source": [
        "supermarket['Tax 5%'] = supermarket['Tax 5%'].round(1)\n",
        "supermarket['Total'] = supermarket['Total'].round(1)\n",
        "supermarket['gross margin percentage'] = supermarket['gross margin percentage'].round(1)\n",
        "supermarket['gross income'] = supermarket['gross income'].round(0)\n",
        "supermarket = supermarket.drop('Unnamed: 0',axis=1)"
      ]
    },
    {
      "cell_type": "code",
      "execution_count": 20,
      "metadata": {
        "colab": {
          "base_uri": "https://localhost:8080/"
        },
        "id": "Q5iJN0eJA3HV",
        "outputId": "2989b593-e5e9-4261-8106-a18dedb24aea"
      },
      "outputs": [
        {
          "output_type": "execute_result",
          "data": {
            "text/plain": [
              "array(['A', 'C', 'B'], dtype=object)"
            ]
          },
          "metadata": {},
          "execution_count": 20
        }
      ],
      "source": [
        "supermarket['Branch'].unique()"
      ]
    },
    {
      "cell_type": "code",
      "execution_count": 21,
      "metadata": {
        "colab": {
          "base_uri": "https://localhost:8080/"
        },
        "id": "VKLIEAMoZaO-",
        "outputId": "c98789a7-d66a-4fb4-8237-f896185d3a4e"
      },
      "outputs": [
        {
          "output_type": "stream",
          "name": "stdout",
          "text": [
            "<class 'pandas.core.frame.DataFrame'>\n",
            "RangeIndex: 1000 entries, 0 to 999\n",
            "Data columns (total 17 columns):\n",
            " #   Column                   Non-Null Count  Dtype  \n",
            "---  ------                   --------------  -----  \n",
            " 0   Invoice ID               1000 non-null   object \n",
            " 1   Branch                   1000 non-null   object \n",
            " 2   City                     1000 non-null   object \n",
            " 3   Customer type            1000 non-null   object \n",
            " 4   Gender                   1000 non-null   object \n",
            " 5   Product line             1000 non-null   object \n",
            " 6   Unit price               1000 non-null   float64\n",
            " 7   Quantity                 1000 non-null   int64  \n",
            " 8   Tax 5%                   1000 non-null   float64\n",
            " 9   Total                    1000 non-null   float64\n",
            " 10  Date                     1000 non-null   object \n",
            " 11  Time                     1000 non-null   object \n",
            " 12  Payment                  1000 non-null   object \n",
            " 13  cogs                     1000 non-null   float64\n",
            " 14  gross margin percentage  1000 non-null   float64\n",
            " 15  gross income             1000 non-null   float64\n",
            " 16  Rating                   1000 non-null   float64\n",
            "dtypes: float64(7), int64(1), object(9)\n",
            "memory usage: 132.9+ KB\n"
          ]
        }
      ],
      "source": [
        "supermarket.info()"
      ]
    },
    {
      "cell_type": "code",
      "execution_count": 22,
      "metadata": {
        "colab": {
          "base_uri": "https://localhost:8080/"
        },
        "id": "WnmW6wpKaZJF",
        "outputId": "655bc96c-f00f-4cec-fbe4-be31c485cbae"
      },
      "outputs": [
        {
          "output_type": "execute_result",
          "data": {
            "text/plain": [
              "(1000, 17)"
            ]
          },
          "metadata": {},
          "execution_count": 22
        }
      ],
      "source": [
        "supermarket.shape"
      ]
    },
    {
      "cell_type": "code",
      "execution_count": 23,
      "metadata": {
        "colab": {
          "base_uri": "https://localhost:8080/"
        },
        "id": "wLTEKERVdEa0",
        "outputId": "673362cb-7b59-41b9-f7a3-4a4c7f5d6ac4"
      },
      "outputs": [
        {
          "output_type": "execute_result",
          "data": {
            "text/plain": [
              "0      False\n",
              "1      False\n",
              "2      False\n",
              "3      False\n",
              "4      False\n",
              "       ...  \n",
              "995    False\n",
              "996    False\n",
              "997    False\n",
              "998    False\n",
              "999    False\n",
              "Length: 1000, dtype: bool"
            ]
          },
          "metadata": {},
          "execution_count": 23
        }
      ],
      "source": [
        "supermarket.duplicated()"
      ]
    },
    {
      "cell_type": "code",
      "execution_count": 24,
      "metadata": {
        "colab": {
          "base_uri": "https://localhost:8080/"
        },
        "id": "Nu0AuGy1dPvg",
        "outputId": "da79e471-0284-4164-ba7a-153c5945c5e3"
      },
      "outputs": [
        {
          "output_type": "execute_result",
          "data": {
            "text/plain": [
              "Invoice ID                 0\n",
              "Branch                     0\n",
              "City                       0\n",
              "Customer type              0\n",
              "Gender                     0\n",
              "Product line               0\n",
              "Unit price                 0\n",
              "Quantity                   0\n",
              "Tax 5%                     0\n",
              "Total                      0\n",
              "Date                       0\n",
              "Time                       0\n",
              "Payment                    0\n",
              "cogs                       0\n",
              "gross margin percentage    0\n",
              "gross income               0\n",
              "Rating                     0\n",
              "dtype: int64"
            ]
          },
          "metadata": {},
          "execution_count": 24
        }
      ],
      "source": [
        "supermarket.isnull().sum()"
      ]
    },
    {
      "cell_type": "code",
      "execution_count": 25,
      "metadata": {
        "colab": {
          "base_uri": "https://localhost:8080/"
        },
        "id": "ujhD0AtOgLOI",
        "outputId": "dcc68f82-f4e3-4c4c-bca3-e50cdda6e6db"
      },
      "outputs": [
        {
          "output_type": "execute_result",
          "data": {
            "text/plain": [
              "Ewallet        345\n",
              "Cash           344\n",
              "Credit Card    311\n",
              "Name: Payment, dtype: int64"
            ]
          },
          "metadata": {},
          "execution_count": 25
        }
      ],
      "source": [
        "supermarket['City'].str.title().value_counts(dropna=False)\n",
        "supermarket['Customer type'].str.title().value_counts(dropna=False)\n",
        "supermarket['Gender'].str.title().value_counts(dropna=False)\n",
        "supermarket['Product line'].str.title().value_counts(dropna=False)\n",
        "supermarket['Payment'].str.title().value_counts(dropna=False)"
      ]
    },
    {
      "cell_type": "markdown",
      "metadata": {
        "id": "qmbQBU49Tmh0"
      },
      "source": [
        "#Branch A \n"
      ]
    },
    {
      "cell_type": "code",
      "execution_count": 26,
      "metadata": {
        "colab": {
          "base_uri": "https://localhost:8080/",
          "height": 346
        },
        "id": "84ImZcCnQNR9",
        "outputId": "e0c235a3-559c-48b7-9602-d7db46546cee"
      },
      "outputs": [
        {
          "output_type": "execute_result",
          "data": {
            "text/plain": [
              "    Invoice ID Branch    City Customer type  Gender        Product line  \\\n",
              "0  750-67-8428      A  Yangon        Member  Female   Health and beauty   \n",
              "2  631-41-3108      A  Yangon        Normal    Male  Home and lifestyle   \n",
              "3  123-19-1176      A  Yangon        Member    Male   Health and beauty   \n",
              "\n",
              "   Unit price  Quantity  Tax 5%  Total        Date   Time      Payment  \\\n",
              "0       74.69         7    26.1  549.0  2019-01-05  13:08      Ewallet   \n",
              "2       46.33         7    16.2  340.5  2019-03-03  13:23  Credit card   \n",
              "3       58.22         8    23.3  489.0  2019-01-27  20:33      Ewallet   \n",
              "\n",
              "     cogs  gross margin percentage  gross income  Rating  \n",
              "0  522.83                      4.8          26.0     9.1  \n",
              "2  324.31                      4.8          16.0     7.4  \n",
              "3  465.76                      4.8          23.0     8.4  "
            ],
            "text/html": [
              "\n",
              "  <div id=\"df-1a2f473e-7602-4dae-859e-91f9d4a134ed\">\n",
              "    <div class=\"colab-df-container\">\n",
              "      <div>\n",
              "<style scoped>\n",
              "    .dataframe tbody tr th:only-of-type {\n",
              "        vertical-align: middle;\n",
              "    }\n",
              "\n",
              "    .dataframe tbody tr th {\n",
              "        vertical-align: top;\n",
              "    }\n",
              "\n",
              "    .dataframe thead th {\n",
              "        text-align: right;\n",
              "    }\n",
              "</style>\n",
              "<table border=\"1\" class=\"dataframe\">\n",
              "  <thead>\n",
              "    <tr style=\"text-align: right;\">\n",
              "      <th></th>\n",
              "      <th>Invoice ID</th>\n",
              "      <th>Branch</th>\n",
              "      <th>City</th>\n",
              "      <th>Customer type</th>\n",
              "      <th>Gender</th>\n",
              "      <th>Product line</th>\n",
              "      <th>Unit price</th>\n",
              "      <th>Quantity</th>\n",
              "      <th>Tax 5%</th>\n",
              "      <th>Total</th>\n",
              "      <th>Date</th>\n",
              "      <th>Time</th>\n",
              "      <th>Payment</th>\n",
              "      <th>cogs</th>\n",
              "      <th>gross margin percentage</th>\n",
              "      <th>gross income</th>\n",
              "      <th>Rating</th>\n",
              "    </tr>\n",
              "  </thead>\n",
              "  <tbody>\n",
              "    <tr>\n",
              "      <th>0</th>\n",
              "      <td>750-67-8428</td>\n",
              "      <td>A</td>\n",
              "      <td>Yangon</td>\n",
              "      <td>Member</td>\n",
              "      <td>Female</td>\n",
              "      <td>Health and beauty</td>\n",
              "      <td>74.69</td>\n",
              "      <td>7</td>\n",
              "      <td>26.1</td>\n",
              "      <td>549.0</td>\n",
              "      <td>2019-01-05</td>\n",
              "      <td>13:08</td>\n",
              "      <td>Ewallet</td>\n",
              "      <td>522.83</td>\n",
              "      <td>4.8</td>\n",
              "      <td>26.0</td>\n",
              "      <td>9.1</td>\n",
              "    </tr>\n",
              "    <tr>\n",
              "      <th>2</th>\n",
              "      <td>631-41-3108</td>\n",
              "      <td>A</td>\n",
              "      <td>Yangon</td>\n",
              "      <td>Normal</td>\n",
              "      <td>Male</td>\n",
              "      <td>Home and lifestyle</td>\n",
              "      <td>46.33</td>\n",
              "      <td>7</td>\n",
              "      <td>16.2</td>\n",
              "      <td>340.5</td>\n",
              "      <td>2019-03-03</td>\n",
              "      <td>13:23</td>\n",
              "      <td>Credit card</td>\n",
              "      <td>324.31</td>\n",
              "      <td>4.8</td>\n",
              "      <td>16.0</td>\n",
              "      <td>7.4</td>\n",
              "    </tr>\n",
              "    <tr>\n",
              "      <th>3</th>\n",
              "      <td>123-19-1176</td>\n",
              "      <td>A</td>\n",
              "      <td>Yangon</td>\n",
              "      <td>Member</td>\n",
              "      <td>Male</td>\n",
              "      <td>Health and beauty</td>\n",
              "      <td>58.22</td>\n",
              "      <td>8</td>\n",
              "      <td>23.3</td>\n",
              "      <td>489.0</td>\n",
              "      <td>2019-01-27</td>\n",
              "      <td>20:33</td>\n",
              "      <td>Ewallet</td>\n",
              "      <td>465.76</td>\n",
              "      <td>4.8</td>\n",
              "      <td>23.0</td>\n",
              "      <td>8.4</td>\n",
              "    </tr>\n",
              "  </tbody>\n",
              "</table>\n",
              "</div>\n",
              "      <button class=\"colab-df-convert\" onclick=\"convertToInteractive('df-1a2f473e-7602-4dae-859e-91f9d4a134ed')\"\n",
              "              title=\"Convert this dataframe to an interactive table.\"\n",
              "              style=\"display:none;\">\n",
              "        \n",
              "  <svg xmlns=\"http://www.w3.org/2000/svg\" height=\"24px\"viewBox=\"0 0 24 24\"\n",
              "       width=\"24px\">\n",
              "    <path d=\"M0 0h24v24H0V0z\" fill=\"none\"/>\n",
              "    <path d=\"M18.56 5.44l.94 2.06.94-2.06 2.06-.94-2.06-.94-.94-2.06-.94 2.06-2.06.94zm-11 1L8.5 8.5l.94-2.06 2.06-.94-2.06-.94L8.5 2.5l-.94 2.06-2.06.94zm10 10l.94 2.06.94-2.06 2.06-.94-2.06-.94-.94-2.06-.94 2.06-2.06.94z\"/><path d=\"M17.41 7.96l-1.37-1.37c-.4-.4-.92-.59-1.43-.59-.52 0-1.04.2-1.43.59L10.3 9.45l-7.72 7.72c-.78.78-.78 2.05 0 2.83L4 21.41c.39.39.9.59 1.41.59.51 0 1.02-.2 1.41-.59l7.78-7.78 2.81-2.81c.8-.78.8-2.07 0-2.86zM5.41 20L4 18.59l7.72-7.72 1.47 1.35L5.41 20z\"/>\n",
              "  </svg>\n",
              "      </button>\n",
              "      \n",
              "  <style>\n",
              "    .colab-df-container {\n",
              "      display:flex;\n",
              "      flex-wrap:wrap;\n",
              "      gap: 12px;\n",
              "    }\n",
              "\n",
              "    .colab-df-convert {\n",
              "      background-color: #E8F0FE;\n",
              "      border: none;\n",
              "      border-radius: 50%;\n",
              "      cursor: pointer;\n",
              "      display: none;\n",
              "      fill: #1967D2;\n",
              "      height: 32px;\n",
              "      padding: 0 0 0 0;\n",
              "      width: 32px;\n",
              "    }\n",
              "\n",
              "    .colab-df-convert:hover {\n",
              "      background-color: #E2EBFA;\n",
              "      box-shadow: 0px 1px 2px rgba(60, 64, 67, 0.3), 0px 1px 3px 1px rgba(60, 64, 67, 0.15);\n",
              "      fill: #174EA6;\n",
              "    }\n",
              "\n",
              "    [theme=dark] .colab-df-convert {\n",
              "      background-color: #3B4455;\n",
              "      fill: #D2E3FC;\n",
              "    }\n",
              "\n",
              "    [theme=dark] .colab-df-convert:hover {\n",
              "      background-color: #434B5C;\n",
              "      box-shadow: 0px 1px 3px 1px rgba(0, 0, 0, 0.15);\n",
              "      filter: drop-shadow(0px 1px 2px rgba(0, 0, 0, 0.3));\n",
              "      fill: #FFFFFF;\n",
              "    }\n",
              "  </style>\n",
              "\n",
              "      <script>\n",
              "        const buttonEl =\n",
              "          document.querySelector('#df-1a2f473e-7602-4dae-859e-91f9d4a134ed button.colab-df-convert');\n",
              "        buttonEl.style.display =\n",
              "          google.colab.kernel.accessAllowed ? 'block' : 'none';\n",
              "\n",
              "        async function convertToInteractive(key) {\n",
              "          const element = document.querySelector('#df-1a2f473e-7602-4dae-859e-91f9d4a134ed');\n",
              "          const dataTable =\n",
              "            await google.colab.kernel.invokeFunction('convertToInteractive',\n",
              "                                                     [key], {});\n",
              "          if (!dataTable) return;\n",
              "\n",
              "          const docLinkHtml = 'Like what you see? Visit the ' +\n",
              "            '<a target=\"_blank\" href=https://colab.research.google.com/notebooks/data_table.ipynb>data table notebook</a>'\n",
              "            + ' to learn more about interactive tables.';\n",
              "          element.innerHTML = '';\n",
              "          dataTable['output_type'] = 'display_data';\n",
              "          await google.colab.output.renderOutput(dataTable, element);\n",
              "          const docLink = document.createElement('div');\n",
              "          docLink.innerHTML = docLinkHtml;\n",
              "          element.appendChild(docLink);\n",
              "        }\n",
              "      </script>\n",
              "    </div>\n",
              "  </div>\n",
              "  "
            ]
          },
          "metadata": {},
          "execution_count": 26
        }
      ],
      "source": [
        "branch_A = supermarket[supermarket['Branch']=='A']\n",
        "branch_A.head(3)"
      ]
    },
    {
      "cell_type": "code",
      "execution_count": 27,
      "metadata": {
        "colab": {
          "base_uri": "https://localhost:8080/",
          "height": 459
        },
        "id": "XLMYerbGOtvS",
        "outputId": "5fd44438-4032-4a9d-c1b9-d5c1d37dd3c4"
      },
      "outputs": [
        {
          "output_type": "stream",
          "name": "stderr",
          "text": [
            "/usr/local/lib/python3.7/dist-packages/ipykernel_launcher.py:2: SettingWithCopyWarning: \n",
            "A value is trying to be set on a copy of a slice from a DataFrame.\n",
            "Try using .loc[row_indexer,col_indexer] = value instead\n",
            "\n",
            "See the caveats in the documentation: https://pandas.pydata.org/pandas-docs/stable/user_guide/indexing.html#returning-a-view-versus-a-copy\n",
            "  \n",
            "/usr/local/lib/python3.7/dist-packages/pandas/core/indexing.py:719: FutureWarning: Slicing a positional slice with .loc is not supported, and will raise TypeError in a future version.  Use .loc with labels or .iloc with positions instead.\n",
            "  indexer = self._get_setitem_indexer(key)\n"
          ]
        },
        {
          "output_type": "execute_result",
          "data": {
            "text/plain": [
              "Date                    2019-01-31 00:00:00  2019-02-28 00:00:00  \\\n",
              "Product line                                                       \n",
              "Electronic accessories                298.0                255.0   \n",
              "Fashion accessories                   307.0                269.0   \n",
              "Food and beverages                    221.0                312.0   \n",
              "Health and beauty                     189.0                133.0   \n",
              "Home and lifestyle                    493.0                227.0   \n",
              "Sports and travel                     308.0                225.0   \n",
              "total                                1816.0               1421.0   \n",
              "\n",
              "Date                    2019-03-31 00:00:00  total income   \n",
              "Product line                                                \n",
              "Electronic accessories                320.0          873.0  \n",
              "Fashion accessories                   204.0          780.0  \n",
              "Food and beverages                    284.0          817.0  \n",
              "Health and beauty                     281.0          603.0  \n",
              "Home and lifestyle                    346.0         1066.0  \n",
              "Sports and travel                     385.0          918.0  \n",
              "total                                1820.0         5057.0  "
            ],
            "text/html": [
              "\n",
              "  <div id=\"df-df416613-e6f7-4ed2-8744-84984749aad3\">\n",
              "    <div class=\"colab-df-container\">\n",
              "      <div>\n",
              "<style scoped>\n",
              "    .dataframe tbody tr th:only-of-type {\n",
              "        vertical-align: middle;\n",
              "    }\n",
              "\n",
              "    .dataframe tbody tr th {\n",
              "        vertical-align: top;\n",
              "    }\n",
              "\n",
              "    .dataframe thead th {\n",
              "        text-align: right;\n",
              "    }\n",
              "</style>\n",
              "<table border=\"1\" class=\"dataframe\">\n",
              "  <thead>\n",
              "    <tr style=\"text-align: right;\">\n",
              "      <th>Date</th>\n",
              "      <th>2019-01-31 00:00:00</th>\n",
              "      <th>2019-02-28 00:00:00</th>\n",
              "      <th>2019-03-31 00:00:00</th>\n",
              "      <th>total income</th>\n",
              "    </tr>\n",
              "    <tr>\n",
              "      <th>Product line</th>\n",
              "      <th></th>\n",
              "      <th></th>\n",
              "      <th></th>\n",
              "      <th></th>\n",
              "    </tr>\n",
              "  </thead>\n",
              "  <tbody>\n",
              "    <tr>\n",
              "      <th>Electronic accessories</th>\n",
              "      <td>298.0</td>\n",
              "      <td>255.0</td>\n",
              "      <td>320.0</td>\n",
              "      <td>873.0</td>\n",
              "    </tr>\n",
              "    <tr>\n",
              "      <th>Fashion accessories</th>\n",
              "      <td>307.0</td>\n",
              "      <td>269.0</td>\n",
              "      <td>204.0</td>\n",
              "      <td>780.0</td>\n",
              "    </tr>\n",
              "    <tr>\n",
              "      <th>Food and beverages</th>\n",
              "      <td>221.0</td>\n",
              "      <td>312.0</td>\n",
              "      <td>284.0</td>\n",
              "      <td>817.0</td>\n",
              "    </tr>\n",
              "    <tr>\n",
              "      <th>Health and beauty</th>\n",
              "      <td>189.0</td>\n",
              "      <td>133.0</td>\n",
              "      <td>281.0</td>\n",
              "      <td>603.0</td>\n",
              "    </tr>\n",
              "    <tr>\n",
              "      <th>Home and lifestyle</th>\n",
              "      <td>493.0</td>\n",
              "      <td>227.0</td>\n",
              "      <td>346.0</td>\n",
              "      <td>1066.0</td>\n",
              "    </tr>\n",
              "    <tr>\n",
              "      <th>Sports and travel</th>\n",
              "      <td>308.0</td>\n",
              "      <td>225.0</td>\n",
              "      <td>385.0</td>\n",
              "      <td>918.0</td>\n",
              "    </tr>\n",
              "    <tr>\n",
              "      <th>total</th>\n",
              "      <td>1816.0</td>\n",
              "      <td>1421.0</td>\n",
              "      <td>1820.0</td>\n",
              "      <td>5057.0</td>\n",
              "    </tr>\n",
              "  </tbody>\n",
              "</table>\n",
              "</div>\n",
              "      <button class=\"colab-df-convert\" onclick=\"convertToInteractive('df-df416613-e6f7-4ed2-8744-84984749aad3')\"\n",
              "              title=\"Convert this dataframe to an interactive table.\"\n",
              "              style=\"display:none;\">\n",
              "        \n",
              "  <svg xmlns=\"http://www.w3.org/2000/svg\" height=\"24px\"viewBox=\"0 0 24 24\"\n",
              "       width=\"24px\">\n",
              "    <path d=\"M0 0h24v24H0V0z\" fill=\"none\"/>\n",
              "    <path d=\"M18.56 5.44l.94 2.06.94-2.06 2.06-.94-2.06-.94-.94-2.06-.94 2.06-2.06.94zm-11 1L8.5 8.5l.94-2.06 2.06-.94-2.06-.94L8.5 2.5l-.94 2.06-2.06.94zm10 10l.94 2.06.94-2.06 2.06-.94-2.06-.94-.94-2.06-.94 2.06-2.06.94z\"/><path d=\"M17.41 7.96l-1.37-1.37c-.4-.4-.92-.59-1.43-.59-.52 0-1.04.2-1.43.59L10.3 9.45l-7.72 7.72c-.78.78-.78 2.05 0 2.83L4 21.41c.39.39.9.59 1.41.59.51 0 1.02-.2 1.41-.59l7.78-7.78 2.81-2.81c.8-.78.8-2.07 0-2.86zM5.41 20L4 18.59l7.72-7.72 1.47 1.35L5.41 20z\"/>\n",
              "  </svg>\n",
              "      </button>\n",
              "      \n",
              "  <style>\n",
              "    .colab-df-container {\n",
              "      display:flex;\n",
              "      flex-wrap:wrap;\n",
              "      gap: 12px;\n",
              "    }\n",
              "\n",
              "    .colab-df-convert {\n",
              "      background-color: #E8F0FE;\n",
              "      border: none;\n",
              "      border-radius: 50%;\n",
              "      cursor: pointer;\n",
              "      display: none;\n",
              "      fill: #1967D2;\n",
              "      height: 32px;\n",
              "      padding: 0 0 0 0;\n",
              "      width: 32px;\n",
              "    }\n",
              "\n",
              "    .colab-df-convert:hover {\n",
              "      background-color: #E2EBFA;\n",
              "      box-shadow: 0px 1px 2px rgba(60, 64, 67, 0.3), 0px 1px 3px 1px rgba(60, 64, 67, 0.15);\n",
              "      fill: #174EA6;\n",
              "    }\n",
              "\n",
              "    [theme=dark] .colab-df-convert {\n",
              "      background-color: #3B4455;\n",
              "      fill: #D2E3FC;\n",
              "    }\n",
              "\n",
              "    [theme=dark] .colab-df-convert:hover {\n",
              "      background-color: #434B5C;\n",
              "      box-shadow: 0px 1px 3px 1px rgba(0, 0, 0, 0.15);\n",
              "      filter: drop-shadow(0px 1px 2px rgba(0, 0, 0, 0.3));\n",
              "      fill: #FFFFFF;\n",
              "    }\n",
              "  </style>\n",
              "\n",
              "      <script>\n",
              "        const buttonEl =\n",
              "          document.querySelector('#df-df416613-e6f7-4ed2-8744-84984749aad3 button.colab-df-convert');\n",
              "        buttonEl.style.display =\n",
              "          google.colab.kernel.accessAllowed ? 'block' : 'none';\n",
              "\n",
              "        async function convertToInteractive(key) {\n",
              "          const element = document.querySelector('#df-df416613-e6f7-4ed2-8744-84984749aad3');\n",
              "          const dataTable =\n",
              "            await google.colab.kernel.invokeFunction('convertToInteractive',\n",
              "                                                     [key], {});\n",
              "          if (!dataTable) return;\n",
              "\n",
              "          const docLinkHtml = 'Like what you see? Visit the ' +\n",
              "            '<a target=\"_blank\" href=https://colab.research.google.com/notebooks/data_table.ipynb>data table notebook</a>'\n",
              "            + ' to learn more about interactive tables.';\n",
              "          element.innerHTML = '';\n",
              "          dataTable['output_type'] = 'display_data';\n",
              "          await google.colab.output.renderOutput(dataTable, element);\n",
              "          const docLink = document.createElement('div');\n",
              "          docLink.innerHTML = docLinkHtml;\n",
              "          element.appendChild(docLink);\n",
              "        }\n",
              "      </script>\n",
              "    </div>\n",
              "  </div>\n",
              "  "
            ]
          },
          "metadata": {},
          "execution_count": 27
        }
      ],
      "source": [
        "#the gross income of every product line per month\n",
        "branch_A['Date'] = pd.to_datetime(branch_A['Date'], errors='coerce')\n",
        "a = (branch_A.groupby(['Product line', pd.Grouper(freq='M', key='Date', closed='left')])\n",
        "             ['gross income']\n",
        "             .sum().round(0)\n",
        "             .unstack(fill_value=0))\n",
        "a['total income '] = a.iloc[0:].sum(axis=1) \n",
        "a.loc['total',0:]= a.sum(axis=0)\n",
        "a\n",
        "#wanna get the rush hours (the most time having customers)???????"
      ]
    },
    {
      "cell_type": "code",
      "execution_count": 28,
      "metadata": {
        "colab": {
          "base_uri": "https://localhost:8080/",
          "height": 158
        },
        "id": "scWEHb_DCKhZ",
        "outputId": "3500bc2d-ae68-4a16-e4c7-fb279d5237b9"
      },
      "outputs": [
        {
          "output_type": "display_data",
          "data": {
            "text/plain": [
              "<Figure size 720x144 with 1 Axes>"
            ],
            "image/png": "[encoded data removed]"
          },
          "metadata": {
            "needs_background": "light"
          }
        }
      ],
      "source": [
        "#total profit of every product line \n",
        "product_income = branch_A.groupby(['Product line'])['gross income'].sum().reset_index()\n",
        "fig, ax = plt.subplots(figsize=(10,2))\n",
        "ax.barh(product_income.iloc[:,0], product_income.iloc[:,1], color='crimson')\n",
        "for s in ['top','bottom','left','right']:\n",
        "    ax.spines[s].set_visible(False)\n",
        "\n",
        "ax.xaxis.set_ticks_position('none')\n",
        "ax.yaxis.set_ticks_position('none')\n",
        "\n",
        "ax.xaxis.set_tick_params(pad=5)\n",
        "ax.yaxis.set_tick_params(pad=10)\n",
        "\n",
        "ax.grid(b=True, color='grey', linestyle='-.', linewidth=0.5, alpha=0.2)\n",
        "ax.invert_yaxis()\n",
        "\n",
        "for i in ax.patches:\n",
        "    ax.text(i.get_width()+100, i.get_y()+0.5, str(round((i.get_width()), 2)),\n",
        "            fontsize=10, fontweight='bold', color='grey')\n",
        "\n",
        "fig.text(0.9, 0.15, '@bmanohar16', fontsize=12, color='grey',\n",
        "         ha='right', va='bottom', alpha=0.5)\n",
        "\n",
        "fig.savefig('', dpi=100,\n",
        "            bbox_inches='tight')\n",
        "plt.show()"
      ]
    },
    {
      "cell_type": "code",
      "execution_count": 29,
      "metadata": {
        "colab": {
          "base_uri": "https://localhost:8080/",
          "height": 459
        },
        "id": "LwNaoUQMMnuk",
        "outputId": "39a9e667-cb32-4455-c906-f715e0f92689"
      },
      "outputs": [
        {
          "output_type": "stream",
          "name": "stderr",
          "text": [
            "/usr/local/lib/python3.7/dist-packages/ipykernel_launcher.py:3: SettingWithCopyWarning: \n",
            "A value is trying to be set on a copy of a slice from a DataFrame.\n",
            "Try using .loc[row_indexer,col_indexer] = value instead\n",
            "\n",
            "See the caveats in the documentation: https://pandas.pydata.org/pandas-docs/stable/user_guide/indexing.html#returning-a-view-versus-a-copy\n",
            "  This is separate from the ipykernel package so we can avoid doing imports until\n",
            "/usr/local/lib/python3.7/dist-packages/pandas/core/indexing.py:719: FutureWarning: Slicing a positional slice with .loc is not supported, and will raise TypeError in a future version.  Use .loc with labels or .iloc with positions instead.\n",
            "  indexer = self._get_setitem_indexer(key)\n"
          ]
        },
        {
          "output_type": "execute_result",
          "data": {
            "text/plain": [
              "Date                    2019-01-31 00:00:00  2019-02-28 00:00:00  \\\n",
              "Product line                                                       \n",
              "Electronic accessories                112.0                 94.0   \n",
              "Fashion accessories                   106.0                 87.0   \n",
              "Food and beverages                     90.0                121.0   \n",
              "Health and beauty                      70.0                 52.0   \n",
              "Home and lifestyle                    175.0                 68.0   \n",
              "Sports and travel                     119.0                 75.0   \n",
              "total per month                       672.0                497.0   \n",
              "\n",
              "Date                    2019-03-31 00:00:00  total quantity   \n",
              "Product line                                                  \n",
              "Electronic accessories                116.0            322.0  \n",
              "Fashion accessories                    70.0            263.0  \n",
              "Food and beverages                    102.0            313.0  \n",
              "Health and beauty                     135.0            257.0  \n",
              "Home and lifestyle                    128.0            371.0  \n",
              "Sports and travel                     139.0            333.0  \n",
              "total per month                       690.0           1859.0  "
            ],
            "text/html": [
              "\n",
              "  <div id=\"df-b99bddf1-38be-4fbc-a3b6-0a4df995611f\">\n",
              "    <div class=\"colab-df-container\">\n",
              "      <div>\n",
              "<style scoped>\n",
              "    .dataframe tbody tr th:only-of-type {\n",
              "        vertical-align: middle;\n",
              "    }\n",
              "\n",
              "    .dataframe tbody tr th {\n",
              "        vertical-align: top;\n",
              "    }\n",
              "\n",
              "    .dataframe thead th {\n",
              "        text-align: right;\n",
              "    }\n",
              "</style>\n",
              "<table border=\"1\" class=\"dataframe\">\n",
              "  <thead>\n",
              "    <tr style=\"text-align: right;\">\n",
              "      <th>Date</th>\n",
              "      <th>2019-01-31 00:00:00</th>\n",
              "      <th>2019-02-28 00:00:00</th>\n",
              "      <th>2019-03-31 00:00:00</th>\n",
              "      <th>total quantity</th>\n",
              "    </tr>\n",
              "    <tr>\n",
              "      <th>Product line</th>\n",
              "      <th></th>\n",
              "      <th></th>\n",
              "      <th></th>\n",
              "      <th></th>\n",
              "    </tr>\n",
              "  </thead>\n",
              "  <tbody>\n",
              "    <tr>\n",
              "      <th>Electronic accessories</th>\n",
              "      <td>112.0</td>\n",
              "      <td>94.0</td>\n",
              "      <td>116.0</td>\n",
              "      <td>322.0</td>\n",
              "    </tr>\n",
              "    <tr>\n",
              "      <th>Fashion accessories</th>\n",
              "      <td>106.0</td>\n",
              "      <td>87.0</td>\n",
              "      <td>70.0</td>\n",
              "      <td>263.0</td>\n",
              "    </tr>\n",
              "    <tr>\n",
              "      <th>Food and beverages</th>\n",
              "      <td>90.0</td>\n",
              "      <td>121.0</td>\n",
              "      <td>102.0</td>\n",
              "      <td>313.0</td>\n",
              "    </tr>\n",
              "    <tr>\n",
              "      <th>Health and beauty</th>\n",
              "      <td>70.0</td>\n",
              "      <td>52.0</td>\n",
              "      <td>135.0</td>\n",
              "      <td>257.0</td>\n",
              "    </tr>\n",
              "    <tr>\n",
              "      <th>Home and lifestyle</th>\n",
              "      <td>175.0</td>\n",
              "      <td>68.0</td>\n",
              "      <td>128.0</td>\n",
              "      <td>371.0</td>\n",
              "    </tr>\n",
              "    <tr>\n",
              "      <th>Sports and travel</th>\n",
              "      <td>119.0</td>\n",
              "      <td>75.0</td>\n",
              "      <td>139.0</td>\n",
              "      <td>333.0</td>\n",
              "    </tr>\n",
              "    <tr>\n",
              "      <th>total per month</th>\n",
              "      <td>672.0</td>\n",
              "      <td>497.0</td>\n",
              "      <td>690.0</td>\n",
              "      <td>1859.0</td>\n",
              "    </tr>\n",
              "  </tbody>\n",
              "</table>\n",
              "</div>\n",
              "      <button class=\"colab-df-convert\" onclick=\"convertToInteractive('df-b99bddf1-38be-4fbc-a3b6-0a4df995611f')\"\n",
              "              title=\"Convert this dataframe to an interactive table.\"\n",
              "              style=\"display:none;\">\n",
              "        \n",
              "  <svg xmlns=\"http://www.w3.org/2000/svg\" height=\"24px\"viewBox=\"0 0 24 24\"\n",
              "       width=\"24px\">\n",
              "    <path d=\"M0 0h24v24H0V0z\" fill=\"none\"/>\n",
              "    <path d=\"M18.56 5.44l.94 2.06.94-2.06 2.06-.94-2.06-.94-.94-2.06-.94 2.06-2.06.94zm-11 1L8.5 8.5l.94-2.06 2.06-.94-2.06-.94L8.5 2.5l-.94 2.06-2.06.94zm10 10l.94 2.06.94-2.06 2.06-.94-2.06-.94-.94-2.06-.94 2.06-2.06.94z\"/><path d=\"M17.41 7.96l-1.37-1.37c-.4-.4-.92-.59-1.43-.59-.52 0-1.04.2-1.43.59L10.3 9.45l-7.72 7.72c-.78.78-.78 2.05 0 2.83L4 21.41c.39.39.9.59 1.41.59.51 0 1.02-.2 1.41-.59l7.78-7.78 2.81-2.81c.8-.78.8-2.07 0-2.86zM5.41 20L4 18.59l7.72-7.72 1.47 1.35L5.41 20z\"/>\n",
              "  </svg>\n",
              "      </button>\n",
              "      \n",
              "  <style>\n",
              "    .colab-df-container {\n",
              "      display:flex;\n",
              "      flex-wrap:wrap;\n",
              "      gap: 12px;\n",
              "    }\n",
              "\n",
              "    .colab-df-convert {\n",
              "      background-color: #E8F0FE;\n",
              "      border: none;\n",
              "      border-radius: 50%;\n",
              "      cursor: pointer;\n",
              "      display: none;\n",
              "      fill: #1967D2;\n",
              "      height: 32px;\n",
              "      padding: 0 0 0 0;\n",
              "      width: 32px;\n",
              "    }\n",
              "\n",
              "    .colab-df-convert:hover {\n",
              "      background-color: #E2EBFA;\n",
              "      box-shadow: 0px 1px 2px rgba(60, 64, 67, 0.3), 0px 1px 3px 1px rgba(60, 64, 67, 0.15);\n",
              "      fill: #174EA6;\n",
              "    }\n",
              "\n",
              "    [theme=dark] .colab-df-convert {\n",
              "      background-color: #3B4455;\n",
              "      fill: #D2E3FC;\n",
              "    }\n",
              "\n",
              "    [theme=dark] .colab-df-convert:hover {\n",
              "      background-color: #434B5C;\n",
              "      box-shadow: 0px 1px 3px 1px rgba(0, 0, 0, 0.15);\n",
              "      filter: drop-shadow(0px 1px 2px rgba(0, 0, 0, 0.3));\n",
              "      fill: #FFFFFF;\n",
              "    }\n",
              "  </style>\n",
              "\n",
              "      <script>\n",
              "        const buttonEl =\n",
              "          document.querySelector('#df-b99bddf1-38be-4fbc-a3b6-0a4df995611f button.colab-df-convert');\n",
              "        buttonEl.style.display =\n",
              "          google.colab.kernel.accessAllowed ? 'block' : 'none';\n",
              "\n",
              "        async function convertToInteractive(key) {\n",
              "          const element = document.querySelector('#df-b99bddf1-38be-4fbc-a3b6-0a4df995611f');\n",
              "          const dataTable =\n",
              "            await google.colab.kernel.invokeFunction('convertToInteractive',\n",
              "                                                     [key], {});\n",
              "          if (!dataTable) return;\n",
              "\n",
              "          const docLinkHtml = 'Like what you see? Visit the ' +\n",
              "            '<a target=\"_blank\" href=https://colab.research.google.com/notebooks/data_table.ipynb>data table notebook</a>'\n",
              "            + ' to learn more about interactive tables.';\n",
              "          element.innerHTML = '';\n",
              "          dataTable['output_type'] = 'display_data';\n",
              "          await google.colab.output.renderOutput(dataTable, element);\n",
              "          const docLink = document.createElement('div');\n",
              "          docLink.innerHTML = docLinkHtml;\n",
              "          element.appendChild(docLink);\n",
              "        }\n",
              "      </script>\n",
              "    </div>\n",
              "  </div>\n",
              "  "
            ]
          },
          "metadata": {},
          "execution_count": 29
        }
      ],
      "source": [
        "#most and less used product\n",
        "\n",
        "branch_A['Date'] = pd.to_datetime(branch_A['Date'], errors='coerce')\n",
        "quntity = (branch_A.groupby(['Product line', pd.Grouper(freq='M', key='Date', closed='left')])\n",
        "             ['Quantity']\n",
        "             .sum().round(0)\n",
        "             .unstack(fill_value=0))\n",
        "quntity['total quantity '] = quntity.iloc[0:].sum(axis=1) \n",
        "quntity.loc['total per month',0:]= quntity.sum(axis=0)\n",
        "quntity"
      ]
    },
    {
      "cell_type": "code",
      "execution_count": null,
      "metadata": {
        "id": "yr5V_aup3rXZ"
      },
      "outputs": [],
      "source": [
        "#most used product line\n",
        "slices = branch_A.groupby(['Product line'])['Quantity'].sum()\n",
        "labels = 'Electronic accessories','Fashon accessories','Food and beverages','Health and beauty','Home and lifestyle','Sports and travel'\n",
        "explode = (0, 0, 0, 0, 0.1, 0)\n",
        "plt.pie(slices, labels=labels, explode=explode,autopct='%1.1f%%')"
      ]
    },
    {
      "cell_type": "code",
      "execution_count": null,
      "metadata": {
        "id": "Hb4UKsKZ5S1A"
      },
      "outputs": [],
      "source": [
        "#most product line used by males and females\n",
        "per_gender = pd.pivot_table(branch_A, values='Quantity', index=['Product line'],\n",
        "                    columns=['Gender'], aggfunc='count')\n",
        "per_gender.sns.histplot(width =0.6, edgecolor = 'black')\n",
        "sns.barplot(x=df.index, y=\"Amount\", data=per_gender)"
      ]
    },
    {
      "cell_type": "code",
      "execution_count": null,
      "metadata": {
        "id": "_bSOcGgoGkyd"
      },
      "outputs": [],
      "source": [
        "#perc. of who visit more \n",
        "slice = branch_A['Gender'].value_counts()\n",
        "labels = 'Female','Male'\n",
        "plt.pie(slice, labels=labels, autopct='%1.1f%%')"
      ]
    },
    {
      "cell_type": "code",
      "execution_count": null,
      "metadata": {
        "id": "5ITr7n9rfXlA"
      },
      "outputs": [],
      "source": [
        "#the visitors in every month\n",
        "visitors =  (branch_A.groupby(['Gender', pd.Grouper(freq='M', key='Date', closed='left')])\n",
        "             ['Gender'].count()\n",
        "            .unstack(fill_value=0))\n",
        "visitors.plot(kind='bar',width=0.4)"
      ]
    },
    {
      "cell_type": "markdown",
      "metadata": {
        "id": "dlvelTJ6JFM3"
      },
      "source": [
        "#Branch B"
      ]
    },
    {
      "cell_type": "code",
      "execution_count": null,
      "metadata": {
        "id": "AgKWuAuMKnie"
      },
      "outputs": [],
      "source": [
        "#Branch 'B'\n",
        "branch_B = supermarket[supermarket['Branch']=='B']\n",
        "branch_B.head()"
      ]
    },
    {
      "cell_type": "code",
      "execution_count": null,
      "metadata": {
        "id": "oYG5P5v-QWfc"
      },
      "outputs": [],
      "source": [
        "#the gross income of every product line per month\n",
        "\n",
        "branch_B['Date'] = pd.to_datetime(branch_B['Date'], errors='coerce')\n",
        "b = (branch_B.groupby(['Product line', pd.Grouper(freq='M', key='Date', closed='left')])\n",
        "             ['gross income']\n",
        "             .sum().round(0)\n",
        "             .unstack(fill_value=0))\n",
        "b['total income '] = b.iloc[0:].sum(axis=1) \n",
        "b.loc['total per month',0:]= b.sum(axis=0)\n",
        "b"
      ]
    },
    {
      "cell_type": "code",
      "execution_count": null,
      "metadata": {
        "id": "dt92pdVCRvmg"
      },
      "outputs": [],
      "source": [
        "#total profit of every product line \n",
        "product_income_b = branch_B.groupby(['Product line'])['gross income'].sum().reset_index()\n",
        "fig, ax = plt.subplots(figsize=(10,2))\n",
        "ax.barh(product_income_b.iloc[:,0], product_income_b.iloc[:,1], color='crimson')\n",
        "for s in ['top','bottom','left','right']:\n",
        "    ax.spines[s].set_visible(False)\n",
        "\n",
        "ax.xaxis.set_ticks_position('none')\n",
        "ax.yaxis.set_ticks_position('none')\n",
        "\n",
        "ax.xaxis.set_tick_params(pad=5)\n",
        "ax.yaxis.set_tick_params(pad=10)\n",
        "\n",
        "ax.grid(b=True, color='grey', linestyle='-.', linewidth=0.5, alpha=0.2)\n",
        "ax.invert_yaxis()\n",
        "for i in ax.patches:\n",
        "    ax.text(i.get_width()+100, i.get_y()+0.5, str(round((i.get_width()), 2)),\n",
        "            fontsize=10, fontweight='bold', color='grey')\n",
        "\n",
        "fig.text(0.9, 0.15, '@bmanohar16', fontsize=12, color='grey',\n",
        "         ha='right', va='bottom', alpha=0.5)\n",
        "\n",
        "plt.show()"
      ]
    },
    {
      "cell_type": "code",
      "execution_count": null,
      "metadata": {
        "id": "3licqwwjKjPy"
      },
      "outputs": [],
      "source": [
        "#most and less used product\n",
        "branch_B['Date'] = pd.to_datetime(branch_B['Date'], errors='coerce')\n",
        "quntityb = (branch_B.groupby(['Product line', pd.Grouper(freq='M', key='Date', closed='left')])\n",
        "             ['Quantity']\n",
        "             .sum().round(0)\n",
        "             .unstack(fill_value=0))\n",
        "quntityb['total quantity '] = quntityb.iloc[0:].sum(axis=1) \n",
        "quntityb.loc['total per month',0:]= quntityb.sum(axis=0)\n",
        "quntityb"
      ]
    },
    {
      "cell_type": "code",
      "execution_count": null,
      "metadata": {
        "id": "p6GRzUezLKof"
      },
      "outputs": [],
      "source": [
        "#most product line used by males and females\n",
        "per_gender_b = pd.pivot_table(branch_B, values='Quantity', index=['Product line'],\n",
        "                    columns=['Gender'], aggfunc='count')\n",
        "per_gender_b.plot.bar(width =0.6, edgecolor = 'black')"
      ]
    },
    {
      "cell_type": "code",
      "execution_count": null,
      "metadata": {
        "id": "nBaa8E7bMMHz"
      },
      "outputs": [],
      "source": [
        "#most used product line\n",
        "slices = branch_B.groupby(['Product line'])['Quantity'].sum()\n",
        "labels = 'Electronic accessories','Fashon accessories','Food and beverages','Health and beauty','Home and lifestyle','Sports and travel'\n",
        "explode = (0, 0, 0, 0.1, 0, 0.1)\n",
        "plt.pie(slices, labels=labels, explode=explode,autopct='%1.1f%%')"
      ]
    },
    {
      "cell_type": "code",
      "execution_count": null,
      "metadata": {
        "id": "cf82nImtMz5R"
      },
      "outputs": [],
      "source": [
        "#perc. of who visit more \n",
        "slice = branch_B['Gender'].value_counts()\n",
        "labels = 'Female','Male'\n",
        "plt.pie(slice, labels=labels, autopct='%1.1f%%')"
      ]
    },
    {
      "cell_type": "code",
      "execution_count": null,
      "metadata": {
        "id": "r-KrJpciljsv"
      },
      "outputs": [],
      "source": [
        "#the visitors in every month\n",
        "visitorsb =  (branch_B.groupby(['Gender', pd.Grouper(freq='M', key='Date', closed='left')])\n",
        "             ['Gender'].count()\n",
        "            .unstack(fill_value=0))\n",
        "visitorsb.plot(kind='bar',width=0.3)"
      ]
    },
    {
      "cell_type": "markdown",
      "metadata": {
        "id": "Lc-dycN7MiG3"
      },
      "source": [
        "#Branch C"
      ]
    },
    {
      "cell_type": "code",
      "execution_count": null,
      "metadata": {
        "id": "owUngd7OMUgc"
      },
      "outputs": [],
      "source": [
        "#Branch 'C'\n",
        "branch_C = supermarket[supermarket['Branch']=='C']\n",
        "branch_C.head()"
      ]
    },
    {
      "cell_type": "code",
      "execution_count": null,
      "metadata": {
        "id": "zpvTbTdoQjDh"
      },
      "outputs": [],
      "source": [
        "branch_C['Date'] = pd.to_datetime(branch_C['Date'], errors='coerce')\n",
        "c = (branch_A.groupby(['Product line', pd.Grouper(freq='M', key='Date', closed='left')])\n",
        "             ['gross income']\n",
        "             .sum().round(0)\n",
        "             .unstack(fill_value=0))\n",
        "c['total income '] = c.iloc[0:].sum(axis=1) \n",
        "c.loc['total per month',0:]= c.sum(axis=0)\n",
        "c"
      ]
    },
    {
      "cell_type": "code",
      "execution_count": null,
      "metadata": {
        "id": "WGvZMI3NNOhO"
      },
      "outputs": [],
      "source": [
        "#total profit of every product line \n",
        "product_income_c = branch_C.groupby(['Product line'])['gross income'].sum().reset_index()\n",
        "fig, ax = plt.subplots(figsize=(10,2))\n",
        "ax.barh(product_income_c.iloc[:,0], product_income_c.iloc[:,1], color='crimson')\n",
        "for s in ['top','bottom','left','right']:\n",
        "    ax.spines[s].set_visible(False)\n",
        "\n",
        "ax.xaxis.set_ticks_position('none')\n",
        "ax.yaxis.set_ticks_position('none')\n",
        "\n",
        "ax.xaxis.set_tick_params(pad=5)\n",
        "ax.yaxis.set_tick_params(pad=10)\n",
        "\n",
        "ax.grid(b=True, color='grey', linestyle='-.', linewidth=0.5, alpha=0.2)\n",
        "ax.invert_yaxis()\n",
        "for i in ax.patches:\n",
        "    ax.text(i.get_width()+100, i.get_y()+0.5, str(round((i.get_width()), 2)),\n",
        "            fontsize=10, fontweight='bold', color='grey')\n",
        "\n",
        "fig.text(0.9, 0.15, '@bmanohar16', fontsize=12, color='grey',\n",
        "         ha='right', va='bottom', alpha=0.5) \n",
        "\n",
        "plt.show()"
      ]
    },
    {
      "cell_type": "code",
      "execution_count": null,
      "metadata": {
        "id": "utkOoTRpNXnu"
      },
      "outputs": [],
      "source": [
        "#most and less used product\n",
        "branch_C['Date'] = pd.to_datetime(branch_C['Date'], errors='coerce')\n",
        "quntity_c = (branch_B.groupby(['Product line', pd.Grouper(freq='M', key='Date', closed='left')])\n",
        "             ['Quantity']\n",
        "             .sum().round(0)\n",
        "             .unstack(fill_value=0))\n",
        "quntity_c['total quantity '] = quntity_c.iloc[0:].sum(axis=1) \n",
        "quntity_c.loc['total per month',0:] = quntity_c.sum(axis=0)\n",
        "quntity_c"
      ]
    },
    {
      "cell_type": "code",
      "execution_count": null,
      "metadata": {
        "id": "Vyult2WJNj3v"
      },
      "outputs": [],
      "source": [
        "#most product line used by males and females\n",
        "per_gender_c = pd.pivot_table(branch_C, values='Quantity', index=['Product line'],\n",
        "                    columns=['Gender'], aggfunc='count')\n",
        "per_gender_c.plot.bar(width =0.6, edgecolor = 'black')"
      ]
    },
    {
      "cell_type": "code",
      "execution_count": null,
      "metadata": {
        "id": "6-gE5PWmNrbI"
      },
      "outputs": [],
      "source": [
        "#most used product line\n",
        "slices = branch_C.groupby(['Product line'])['Quantity'].sum()\n",
        "labels = 'Electronic accessories','Fashon accessories','Food and beverages','Health and beauty','Home and lifestyle','Sports and travel'\n",
        "explode = (0, 0, 0, 0.1, 0, 0.1)\n",
        "plt.pie(slices, labels=labels, explode=explode,autopct='%1.1f%%')"
      ]
    },
    {
      "cell_type": "code",
      "execution_count": null,
      "metadata": {
        "id": "Xlq7hKXLNxUG"
      },
      "outputs": [],
      "source": [
        "#perc. of who visit more \n",
        "slice = branch_C['Gender'].value_counts()\n",
        "labels = 'Female','Male'\n",
        "plt.pie(slice, labels=labels, autopct='%1.1f%%')"
      ]
    },
    {
      "cell_type": "code",
      "execution_count": null,
      "metadata": {
        "id": "7D5XGV70nd2P"
      },
      "outputs": [],
      "source": [
        "#the visitors in every month\n",
        "# what's the error???\n",
        "branch_C['Date'] = pd.to_datetime(branch_C['Date'], errors='coerce')\n",
        "visitorsc =  (branch_C.groupby(['Gender', pd.Grouper(freq='M', key='Date', closed='left')])\n",
        "             ['Gender'].count()\n",
        "            .unstack(fill_value=0))\n",
        "visitorsc.plot(kind='bar',width=0.3)"
      ]
    },
    {
      "cell_type": "markdown",
      "metadata": {
        "id": "ZsSrdEGYOHqT"
      },
      "source": [
        "#Comparing between the 3 branches"
      ]
    },
    {
      "cell_type": "code",
      "execution_count": null,
      "metadata": {
        "id": "V5agpSNqUlXj"
      },
      "outputs": [],
      "source": [
        "#comparing between the quantity of the products line of each branch\n",
        "quantity = pd.pivot_table(supermarket, values='Quantity', index=['Product line'],\n",
        "                           columns=['Branch'], aggfunc='sum')\n",
        "quantity.plot(kind='bar')"
      ]
    },
    {
      "cell_type": "code",
      "execution_count": null,
      "metadata": {
        "id": "w92gXqvQOTFZ"
      },
      "outputs": [],
      "source": [
        "#wanna show the value of the each one??\n",
        "\n",
        "brancha = branch_A['gross income'].sum()\n",
        "branchb = branch_B['gross income'].sum()\n",
        "branchc = branch_C['gross income'].sum()\n",
        "\n",
        "slices1 = brancha, branchb, branchc\n",
        "labels1 = 'A', 'B','C'\n",
        "explode = (0,0,0.1 )\n",
        "plt.pie(slices1, labels=labels1, autopct='%1.1f%%', explode=explode)"
      ]
    },
    {
      "cell_type": "code",
      "execution_count": null,
      "metadata": {
        "id": "JC2yuAdt7Vgj"
      },
      "outputs": [],
      "source": [
        "#customers vists per month\n",
        "supermarket['Date'] = pd.to_datetime(supermarket['Date'], errors='coerce')\n",
        "gender = (supermarket.groupby(['Gender', pd.Grouper(freq='M', key='Date', closed='right')])\n",
        "             ['Gender'].count()\n",
        "            .unstack(fill_value=0))\n",
        "gender.plot(kind='bar',width=0.3, edgecolor = 'black')"
      ]
    },
    {
      "cell_type": "code",
      "execution_count": 54,
      "metadata": {
        "id": "EUNqAPCUTMpQ"
      },
      "outputs": [],
      "source": [
        "#supermarket.to_csv('supermarket.csv',encoding = 'utf-8-sig')\n",
        "#files.download('supermarket.csv')"
      ]
    }
  ],
  "metadata": {
    "colab": {
      "collapsed_sections": [],
      "name": "supermaket sales.ipynb",
      "provenance": [],
      "mount_file_id": "1u4nsNAvlNKiuLfpz67jCV2VcCUFUtUsx",
      "authorship_tag": "ABX9TyO4XUjN0JtCnOUclKLGGmbE",
      "include_colab_link": true
    },
    "kernelspec": {
      "display_name": "Python 3",
      "name": "python3"
    },
    "language_info": {
      "name": "python"
    }
  },
  "nbformat": 4,
  "nbformat_minor": 0
}